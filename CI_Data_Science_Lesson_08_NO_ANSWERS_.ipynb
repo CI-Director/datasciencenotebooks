{
  "cells": [
    {
      "cell_type": "markdown",
      "metadata": {
        "id": "fGeC890o8svo"
      },
      "source": [
        "<a href=\"https://codeimmersives.com\"><img src = \"https://www.codeimmersives.com/wp-content/uploads/2019/09/CodeImmersives_Logo_RGB_NYC_BW.png\" width = 400> </a>\n",
        "\n",
        "\n",
        "<h1 align=center><font size = 5>Agenda</font></h1>"
      ]
    },
    {
      "cell_type": "markdown",
      "metadata": {
        "id": "MbDlCnH38svq"
      },
      "source": [
        "### \n",
        "<div class=\"alert alert-block alert-info\" style=\"margin-top: 20px\">\n",
        "\n",
        "1.  [Review](#0)<br>\n",
        "2.  [Pandas](#2)<br>\n",
        "2.  [Exercise](#10)<br> \n",
        "3.  [Exercise](#12)<br>     \n",
        "</div>\n",
        "<hr>"
      ]
    },
    {
      "cell_type": "markdown",
      "metadata": {
        "id": "ErulIQ4D8svs"
      },
      "source": [
        "<h2>Pandas Overwiew</h2>"
      ]
    },
    {
      "cell_type": "markdown",
      "metadata": {
        "id": "Behn8FQa8svs"
      },
      "source": [
        "We use Pandas as the primary tool for analyzing data.  All of the functions we calculated<br>\n",
        "by hand earlier in this course are now given to you automatically using built in functions.<br>\n",
        "<br>\n",
        "The primary data structures used with Pandas are series and dataframes<br>\n",
        "The difference is that we use series for 1 dimensional data and we use dataframes for<br>\n",
        "multidimensional data.\n"
      ]
    },
    {
      "cell_type": "markdown",
      "metadata": {
        "id": "dUXWgOXy8svt"
      },
      "source": [
        "<h2>Pandas Series</h2>"
      ]
    },
    {
      "cell_type": "markdown",
      "metadata": {
        "id": "f6Ir1kSe8svt"
      },
      "source": [
        "To create a pandas data series do the following:<br>\n",
        "    <code>\n",
        "    import pandas as pd\n",
        "    x = pd.Series(range(1,10))\n",
        "    x\n",
        "    </code>\n",
        "Notice the capital letter in the Series"
      ]
    },
    {
      "cell_type": "code",
      "execution_count": null,
      "metadata": {
        "colab": {
          "base_uri": "https://localhost:8080/"
        },
        "id": "Wv53kTEd8svt",
        "outputId": "4859902d-f1ea-4193-e427-e9a6580710dc"
      },
      "outputs": [
        {
          "output_type": "execute_result",
          "data": {
            "text/plain": [
              "0    1\n",
              "1    2\n",
              "2    3\n",
              "3    4\n",
              "4    5\n",
              "5    6\n",
              "6    7\n",
              "7    8\n",
              "8    9\n",
              "dtype: int64"
            ]
          },
          "metadata": {},
          "execution_count": 15
        }
      ],
      "source": [
        "import pandas as pd \n",
        "x = pd.Series(range(1,10))\n",
        "x"
      ]
    },
    {
      "cell_type": "markdown",
      "source": [
        "Notice as well the index: the main difference between pandas series and numpy arrays. Oh but, what's this inside? A Numpy array!"
      ],
      "metadata": {
        "id": "GaNIXK1t_MGM"
      }
    },
    {
      "cell_type": "code",
      "source": [
        "x.values\n",
        "print(type(x.values))\n"
      ],
      "metadata": {
        "colab": {
          "base_uri": "https://localhost:8080/"
        },
        "id": "MgFiJimG_GuL",
        "outputId": "8c0ea7a9-8bfa-493f-9c36-f932a1a07bfb"
      },
      "execution_count": null,
      "outputs": [
        {
          "output_type": "stream",
          "name": "stdout",
          "text": [
            "<class 'numpy.ndarray'>\n"
          ]
        }
      ]
    },
    {
      "cell_type": "code",
      "source": [
        "x[0]\n",
        "x[2:4]"
      ],
      "metadata": {
        "colab": {
          "base_uri": "https://localhost:8080/"
        },
        "id": "Sj3r9MfY_T7r",
        "outputId": "bfd2db69-98f9-4cf4-8291-b378faf61577"
      },
      "execution_count": null,
      "outputs": [
        {
          "output_type": "execute_result",
          "data": {
            "text/plain": [
              "2    3\n",
              "3    4\n",
              "dtype: int64"
            ]
          },
          "metadata": {},
          "execution_count": 7
        }
      ]
    },
    {
      "cell_type": "markdown",
      "source": [
        "Pandas series house numpy arrays, but add a flexible indexing list. "
      ],
      "metadata": {
        "id": "T_1pMObw_TNh"
      }
    },
    {
      "cell_type": "markdown",
      "metadata": {
        "id": "o65FQgOG8svt"
      },
      "source": [
        "<h4>Data types</h4>\n"
      ]
    },
    {
      "cell_type": "markdown",
      "metadata": {
        "id": "Zg243qVP8svu"
      },
      "source": [
        "Let's try the same thing using charaters in a string<br>\n",
        "<code>\n",
        "import pandas as pd\n",
        "x = pd.Series(['Python'])\n",
        "x\n",
        "</code>"
      ]
    },
    {
      "cell_type": "code",
      "execution_count": null,
      "metadata": {
        "colab": {
          "base_uri": "https://localhost:8080/"
        },
        "id": "VqVmVYYs8svu",
        "outputId": "08b4a7a7-ad18-4e50-b21c-9e110ea98f76"
      },
      "outputs": [
        {
          "output_type": "execute_result",
          "data": {
            "text/plain": [
              "0    Python\n",
              "dtype: object"
            ]
          },
          "metadata": {},
          "execution_count": 11
        }
      ],
      "source": [
        "x = pd.Series(['Python']) \n",
        "x"
      ]
    },
    {
      "cell_type": "markdown",
      "metadata": {
        "id": "7Wd2F9V88svu"
      },
      "source": [
        "<h2>Exercise</h2>\n",
        "Store the string 'Learning Python is fun' as a string of characters to a pandas series and print the first letter of each word.<br>"
      ]
    },
    {
      "cell_type": "markdown",
      "metadata": {
        "id": "dx3PnpqD8svu"
      },
      "source": [
        "<h4>Solution</h4>"
      ]
    },
    {
      "cell_type": "code",
      "execution_count": null,
      "metadata": {
        "colab": {
          "base_uri": "https://localhost:8080/"
        },
        "id": "AeEvRlBQ8svv",
        "outputId": "98970638-4da8-489c-8e97-4d87b8179f4c"
      },
      "outputs": [
        {
          "output_type": "stream",
          "name": "stdout",
          "text": [
            "L\n",
            "P\n",
            "i\n",
            "f\n"
          ]
        }
      ],
      "source": [
        "y = pd.Series(['Learning Python is fun'])\n",
        "for word in y[0].split():\n",
        "\n",
        "  print(word[0])"
      ]
    },
    {
      "cell_type": "markdown",
      "source": [
        "<h4>The Index of Pandas Series</h4>\n",
        "Create your own indexing by specifying pd.Series([values],index = ['your', 'index', 'labels' 'here'])\n"
      ],
      "metadata": {
        "id": "rbCImhduAYVF"
      }
    },
    {
      "cell_type": "code",
      "source": [
        "data = pd.Series([0.25, 0.5, 0.75, 1.0],\n",
        "                 index=[1, 2, 3,4])\n",
        "data\n"
      ],
      "metadata": {
        "colab": {
          "base_uri": "https://localhost:8080/"
        },
        "id": "D3iufAIkAhL-",
        "outputId": "10003d4b-f7cd-4f85-b3e3-5bf236732bbc"
      },
      "execution_count": null,
      "outputs": [
        {
          "output_type": "execute_result",
          "data": {
            "text/plain": [
              "1    0.25\n",
              "2    0.50\n",
              "3    0.75\n",
              "4    1.00\n",
              "dtype: float64"
            ]
          },
          "metadata": {},
          "execution_count": 31
        }
      ]
    },
    {
      "cell_type": "markdown",
      "source": [
        "Rings like a dictionary? True!"
      ],
      "metadata": {
        "id": "sKyMBDb1BXap"
      }
    },
    {
      "cell_type": "code",
      "source": [
        "population_dict = {'California': 38332521,\n",
        "                   'Texas': 26448193,\n",
        "                   'New York': 19651127,\n",
        "                   'Florida': 19552860,\n",
        "                   'Illinois': 12882135}\n",
        "population = pd.Series(population_dict)\n",
        "population"
      ],
      "metadata": {
        "colab": {
          "base_uri": "https://localhost:8080/"
        },
        "id": "1z-3_M7FBaR0",
        "outputId": "7c6c3904-c855-4c2a-be79-b83c9fecb0fd"
      },
      "execution_count": null,
      "outputs": [
        {
          "output_type": "execute_result",
          "data": {
            "text/plain": [
              "California    38332521\n",
              "Texas         26448193\n",
              "New York      19651127\n",
              "Florida       19552860\n",
              "Illinois      12882135\n",
              "dtype: int64"
            ]
          },
          "metadata": {},
          "execution_count": 32
        }
      ]
    },
    {
      "cell_type": "markdown",
      "source": [
        "Now we can slice and operate, unlike w/ dictionaries:"
      ],
      "metadata": {
        "id": "WQo184Z8BleA"
      }
    },
    {
      "cell_type": "code",
      "source": [
        "population['California':'New York']"
      ],
      "metadata": {
        "colab": {
          "base_uri": "https://localhost:8080/"
        },
        "id": "M9JI-EOdBpb7",
        "outputId": "08616010-64cd-4092-e189-b7eb3518d01d"
      },
      "execution_count": null,
      "outputs": [
        {
          "output_type": "execute_result",
          "data": {
            "text/plain": [
              "California    38332521\n",
              "Texas         26448193\n",
              "New York      19651127\n",
              "dtype: int64"
            ]
          },
          "metadata": {},
          "execution_count": 22
        }
      ]
    },
    {
      "cell_type": "markdown",
      "metadata": {
        "id": "FG73mHBA8svv"
      },
      "source": [
        "Let's now take a mix of floating point numbers and integers and store them in a pandas series<br>\n",
        "<code>\n",
        "import pandas as pd\n",
        "numbers = [2, 2.4, 3, 3.4]\n",
        "ps = pd.Series(numbers)\n",
        "ps\n",
        "</code>"
      ]
    },
    {
      "cell_type": "code",
      "execution_count": null,
      "metadata": {
        "colab": {
          "base_uri": "https://localhost:8080/"
        },
        "id": "Ob2FwwSQ8svv",
        "outputId": "baf6f707-0399-428e-bcbf-521b3b76207e"
      },
      "outputs": [
        {
          "output_type": "execute_result",
          "data": {
            "text/plain": [
              "0    2.0\n",
              "1    2.4\n",
              "2    3.0\n",
              "3    3.4\n",
              "dtype: float64"
            ]
          },
          "metadata": {},
          "execution_count": 13
        }
      ],
      "source": [
        "numbers = [2, 2.4, 3, 3.4]\n",
        "ps = pd.Series(numbers)\n",
        "ps"
      ]
    },
    {
      "cell_type": "markdown",
      "source": [
        "Broadcasting also happens when we add only one value to the values list but multiple indices:"
      ],
      "metadata": {
        "id": "7VNT8KPNw8MH"
      }
    },
    {
      "cell_type": "code",
      "source": [
        "x = pd.Series(5, index=[100, 200, 300])\n",
        "x"
      ],
      "metadata": {
        "colab": {
          "base_uri": "https://localhost:8080/"
        },
        "id": "9YGfSSwnxBFo",
        "outputId": "6781425d-ff57-4ff6-c75d-8fe4820dc10e"
      },
      "execution_count": null,
      "outputs": [
        {
          "output_type": "execute_result",
          "data": {
            "text/plain": [
              "100    5\n",
              "200    5\n",
              "300    5\n",
              "dtype: int64"
            ]
          },
          "metadata": {},
          "execution_count": 9
        }
      ]
    },
    {
      "cell_type": "markdown",
      "metadata": {
        "id": "_sgtde9g8svw"
      },
      "source": [
        "To access individual elements in a series we use indexinging and slicing as we<br>\n",
        "do in regular python.  To access the first element in our series type:\n",
        "<br>\n",
        "<code>\n",
        "import pandas as pd\n",
        "numbers = [2, 2.4, 3, 3.4,'Blue']\n",
        "ps = pd.Series(numbers)\n",
        "ps[0]\n",
        "</code>"
      ]
    },
    {
      "cell_type": "code",
      "execution_count": null,
      "metadata": {
        "colab": {
          "base_uri": "https://localhost:8080/"
        },
        "id": "WoweHOYX8svw",
        "outputId": "9a8cf098-5248-4ae8-fa18-b642cedf7e4a"
      },
      "outputs": [
        {
          "output_type": "execute_result",
          "data": {
            "text/plain": [
              "2"
            ]
          },
          "metadata": {},
          "execution_count": 33
        }
      ],
      "source": [
        "numbers = [2, 2.4, 3, 3.4,'Blue']\n",
        "ps = pd.Series(numbers)\n",
        "ps[0]"
      ]
    },
    {
      "cell_type": "markdown",
      "metadata": {
        "id": "1cVU_-Kh8svw"
      },
      "source": [
        "To obtain a range of number we use slicing.  To get the last 2 elements in our series<br>\n",
        "<br>\n",
        "<code>\n",
        "import pandas as pd\n",
        "numbers = [2, 2.4, 3, 3.4,'Blue']\n",
        "ps = pd.Series(numbers)\n",
        "ps[-2:]\n",
        "</code>"
      ]
    },
    {
      "cell_type": "code",
      "execution_count": null,
      "metadata": {
        "colab": {
          "base_uri": "https://localhost:8080/"
        },
        "id": "ZBL7OKoP8svw",
        "outputId": "24e3fe96-f82e-4291-c28a-67b8fe7978ff"
      },
      "outputs": [
        {
          "output_type": "execute_result",
          "data": {
            "text/plain": [
              "2       3\n",
              "3     3.4\n",
              "4    Blue\n",
              "dtype: object"
            ]
          },
          "metadata": {},
          "execution_count": 34
        }
      ],
      "source": [
        "numbers = [2, 2.4, 3, 3.4,'Blue']\n",
        "ps = pd.Series(numbers)\n",
        "ps[-2:]\n",
        "ps[2:]"
      ]
    },
    {
      "cell_type": "markdown",
      "metadata": {
        "id": "gUkCDpAB8svw"
      },
      "source": [
        "We can change elements in a series by assigning a value to the element<br>\n",
        "<br>\n",
        "<code>\n",
        "import pandas as pd\n",
        "numbers = [2, 2.4, 3, 3.4,'Blue']\n",
        "ps = pd.Series(numbers)\n",
        "ps[4] = 23.5\n",
        "ps\n",
        "</code><br>\n",
        "NOTE: It does not automatically change all of the elements in a series if we manually change<br>\n",
        "all of the elements to the same data type"
      ]
    },
    {
      "cell_type": "code",
      "execution_count": null,
      "metadata": {
        "colab": {
          "base_uri": "https://localhost:8080/"
        },
        "id": "jlnqf6vP8svw",
        "outputId": "4969725e-7dc7-44d4-c58d-26fc32c13260"
      },
      "outputs": [
        {
          "output_type": "execute_result",
          "data": {
            "text/plain": [
              "0       2\n",
              "1     2.4\n",
              "2       3\n",
              "3     3.4\n",
              "4    23.5\n",
              "dtype: object"
            ]
          },
          "metadata": {},
          "execution_count": 35
        }
      ],
      "source": [
        "ps[4] = 23.5\n",
        "ps"
      ]
    },
    {
      "cell_type": "markdown",
      "metadata": {
        "id": "boZbyOLi8svx"
      },
      "source": [
        "<h2>Pandas Series Casting</h2>\n",
        "We wil now change our data from an object to a int64 data series<br>\n",
        "<code>\n",
        "import pandas as pd\n",
        "numbers = [2, 2.4, 3, 3.4,'Blue']\n",
        "ps = pd.Series(numbers)\n",
        "ps[4] = 23.5\n",
        "ps.astype('float32')\n",
        "ps.dtype\n",
        "new_ps = ps.astype('float32')\n",
        "new_ps\n",
        "</code>\n",
        "NOTE: This operation is not in place"
      ]
    },
    {
      "cell_type": "code",
      "execution_count": null,
      "metadata": {
        "colab": {
          "base_uri": "https://localhost:8080/"
        },
        "id": "ItDXTiQs8svx",
        "outputId": "5687b13c-69fe-413b-bcc3-6fdb94376bb5"
      },
      "outputs": [
        {
          "output_type": "execute_result",
          "data": {
            "text/plain": [
              "0    2.0\n",
              "1    4.0\n",
              "2    3.0\n",
              "3    1.0\n",
              "dtype: float32"
            ]
          },
          "metadata": {},
          "execution_count": 37
        }
      ],
      "source": [
        "numbers = [2,4,3,1]\n",
        "ps = pd.Series(numbers)\n",
        "ps\n",
        "new_ps = ps.astype('float32')\n",
        "new_ps"
      ]
    },
    {
      "cell_type": "markdown",
      "metadata": {
        "id": "UjfkKIpO8svx"
      },
      "source": [
        "We can create a series of dates<br>\n",
        "<code>\n",
        "import pandas as pd\n",
        "dates = pd.Series(pd.date_range('20200101', periods=6))\n",
        "print(dates.dtype)\n",
        "dates\n",
        "</code>"
      ]
    },
    {
      "cell_type": "code",
      "execution_count": null,
      "metadata": {
        "colab": {
          "base_uri": "https://localhost:8080/"
        },
        "id": "0F1Go-Ra8svx",
        "outputId": "88ae48cc-8355-4862-d1cb-59e0206e8cd4"
      },
      "outputs": [
        {
          "output_type": "execute_result",
          "data": {
            "text/plain": [
              "0    2020-01-01\n",
              "1    2020-01-02\n",
              "2    2020-01-03\n",
              "3    2020-01-04\n",
              "4    2020-01-05\n",
              "5    2020-01-06\n",
              "6    2020-01-07\n",
              "7    2020-01-08\n",
              "8    2020-01-09\n",
              "9    2020-01-10\n",
              "10   2020-01-11\n",
              "11   2020-01-12\n",
              "12   2020-01-13\n",
              "13   2020-01-14\n",
              "14   2020-01-15\n",
              "15   2020-01-16\n",
              "16   2020-01-17\n",
              "17   2020-01-18\n",
              "18   2020-01-19\n",
              "19   2020-01-20\n",
              "20   2020-01-21\n",
              "21   2020-01-22\n",
              "22   2020-01-23\n",
              "23   2020-01-24\n",
              "24   2020-01-25\n",
              "25   2020-01-26\n",
              "26   2020-01-27\n",
              "27   2020-01-28\n",
              "28   2020-01-29\n",
              "29   2020-01-30\n",
              "30   2020-01-31\n",
              "dtype: datetime64[ns]"
            ]
          },
          "metadata": {},
          "execution_count": 46
        }
      ],
      "source": [
        "dates = pd.Series(pd.date_range('20200101', periods=31))\n",
        "dates"
      ]
    },
    {
      "cell_type": "markdown",
      "metadata": {
        "id": "ie3YCKXL8svx"
      },
      "source": [
        "<h2>Pandas Operations</h2>\n",
        "We can perform an operation against the whole series<br>\n",
        "<code>\n",
        "x = range(10,21)\n",
        "s1 = pd.Series(x) * 2\n",
        "s1\n",
        "</code>"
      ]
    },
    {
      "cell_type": "code",
      "execution_count": null,
      "metadata": {
        "id": "Xmk7wToD8svx"
      },
      "outputs": [],
      "source": [
        ""
      ]
    },
    {
      "cell_type": "markdown",
      "metadata": {
        "id": "J1gLlY4b8svy"
      },
      "source": [
        "<h2>Exercise</h2>\n",
        "Create a data series of all the odd numbers from 100 to 130<br>\n",
        "Then divide each number by 3<br>"
      ]
    },
    {
      "cell_type": "markdown",
      "metadata": {
        "id": "EVXpDDEH8svy"
      },
      "source": [
        "<h4>Solution</h4>"
      ]
    },
    {
      "cell_type": "code",
      "source": [
        "x = pd.Series(i for i in range(100,130) if i%2!=0)\n",
        "ps = x/3\n",
        "ps"
      ],
      "metadata": {
        "id": "6MhUskQG0xzp"
      },
      "execution_count": null,
      "outputs": []
    },
    {
      "cell_type": "markdown",
      "metadata": {
        "id": "o6osxxDu8svy"
      },
      "source": [
        "<h2>Series head and tail</h2>\n",
        "To display the beginning and ending of a long series use head and tail.<br>\n",
        "This is the same as using the linux head() and tail(). This is great to get a quick overview of the data types without overcomplicating your view<br>\n",
        "<code>\n",
        "x = range(101,171,2)\n",
        "ps = pd.Series(x) / 3\n",
        "ps.head()\n",
        "ps.tail()\n",
        "</code>\n",
        "<br>\n",
        "Head will show the first 5 items in a series\n",
        "Tail will show the last 5 items in a series"
      ]
    },
    {
      "cell_type": "code",
      "execution_count": null,
      "metadata": {
        "colab": {
          "base_uri": "https://localhost:8080/"
        },
        "id": "uD89mnav8svy",
        "outputId": "284a85bb-8405-4d83-e4d5-e323d2ff29dc"
      },
      "outputs": [
        {
          "output_type": "execute_result",
          "data": {
            "text/plain": [
              "29    159\n",
              "30    161\n",
              "31    163\n",
              "32    165\n",
              "33    167\n",
              "34    169\n",
              "dtype: int64"
            ]
          },
          "metadata": {},
          "execution_count": 53
        }
      ],
      "source": [
        "x = range(101,171,2)\n",
        "ps = pd.Series(x)\n",
        "ps.head(10)\n",
        "ps.tail(6)"
      ]
    },
    {
      "cell_type": "markdown",
      "metadata": {
        "id": "hJZZPY_j8svy"
      },
      "source": [
        "<h2>Adding to a data series</h2>\n",
        "To add to a series we use the append method.  However, we must use an optional<br>\n",
        "parameter if we haven't included an index on our series.<br>\n",
        "<code>\n",
        "import pandas as pd\n",
        "x = range(101,121,2)\n",
        "ps = pd.Series(x)\n",
        "y = range(1,11)\n",
        "p2 = pd.Series(y)\n",
        "p3 = ps.append(p2, ignore_index=True)\n",
        "p3\n",
        "</code>"
      ]
    },
    {
      "cell_type": "code",
      "execution_count": null,
      "metadata": {
        "id": "WGNg-VCC8svy"
      },
      "outputs": [],
      "source": [
        ""
      ]
    },
    {
      "cell_type": "markdown",
      "metadata": {
        "id": "oeZZKqK58svz"
      },
      "source": [
        "<h2>Removing a row from a series</h2>\n",
        "To remove a line from a series use the drop method with index as arg<br>\n",
        "<code>\n",
        "import pandas as pd\n",
        "x = range(101,121,2)\n",
        "ps = pd.Series(x)\n",
        "y = range(1,11)\n",
        "p2 = pd.Series(y)\n",
        "p3 = ps.append(p2, ignore_index=True)\n",
        "p4 = p3.drop(1)\n",
        "p4\n",
        "</code>"
      ]
    },
    {
      "cell_type": "code",
      "execution_count": null,
      "metadata": {
        "colab": {
          "base_uri": "https://localhost:8080/"
        },
        "id": "MK8_3W-E8svz",
        "outputId": "b29c338c-7364-4976-8901-8831e2b68896"
      },
      "outputs": [
        {
          "output_type": "execute_result",
          "data": {
            "text/plain": [
              "3    107\n",
              "4    109\n",
              "5    111\n",
              "6    113\n",
              "7    115\n",
              "8    117\n",
              "9    119\n",
              "dtype: int64"
            ]
          },
          "metadata": {},
          "execution_count": 56
        }
      ],
      "source": [
        "x = range(101,121,2) \n",
        "ps = pd.Series(x)\n",
        "ps.drop([0,1,2])"
      ]
    },
    {
      "cell_type": "markdown",
      "source": [
        "Using the above, drop the tail and head of p3 and output the resulting series."
      ],
      "metadata": {
        "id": "NmT0X4s-IlEm"
      }
    },
    {
      "cell_type": "code",
      "source": [
        "ps = pd.Series(range(101,121,2))\n",
        "p2 = pd.Series(range(1,11))\n",
        "p3 = ps.append(p2, ignore_index=True)\n",
        "\n",
        "headtail = p3.head().index + p3.tail().index\n",
        "p3 = p3.drop(p3.head().index)\n",
        "p3 = p3.drop(p3.tail().index)\n",
        "p3\n",
        "\n"
      ],
      "metadata": {
        "id": "coySos2KJ1ZU"
      },
      "execution_count": null,
      "outputs": []
    },
    {
      "cell_type": "markdown",
      "metadata": {
        "id": "B2GT9vt_8svz"
      },
      "source": [
        "<h2>Pandas Series Index</h2>\n",
        "We can add an index to a series by passing in an index of the same size as the data<br>\n",
        "<code>\n",
        "import pandas as pd\n",
        "phrase = ['A','B','C','D','E']\n",
        "index = range(5,10)\n",
        "ps = pd.Series(phrase, index = index)\n",
        "ps\n",
        "</code>\n",
        "<br>\n",
        "NOTE: The size of the index and data must be the same"
      ]
    },
    {
      "cell_type": "code",
      "execution_count": null,
      "metadata": {
        "id": "ehev3mXT8svz"
      },
      "outputs": [],
      "source": [
        ""
      ]
    },
    {
      "cell_type": "markdown",
      "metadata": {
        "id": "iQ_2eK6K8svz"
      },
      "source": [
        "<h2>Pandas search using the index</h2>\n",
        "To search for an element isn a series use the 'loc' method<br>\n",
        "<code>\n",
        "import pandas as pd\n",
        "phrase = ['A','B','C','D','E']\n",
        "index = range(5,10)\n",
        "ps = pd.Series(phrase, index = index)\n",
        "ps.loc[8]\n",
        "</code>"
      ]
    },
    {
      "cell_type": "code",
      "execution_count": null,
      "metadata": {
        "colab": {
          "base_uri": "https://localhost:8080/",
          "height": 35
        },
        "id": "q1eeLVSh8svz",
        "outputId": "fa50a5ed-fdc6-4a7c-d670-bef230cacee0"
      },
      "outputs": [
        {
          "output_type": "execute_result",
          "data": {
            "application/vnd.google.colaboratory.intrinsic+json": {
              "type": "string"
            },
            "text/plain": [
              "'D'"
            ]
          },
          "metadata": {},
          "execution_count": 88
        }
      ],
      "source": [
        "phrase = ['A','B','C','D','E']\n",
        "index = range(5,10)\n",
        "ps = pd.Series(phrase, index = index) \n",
        "ps.loc[8]"
      ]
    },
    {
      "cell_type": "markdown",
      "metadata": {
        "id": "ooPLR_-08sv0"
      },
      "source": [
        "This notebook is part of a course at www.codeimmersives.com called Data Science. If you accessed this notebook outside the course, you can get more information about this course online by clicking here."
      ]
    },
    {
      "cell_type": "markdown",
      "metadata": {
        "id": "qOgfbgis8sv0"
      },
      "source": [
        "<hr>\n",
        "\n",
        "Copyright &copy; 2021  Code Immersives"
      ]
    }
  ],
  "metadata": {
    "kernelspec": {
      "display_name": "Python 3",
      "language": "python",
      "name": "python3"
    },
    "language_info": {
      "codemirror_mode": {
        "name": "ipython",
        "version": 3
      },
      "file_extension": ".py",
      "mimetype": "text/x-python",
      "name": "python",
      "nbconvert_exporter": "python",
      "pygments_lexer": "ipython3",
      "version": "3.8.2"
    },
    "colab": {
      "name": "CI Data Science - Lesson 08 - NO ANSWERS .ipynb",
      "provenance": []
    }
  },
  "nbformat": 4,
  "nbformat_minor": 0
}