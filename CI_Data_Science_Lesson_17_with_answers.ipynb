{
  "cells": [
    {
      "cell_type": "markdown",
      "source": [
        "\n",
        "\n",
        "\n",
        "\n",
        "\n",
        "<a href=\"https://codeimmersives.com\"><img src = \"https://www.codeimmersives.com/wp-content/uploads/2019/09/CodeImmersives_Logo_RGB_NYC_BW.png\" width = 400> </a>\n",
        "\n",
        "\n",
        "<h1 align=center><font size = 5>Agenda</font></h1>"
      ],
      "metadata": {
        "id": "dyb6pNSGsNqY"
      }
    },
    {
      "cell_type": "markdown",
      "source": [
        "### \n",
        "<div class=\"alert alert-block alert-info\" style=\"margin-top: 20px\">\n",
        "\n",
        "1. Exercise - racial bias  \n",
        "2. [Pie Charts]\n",
        "3.  Pandas/Matplotlib Exercises in-class\n",
        "4.  [Review](#12)<br>     \n",
        "</div>\n",
        "<hr>"
      ],
      "metadata": {
        "id": "5Ftuc9zjvOi2"
      }
    },
    {
      "cell_type": "markdown",
      "metadata": {
        "id": "326qotxX_LP_"
      },
      "source": [
        "<h2> Analyzing and filtering racial bias from 2015 to 2019 </h2>\n",
        "1) Read in the csv"
      ]
    },
    {
      "cell_type": "code",
      "execution_count": null,
      "metadata": {
        "id": "j5lOXn-y_LQA"
      },
      "outputs": [],
      "source": [
        "import pandas as pd\n",
        "import matplotlib.pyplot as plt\n",
        "df = pd.read_csv('Bias_crime_2015_2019.csv')"
      ]
    },
    {
      "cell_type": "markdown",
      "source": [
        "2) Find the differences in bias from 2019 to 2015 and plot this difference using a barchart with race on the x-axis and the associated bias on the y-axis."
      ],
      "metadata": {
        "id": "As8jN2sMGGU8"
      }
    },
    {
      "cell_type": "code",
      "source": [
        "df['Difference_Bias_2015_2019'] = df['2019']-df['2015']\n",
        "df.plot.bar(x='Race_Ethnicity', y='Difference_Bias_2015_2019')\n",
        "df"
      ],
      "metadata": {
        "colab": {
          "base_uri": "https://localhost:8080/",
          "height": 812
        },
        "id": "ETVMUPBsGNEE",
        "outputId": "cf455860-1692-4103-be3a-bacfb5a4f1b0"
      },
      "execution_count": null,
      "outputs": [
        {
          "output_type": "execute_result",
          "data": {
            "text/html": [
              "\n",
              "  <div id=\"df-8b79aa2b-0cdb-4de5-9bfb-351bddf3fec7\">\n",
              "    <div class=\"colab-df-container\">\n",
              "      <div>\n",
              "<style scoped>\n",
              "    .dataframe tbody tr th:only-of-type {\n",
              "        vertical-align: middle;\n",
              "    }\n",
              "\n",
              "    .dataframe tbody tr th {\n",
              "        vertical-align: top;\n",
              "    }\n",
              "\n",
              "    .dataframe thead th {\n",
              "        text-align: right;\n",
              "    }\n",
              "</style>\n",
              "<table border=\"1\" class=\"dataframe\">\n",
              "  <thead>\n",
              "    <tr style=\"text-align: right;\">\n",
              "      <th></th>\n",
              "      <th>Race_Ethnicity</th>\n",
              "      <th>2015</th>\n",
              "      <th>2016</th>\n",
              "      <th>2017</th>\n",
              "      <th>2018</th>\n",
              "      <th>2019</th>\n",
              "      <th>Difference_Bias_2015_2019</th>\n",
              "    </tr>\n",
              "  </thead>\n",
              "  <tbody>\n",
              "    <tr>\n",
              "      <th>0</th>\n",
              "      <td>Anti-White</td>\n",
              "      <td>613</td>\n",
              "      <td>720</td>\n",
              "      <td>741</td>\n",
              "      <td>762</td>\n",
              "      <td>666</td>\n",
              "      <td>53</td>\n",
              "    </tr>\n",
              "    <tr>\n",
              "      <th>1</th>\n",
              "      <td>Anti-Black or African American</td>\n",
              "      <td>1745</td>\n",
              "      <td>1739</td>\n",
              "      <td>2013</td>\n",
              "      <td>1943</td>\n",
              "      <td>1930</td>\n",
              "      <td>185</td>\n",
              "    </tr>\n",
              "    <tr>\n",
              "      <th>2</th>\n",
              "      <td>Anti-American Indian or Alaska Native</td>\n",
              "      <td>131</td>\n",
              "      <td>154</td>\n",
              "      <td>251</td>\n",
              "      <td>194</td>\n",
              "      <td>119</td>\n",
              "      <td>-12</td>\n",
              "    </tr>\n",
              "    <tr>\n",
              "      <th>3</th>\n",
              "      <td>Anti-Asian</td>\n",
              "      <td>111</td>\n",
              "      <td>113</td>\n",
              "      <td>131</td>\n",
              "      <td>148</td>\n",
              "      <td>158</td>\n",
              "      <td>47</td>\n",
              "    </tr>\n",
              "    <tr>\n",
              "      <th>4</th>\n",
              "      <td>Anti-Native Hawaiian or Other Pacific Islander</td>\n",
              "      <td>4</td>\n",
              "      <td>9</td>\n",
              "      <td>16</td>\n",
              "      <td>20</td>\n",
              "      <td>21</td>\n",
              "      <td>17</td>\n",
              "    </tr>\n",
              "    <tr>\n",
              "      <th>5</th>\n",
              "      <td>Anti-Multiple Races- Group</td>\n",
              "      <td>113</td>\n",
              "      <td>136</td>\n",
              "      <td>180</td>\n",
              "      <td>137</td>\n",
              "      <td>134</td>\n",
              "      <td>21</td>\n",
              "    </tr>\n",
              "    <tr>\n",
              "      <th>6</th>\n",
              "      <td>Anti-Arab</td>\n",
              "      <td>37</td>\n",
              "      <td>51</td>\n",
              "      <td>102</td>\n",
              "      <td>82</td>\n",
              "      <td>95</td>\n",
              "      <td>58</td>\n",
              "    </tr>\n",
              "    <tr>\n",
              "      <th>7</th>\n",
              "      <td>Anti-Hispanic or Latino</td>\n",
              "      <td>299</td>\n",
              "      <td>344</td>\n",
              "      <td>427</td>\n",
              "      <td>485</td>\n",
              "      <td>527</td>\n",
              "      <td>228</td>\n",
              "    </tr>\n",
              "    <tr>\n",
              "      <th>8</th>\n",
              "      <td>Anti-Other Race/Ethnicity/Ancestry</td>\n",
              "      <td>257</td>\n",
              "      <td>223</td>\n",
              "      <td>270</td>\n",
              "      <td>276</td>\n",
              "      <td>313</td>\n",
              "      <td>56</td>\n",
              "    </tr>\n",
              "  </tbody>\n",
              "</table>\n",
              "</div>\n",
              "      <button class=\"colab-df-convert\" onclick=\"convertToInteractive('df-8b79aa2b-0cdb-4de5-9bfb-351bddf3fec7')\"\n",
              "              title=\"Convert this dataframe to an interactive table.\"\n",
              "              style=\"display:none;\">\n",
              "        \n",
              "  <svg xmlns=\"http://www.w3.org/2000/svg\" height=\"24px\"viewBox=\"0 0 24 24\"\n",
              "       width=\"24px\">\n",
              "    <path d=\"M0 0h24v24H0V0z\" fill=\"none\"/>\n",
              "    <path d=\"M18.56 5.44l.94 2.06.94-2.06 2.06-.94-2.06-.94-.94-2.06-.94 2.06-2.06.94zm-11 1L8.5 8.5l.94-2.06 2.06-.94-2.06-.94L8.5 2.5l-.94 2.06-2.06.94zm10 10l.94 2.06.94-2.06 2.06-.94-2.06-.94-.94-2.06-.94 2.06-2.06.94z\"/><path d=\"M17.41 7.96l-1.37-1.37c-.4-.4-.92-.59-1.43-.59-.52 0-1.04.2-1.43.59L10.3 9.45l-7.72 7.72c-.78.78-.78 2.05 0 2.83L4 21.41c.39.39.9.59 1.41.59.51 0 1.02-.2 1.41-.59l7.78-7.78 2.81-2.81c.8-.78.8-2.07 0-2.86zM5.41 20L4 18.59l7.72-7.72 1.47 1.35L5.41 20z\"/>\n",
              "  </svg>\n",
              "      </button>\n",
              "      \n",
              "  <style>\n",
              "    .colab-df-container {\n",
              "      display:flex;\n",
              "      flex-wrap:wrap;\n",
              "      gap: 12px;\n",
              "    }\n",
              "\n",
              "    .colab-df-convert {\n",
              "      background-color: #E8F0FE;\n",
              "      border: none;\n",
              "      border-radius: 50%;\n",
              "      cursor: pointer;\n",
              "      display: none;\n",
              "      fill: #1967D2;\n",
              "      height: 32px;\n",
              "      padding: 0 0 0 0;\n",
              "      width: 32px;\n",
              "    }\n",
              "\n",
              "    .colab-df-convert:hover {\n",
              "      background-color: #E2EBFA;\n",
              "      box-shadow: 0px 1px 2px rgba(60, 64, 67, 0.3), 0px 1px 3px 1px rgba(60, 64, 67, 0.15);\n",
              "      fill: #174EA6;\n",
              "    }\n",
              "\n",
              "    [theme=dark] .colab-df-convert {\n",
              "      background-color: #3B4455;\n",
              "      fill: #D2E3FC;\n",
              "    }\n",
              "\n",
              "    [theme=dark] .colab-df-convert:hover {\n",
              "      background-color: #434B5C;\n",
              "      box-shadow: 0px 1px 3px 1px rgba(0, 0, 0, 0.15);\n",
              "      filter: drop-shadow(0px 1px 2px rgba(0, 0, 0, 0.3));\n",
              "      fill: #FFFFFF;\n",
              "    }\n",
              "  </style>\n",
              "\n",
              "      <script>\n",
              "        const buttonEl =\n",
              "          document.querySelector('#df-8b79aa2b-0cdb-4de5-9bfb-351bddf3fec7 button.colab-df-convert');\n",
              "        buttonEl.style.display =\n",
              "          google.colab.kernel.accessAllowed ? 'block' : 'none';\n",
              "\n",
              "        async function convertToInteractive(key) {\n",
              "          const element = document.querySelector('#df-8b79aa2b-0cdb-4de5-9bfb-351bddf3fec7');\n",
              "          const dataTable =\n",
              "            await google.colab.kernel.invokeFunction('convertToInteractive',\n",
              "                                                     [key], {});\n",
              "          if (!dataTable) return;\n",
              "\n",
              "          const docLinkHtml = 'Like what you see? Visit the ' +\n",
              "            '<a target=\"_blank\" href=https://colab.research.google.com/notebooks/data_table.ipynb>data table notebook</a>'\n",
              "            + ' to learn more about interactive tables.';\n",
              "          element.innerHTML = '';\n",
              "          dataTable['output_type'] = 'display_data';\n",
              "          await google.colab.output.renderOutput(dataTable, element);\n",
              "          const docLink = document.createElement('div');\n",
              "          docLink.innerHTML = docLinkHtml;\n",
              "          element.appendChild(docLink);\n",
              "        }\n",
              "      </script>\n",
              "    </div>\n",
              "  </div>\n",
              "  "
            ],
            "text/plain": [
              "                                   Race_Ethnicity  ...  Difference_Bias_2015_2019\n",
              "0                                      Anti-White  ...                         53\n",
              "1                  Anti-Black or African American  ...                        185\n",
              "2           Anti-American Indian or Alaska Native  ...                        -12\n",
              "3                                      Anti-Asian  ...                         47\n",
              "4  Anti-Native Hawaiian or Other Pacific Islander  ...                         17\n",
              "5                      Anti-Multiple Races- Group  ...                         21\n",
              "6                                       Anti-Arab  ...                         58\n",
              "7                         Anti-Hispanic or Latino  ...                        228\n",
              "8              Anti-Other Race/Ethnicity/Ancestry  ...                         56\n",
              "\n",
              "[9 rows x 7 columns]"
            ]
          },
          "metadata": {},
          "execution_count": 22
        },
        {
          "output_type": "display_data",
          "data": {
            "image/png": "[encoded data removed]",
            "text/plain": [
              "<Figure size 432x288 with 1 Axes>"
            ]
          },
          "metadata": {
            "needs_background": "light"
          }
        }
      ]
    },
    {
      "cell_type": "markdown",
      "source": [
        "3) Get the max bias in the year 2015:"
      ],
      "metadata": {
        "id": "EQFqFwbOGhEP"
      }
    },
    {
      "cell_type": "code",
      "execution_count": null,
      "metadata": {
        "colab": {
          "base_uri": "https://localhost:8080/"
        },
        "id": "oGV1o2Ka_LQB",
        "outputId": "7035ca5d-7a93-4de8-f16c-e74496263635"
      },
      "outputs": [
        {
          "output_type": "stream",
          "name": "stdout",
          "text": [
            "1745\n"
          ]
        }
      ],
      "source": [
        "df_max = df['2015'].max()\n",
        "print(df_max)"
      ]
    },
    {
      "cell_type": "markdown",
      "source": [
        "<h2> Pie Chart to highlight the largest groups in this dataset </h2> \n",
        "ax.pie(labels, explode, figsize) <br>\n",
        "We can configure explode to highlight our largest group in the pie chart."
      ],
      "metadata": {
        "id": "af21-0-mHpLl"
      }
    },
    {
      "cell_type": "code",
      "execution_count": null,
      "metadata": {
        "id": "nfOLyMqI_LQB"
      },
      "outputs": [],
      "source": [
        "eth_dict = zip(df['Race_Ethnicity'].tolist(),df['2015'].tolist())\n",
        "eth_dict = dict(eth_dict)\n",
        "x = [v for k,v in eth_dict.items()]\n",
        "print(x)\n",
        "explode = [.05 if v== df_max else 0 for k,v in eth_dict.items()] #only 'explode' the largest slide\n",
        "print(explode)\n",
        "pie_data = pd.DataFrame({'2015': df['2015'].tolist()}, index = df['Race_Ethnicity'])\n",
        "pie_data.plot.pie(y = '2015', explode=explode, figsize = (10,10))"
      ]
    },
    {
      "cell_type": "code",
      "execution_count": null,
      "metadata": {
        "colab": {
          "base_uri": "https://localhost:8080/",
          "height": 627
        },
        "id": "eek_LoXc_LQB",
        "outputId": "d971b0f9-f399-4052-e94e-1adcc022b9a9"
      },
      "outputs": [
        {
          "output_type": "stream",
          "name": "stdout",
          "text": [
            "[613, 1745, 131, 111, 4, 113, 37, 299, 257]\n",
            "[0.05, 0.05, 0, 0, 0, 0, 0, 0, 0]\n"
          ]
        },
        {
          "output_type": "execute_result",
          "data": {
            "text/plain": [
              "<matplotlib.axes._subplots.AxesSubplot at 0x7f99fef0de90>"
            ]
          },
          "metadata": {},
          "execution_count": 14
        },
        {
          "output_type": "display_data",
          "data": {
            "image/png": "[encoded data removed]",
            "text/plain": [
              "<Figure size 720x720 with 1 Axes>"
            ]
          },
          "metadata": {}
        }
      ],
      "source": [
        "# Show top 2 items\n",
        "eth_dict = zip(df['Race_Ethnicity'].tolist(),df['2015'].tolist())\n",
        "eth_dict = dict(eth_dict)\n",
        "x = [v for k,v in eth_dict.items()]\n",
        "print(x)\n",
        "explode = [.05 if v> 300 else 0 for k,v in eth_dict.items()]\n",
        "print(explode)\n",
        "pie_data = pd.DataFrame({'2015': df['2015'].tolist()}, index = df['Race_Ethnicity'])\n",
        "pie_data.plot.pie(y = '2015', explode=explode, figsize = (10,10))"
      ]
    },
    {
      "cell_type": "markdown",
      "source": [
        "4) Find the Top 3 groups in 2015 and plot a pie chart that explodes them out."
      ],
      "metadata": {
        "id": "XTXZhEzUJ2Qk"
      }
    },
    {
      "cell_type": "code",
      "source": [
        "eth_dict = zip(df['Race_Ethnicity'].tolist(),df['2015'].tolist())\n",
        "eth_dict = dict(eth_dict)\n",
        "x = [v for k,v in eth_dict.items()]\n",
        "print(x)\n",
        "x.sort()\n",
        "top3=x[-3:]\n",
        "explode = [.05 if v in top3 else 0 for k,v in eth_dict.items()]\n",
        "print(explode)\n",
        "pie_data = pd.DataFrame({'2015': df['2015'].tolist()}, index = df['Race_Ethnicity'])\n",
        "pie_data\n",
        "pie_data.plot.pie(y = '2015', explode=explode, figsize = (10,10))"
      ],
      "metadata": {
        "id": "lB3LYx71KILd"
      },
      "execution_count": null,
      "outputs": []
    },
    {
      "cell_type": "code",
      "source": [
        ""
      ],
      "metadata": {
        "id": "XHcgZ_x_K5-K"
      },
      "execution_count": null,
      "outputs": []
    },
    {
      "cell_type": "code",
      "execution_count": null,
      "metadata": {
        "id": "OaM4qkCVAqdo",
        "outputId": "396c9e2f-a2fd-4804-f8f4-06633d2f8063",
        "colab": {
          "base_uri": "https://localhost:8080/",
          "height": 143
        }
      },
      "outputs": [
        {
          "output_type": "execute_result",
          "data": {
            "text/html": [
              "\n",
              "  <div id=\"df-e0ff93dc-334b-4948-9146-a9b40dc5c3aa\">\n",
              "    <div class=\"colab-df-container\">\n",
              "      <div>\n",
              "<style scoped>\n",
              "    .dataframe tbody tr th:only-of-type {\n",
              "        vertical-align: middle;\n",
              "    }\n",
              "\n",
              "    .dataframe tbody tr th {\n",
              "        vertical-align: top;\n",
              "    }\n",
              "\n",
              "    .dataframe thead th {\n",
              "        text-align: right;\n",
              "    }\n",
              "</style>\n",
              "<table border=\"1\" class=\"dataframe\">\n",
              "  <thead>\n",
              "    <tr style=\"text-align: right;\">\n",
              "      <th></th>\n",
              "      <th>A-1</th>\n",
              "      <th>B-1</th>\n",
              "      <th>C-1</th>\n",
              "    </tr>\n",
              "  </thead>\n",
              "  <tbody>\n",
              "    <tr>\n",
              "      <th>ONE</th>\n",
              "      <td>11</td>\n",
              "      <td>12</td>\n",
              "      <td>13</td>\n",
              "    </tr>\n",
              "    <tr>\n",
              "      <th>TWO</th>\n",
              "      <td>21</td>\n",
              "      <td>22</td>\n",
              "      <td>23</td>\n",
              "    </tr>\n",
              "    <tr>\n",
              "      <th>THREE</th>\n",
              "      <td>31</td>\n",
              "      <td>32</td>\n",
              "      <td>33</td>\n",
              "    </tr>\n",
              "  </tbody>\n",
              "</table>\n",
              "</div>\n",
              "      <button class=\"colab-df-convert\" onclick=\"convertToInteractive('df-e0ff93dc-334b-4948-9146-a9b40dc5c3aa')\"\n",
              "              title=\"Convert this dataframe to an interactive table.\"\n",
              "              style=\"display:none;\">\n",
              "        \n",
              "  <svg xmlns=\"http://www.w3.org/2000/svg\" height=\"24px\"viewBox=\"0 0 24 24\"\n",
              "       width=\"24px\">\n",
              "    <path d=\"M0 0h24v24H0V0z\" fill=\"none\"/>\n",
              "    <path d=\"M18.56 5.44l.94 2.06.94-2.06 2.06-.94-2.06-.94-.94-2.06-.94 2.06-2.06.94zm-11 1L8.5 8.5l.94-2.06 2.06-.94-2.06-.94L8.5 2.5l-.94 2.06-2.06.94zm10 10l.94 2.06.94-2.06 2.06-.94-2.06-.94-.94-2.06-.94 2.06-2.06.94z\"/><path d=\"M17.41 7.96l-1.37-1.37c-.4-.4-.92-.59-1.43-.59-.52 0-1.04.2-1.43.59L10.3 9.45l-7.72 7.72c-.78.78-.78 2.05 0 2.83L4 21.41c.39.39.9.59 1.41.59.51 0 1.02-.2 1.41-.59l7.78-7.78 2.81-2.81c.8-.78.8-2.07 0-2.86zM5.41 20L4 18.59l7.72-7.72 1.47 1.35L5.41 20z\"/>\n",
              "  </svg>\n",
              "      </button>\n",
              "      \n",
              "  <style>\n",
              "    .colab-df-container {\n",
              "      display:flex;\n",
              "      flex-wrap:wrap;\n",
              "      gap: 12px;\n",
              "    }\n",
              "\n",
              "    .colab-df-convert {\n",
              "      background-color: #E8F0FE;\n",
              "      border: none;\n",
              "      border-radius: 50%;\n",
              "      cursor: pointer;\n",
              "      display: none;\n",
              "      fill: #1967D2;\n",
              "      height: 32px;\n",
              "      padding: 0 0 0 0;\n",
              "      width: 32px;\n",
              "    }\n",
              "\n",
              "    .colab-df-convert:hover {\n",
              "      background-color: #E2EBFA;\n",
              "      box-shadow: 0px 1px 2px rgba(60, 64, 67, 0.3), 0px 1px 3px 1px rgba(60, 64, 67, 0.15);\n",
              "      fill: #174EA6;\n",
              "    }\n",
              "\n",
              "    [theme=dark] .colab-df-convert {\n",
              "      background-color: #3B4455;\n",
              "      fill: #D2E3FC;\n",
              "    }\n",
              "\n",
              "    [theme=dark] .colab-df-convert:hover {\n",
              "      background-color: #434B5C;\n",
              "      box-shadow: 0px 1px 3px 1px rgba(0, 0, 0, 0.15);\n",
              "      filter: drop-shadow(0px 1px 2px rgba(0, 0, 0, 0.3));\n",
              "      fill: #FFFFFF;\n",
              "    }\n",
              "  </style>\n",
              "\n",
              "      <script>\n",
              "        const buttonEl =\n",
              "          document.querySelector('#df-e0ff93dc-334b-4948-9146-a9b40dc5c3aa button.colab-df-convert');\n",
              "        buttonEl.style.display =\n",
              "          google.colab.kernel.accessAllowed ? 'block' : 'none';\n",
              "\n",
              "        async function convertToInteractive(key) {\n",
              "          const element = document.querySelector('#df-e0ff93dc-334b-4948-9146-a9b40dc5c3aa');\n",
              "          const dataTable =\n",
              "            await google.colab.kernel.invokeFunction('convertToInteractive',\n",
              "                                                     [key], {});\n",
              "          if (!dataTable) return;\n",
              "\n",
              "          const docLinkHtml = 'Like what you see? Visit the ' +\n",
              "            '<a target=\"_blank\" href=https://colab.research.google.com/notebooks/data_table.ipynb>data table notebook</a>'\n",
              "            + ' to learn more about interactive tables.';\n",
              "          element.innerHTML = '';\n",
              "          dataTable['output_type'] = 'display_data';\n",
              "          await google.colab.output.renderOutput(dataTable, element);\n",
              "          const docLink = document.createElement('div');\n",
              "          docLink.innerHTML = docLinkHtml;\n",
              "          element.appendChild(docLink);\n",
              "        }\n",
              "      </script>\n",
              "    </div>\n",
              "  </div>\n",
              "  "
            ],
            "text/plain": [
              "       A-1  B-1  C-1\n",
              "ONE     11   12   13\n",
              "TWO     21   22   23\n",
              "THREE   31   32   33"
            ]
          },
          "metadata": {},
          "execution_count": 23
        }
      ],
      "source": [
        "import pandas as pd\n",
        "\n",
        "df = pd.DataFrame({'A': [11, 21, 31],\n",
        "                   'B': [12, 22, 32],\n",
        "                   'C': [13, 23, 33]},\n",
        "                  index=['ONE', 'TWO', 'THREE'])\n",
        "df\n",
        "df.rename(columns=lambda s: f'{s}-1', inplace = True )\n",
        "df"
      ]
    },
    {
      "cell_type": "markdown",
      "source": [
        "5) Replace the index with the ethnicities use .rename(). "
      ],
      "metadata": {
        "id": "2I7V6egKKJZv"
      }
    },
    {
      "cell_type": "code",
      "source": [
        ""
      ],
      "metadata": {
        "id": "TtfbM6BVLAtA"
      },
      "execution_count": null,
      "outputs": []
    },
    {
      "cell_type": "markdown",
      "source": [
        "6) What is the advantage of a pie chart versus bar chart in this use case? "
      ],
      "metadata": {
        "id": "MWZTgtcmMz45"
      }
    },
    {
      "cell_type": "markdown",
      "source": [
        "<h2> Exercise: </h2>\n",
        "Converting dict to df:"
      ],
      "metadata": {
        "id": "Aa-tSgVxLSPP"
      }
    },
    {
      "cell_type": "code",
      "execution_count": null,
      "metadata": {
        "id": "Dt5BUVpw_LQB"
      },
      "outputs": [],
      "source": [
        "import pandas as pd\n",
        "\n",
        "emps = { '001': ['001','John','2005-03-20','012'],\\\n",
        "         '002': ['002','Rhona','2020-04-20','011'],\\\n",
        "         '003': ['003','Michael','2011-01-20','012'],\\\n",
        "         '004': ['004','Cara','2016-11-20','011'],\\\n",
        "         '005': ['005','Tom','2012-09-20','012'],\\\n",
        "         '011' : ['011','Frank','2005-03-20','999'],\\\n",
        "         '012': ['012','Sara','2001-12-01','999'],\\\n",
        "        '999': ['999','Felisha','1999-10-02','']\n",
        "       }"
      ]
    },
    {
      "cell_type": "markdown",
      "source": [
        " Convert this dict to an appropriate dataframe:"
      ],
      "metadata": {
        "id": "1RJge5XsLbHr"
      }
    },
    {
      "cell_type": "code",
      "execution_count": null,
      "metadata": {
        "colab": {
          "base_uri": "https://localhost:8080/",
          "height": 300
        },
        "id": "YCYVFl0y_LQB",
        "outputId": "aafb32dd-b86f-4a09-f33f-17b80e1bb5da"
      },
      "outputs": [
        {
          "output_type": "execute_result",
          "data": {
            "text/html": [
              "\n",
              "  <div id=\"df-6ee0b797-f387-403f-8542-379ee8518c65\">\n",
              "    <div class=\"colab-df-container\">\n",
              "      <div>\n",
              "<style scoped>\n",
              "    .dataframe tbody tr th:only-of-type {\n",
              "        vertical-align: middle;\n",
              "    }\n",
              "\n",
              "    .dataframe tbody tr th {\n",
              "        vertical-align: top;\n",
              "    }\n",
              "\n",
              "    .dataframe thead th {\n",
              "        text-align: right;\n",
              "    }\n",
              "</style>\n",
              "<table border=\"1\" class=\"dataframe\">\n",
              "  <thead>\n",
              "    <tr style=\"text-align: right;\">\n",
              "      <th></th>\n",
              "      <th>emp_id</th>\n",
              "      <th>Name</th>\n",
              "      <th>Hire_date</th>\n",
              "      <th>Sup_id</th>\n",
              "    </tr>\n",
              "  </thead>\n",
              "  <tbody>\n",
              "    <tr>\n",
              "      <th>001</th>\n",
              "      <td>001</td>\n",
              "      <td>John</td>\n",
              "      <td>2005-03-20</td>\n",
              "      <td>012</td>\n",
              "    </tr>\n",
              "    <tr>\n",
              "      <th>002</th>\n",
              "      <td>002</td>\n",
              "      <td>Rhona</td>\n",
              "      <td>2020-04-20</td>\n",
              "      <td>011</td>\n",
              "    </tr>\n",
              "    <tr>\n",
              "      <th>003</th>\n",
              "      <td>003</td>\n",
              "      <td>Michael</td>\n",
              "      <td>2011-01-20</td>\n",
              "      <td>012</td>\n",
              "    </tr>\n",
              "    <tr>\n",
              "      <th>004</th>\n",
              "      <td>004</td>\n",
              "      <td>Cara</td>\n",
              "      <td>2016-11-20</td>\n",
              "      <td>011</td>\n",
              "    </tr>\n",
              "    <tr>\n",
              "      <th>005</th>\n",
              "      <td>005</td>\n",
              "      <td>Tom</td>\n",
              "      <td>2012-09-20</td>\n",
              "      <td>012</td>\n",
              "    </tr>\n",
              "    <tr>\n",
              "      <th>011</th>\n",
              "      <td>011</td>\n",
              "      <td>Frank</td>\n",
              "      <td>2005-03-20</td>\n",
              "      <td>999</td>\n",
              "    </tr>\n",
              "    <tr>\n",
              "      <th>012</th>\n",
              "      <td>012</td>\n",
              "      <td>Sara</td>\n",
              "      <td>2001-12-01</td>\n",
              "      <td>999</td>\n",
              "    </tr>\n",
              "    <tr>\n",
              "      <th>999</th>\n",
              "      <td>999</td>\n",
              "      <td>Felisha</td>\n",
              "      <td>1999-10-02</td>\n",
              "      <td></td>\n",
              "    </tr>\n",
              "  </tbody>\n",
              "</table>\n",
              "</div>\n",
              "      <button class=\"colab-df-convert\" onclick=\"convertToInteractive('df-6ee0b797-f387-403f-8542-379ee8518c65')\"\n",
              "              title=\"Convert this dataframe to an interactive table.\"\n",
              "              style=\"display:none;\">\n",
              "        \n",
              "  <svg xmlns=\"http://www.w3.org/2000/svg\" height=\"24px\"viewBox=\"0 0 24 24\"\n",
              "       width=\"24px\">\n",
              "    <path d=\"M0 0h24v24H0V0z\" fill=\"none\"/>\n",
              "    <path d=\"M18.56 5.44l.94 2.06.94-2.06 2.06-.94-2.06-.94-.94-2.06-.94 2.06-2.06.94zm-11 1L8.5 8.5l.94-2.06 2.06-.94-2.06-.94L8.5 2.5l-.94 2.06-2.06.94zm10 10l.94 2.06.94-2.06 2.06-.94-2.06-.94-.94-2.06-.94 2.06-2.06.94z\"/><path d=\"M17.41 7.96l-1.37-1.37c-.4-.4-.92-.59-1.43-.59-.52 0-1.04.2-1.43.59L10.3 9.45l-7.72 7.72c-.78.78-.78 2.05 0 2.83L4 21.41c.39.39.9.59 1.41.59.51 0 1.02-.2 1.41-.59l7.78-7.78 2.81-2.81c.8-.78.8-2.07 0-2.86zM5.41 20L4 18.59l7.72-7.72 1.47 1.35L5.41 20z\"/>\n",
              "  </svg>\n",
              "      </button>\n",
              "      \n",
              "  <style>\n",
              "    .colab-df-container {\n",
              "      display:flex;\n",
              "      flex-wrap:wrap;\n",
              "      gap: 12px;\n",
              "    }\n",
              "\n",
              "    .colab-df-convert {\n",
              "      background-color: #E8F0FE;\n",
              "      border: none;\n",
              "      border-radius: 50%;\n",
              "      cursor: pointer;\n",
              "      display: none;\n",
              "      fill: #1967D2;\n",
              "      height: 32px;\n",
              "      padding: 0 0 0 0;\n",
              "      width: 32px;\n",
              "    }\n",
              "\n",
              "    .colab-df-convert:hover {\n",
              "      background-color: #E2EBFA;\n",
              "      box-shadow: 0px 1px 2px rgba(60, 64, 67, 0.3), 0px 1px 3px 1px rgba(60, 64, 67, 0.15);\n",
              "      fill: #174EA6;\n",
              "    }\n",
              "\n",
              "    [theme=dark] .colab-df-convert {\n",
              "      background-color: #3B4455;\n",
              "      fill: #D2E3FC;\n",
              "    }\n",
              "\n",
              "    [theme=dark] .colab-df-convert:hover {\n",
              "      background-color: #434B5C;\n",
              "      box-shadow: 0px 1px 3px 1px rgba(0, 0, 0, 0.15);\n",
              "      filter: drop-shadow(0px 1px 2px rgba(0, 0, 0, 0.3));\n",
              "      fill: #FFFFFF;\n",
              "    }\n",
              "  </style>\n",
              "\n",
              "      <script>\n",
              "        const buttonEl =\n",
              "          document.querySelector('#df-6ee0b797-f387-403f-8542-379ee8518c65 button.colab-df-convert');\n",
              "        buttonEl.style.display =\n",
              "          google.colab.kernel.accessAllowed ? 'block' : 'none';\n",
              "\n",
              "        async function convertToInteractive(key) {\n",
              "          const element = document.querySelector('#df-6ee0b797-f387-403f-8542-379ee8518c65');\n",
              "          const dataTable =\n",
              "            await google.colab.kernel.invokeFunction('convertToInteractive',\n",
              "                                                     [key], {});\n",
              "          if (!dataTable) return;\n",
              "\n",
              "          const docLinkHtml = 'Like what you see? Visit the ' +\n",
              "            '<a target=\"_blank\" href=https://colab.research.google.com/notebooks/data_table.ipynb>data table notebook</a>'\n",
              "            + ' to learn more about interactive tables.';\n",
              "          element.innerHTML = '';\n",
              "          dataTable['output_type'] = 'display_data';\n",
              "          await google.colab.output.renderOutput(dataTable, element);\n",
              "          const docLink = document.createElement('div');\n",
              "          docLink.innerHTML = docLinkHtml;\n",
              "          element.appendChild(docLink);\n",
              "        }\n",
              "      </script>\n",
              "    </div>\n",
              "  </div>\n",
              "  "
            ],
            "text/plain": [
              "    emp_id     Name   Hire_date Sup_id\n",
              "001    001     John  2005-03-20    012\n",
              "002    002    Rhona  2020-04-20    011\n",
              "003    003  Michael  2011-01-20    012\n",
              "004    004     Cara  2016-11-20    011\n",
              "005    005      Tom  2012-09-20    012\n",
              "011    011    Frank  2005-03-20    999\n",
              "012    012     Sara  2001-12-01    999\n",
              "999    999  Felisha  1999-10-02       "
            ]
          },
          "metadata": {},
          "execution_count": 27
        }
      ],
      "source": [
        "df1 = pd.DataFrame(emps.values(), index = emps.keys(), columns=['emp_id','Name','Hire_date','Sup_id'])\n",
        "df2 = df1\n",
        "df2\n",
        "df1"
      ]
    }
  ],
  "metadata": {
    "kernelspec": {
      "display_name": "Python 3",
      "language": "python",
      "name": "python3"
    },
    "language_info": {
      "codemirror_mode": {
        "name": "ipython",
        "version": 3
      },
      "file_extension": ".py",
      "mimetype": "text/x-python",
      "name": "python",
      "nbconvert_exporter": "python",
      "pygments_lexer": "ipython3",
      "version": "3.7.4"
    },
    "colab": {
      "name": "CI Data Science-Lesson 17 with answers.ipynb",
      "provenance": []
    }
  },
  "nbformat": 4,
  "nbformat_minor": 0
}