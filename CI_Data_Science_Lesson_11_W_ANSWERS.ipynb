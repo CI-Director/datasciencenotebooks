{
  "cells": [
    {
      "cell_type": "markdown",
      "metadata": {
        "id": "FIA8kQVbSoZ9"
      },
      "source": [
        "<a href=\"https://codeimmersives.com\"><img src = \"https://www.codeimmersives.com/wp-content/uploads/2019/09/CodeImmersives_Logo_RGB_NYC_BW.png\" width = 400> </a>\n",
        "\n",
        "\n",
        "<h1 align=center><font size = 5>Agenda</font></h1>"
      ]
    },
    {
      "cell_type": "markdown",
      "metadata": {
        "id": "2rZC8T7lSoaD"
      },
      "source": [
        "### \n",
        "<div class=\"alert alert-block alert-info\" style=\"margin-top: 20px\">\n",
        "\n",
        "1.  [Review](#0)<br>\n",
        "2.  [Pandas](#2)<br>\n",
        "2.  [Exercise](#10)<br> \n",
        "3.  [Exercise](#12)<br>     \n",
        "</div>\n",
        "<hr>"
      ]
    },
    {
      "cell_type": "markdown",
      "metadata": {
        "id": "WrN_S-vrSoaE"
      },
      "source": [
        "<h2>Review</h2>"
      ]
    },
    {
      "cell_type": "code",
      "execution_count": null,
      "metadata": {
        "id": "deFie1eaSoaE"
      },
      "outputs": [],
      "source": [
        "project_files = 'C:\\\\Projects\\\\Code immersives\\\\pandas\\\\'"
      ]
    },
    {
      "cell_type": "markdown",
      "metadata": {
        "id": "Lgz4-AQrSoaG"
      },
      "source": [
        "<h2>Exercise</h2>\n",
        "<code>\n",
        "purchases = {'2020/01/02': ['Shampoo','Razors','Mints','Lotion','Suntan lotion'],\n",
        "'2020/01/03': ['Flip Flops','Water bottle'],\n",
        "'2020/01/04': ['32 ounce Gaterade'],\n",
        "'2020/01/05': ['Cashews 32 ounce can','Fiji Water']}\n",
        "</code><br>\n",
        "1 - On which day did you purchase the most items?<br>\n",
        "2 - Put the table in the order of most items purchased in descending order<br>"
      ]
    },
    {
      "cell_type": "markdown",
      "metadata": {
        "id": "SimnLwkOSoaI"
      },
      "source": [
        "<h4>Solution</h4>"
      ]
    },
    {
      "cell_type": "code",
      "execution_count": null,
      "metadata": {
        "id": "CLsN5WPBSoaI"
      },
      "outputs": [],
      "source": [
        "heighest = max(purchases,key=purchases.get)\n",
        "descending = sorted(purchases.items(), key=lambda x:len(x[1]), reverse=True)\n",
        "​\n",
        "print(heighest, descending)"
      ]
    },
    {
      "cell_type": "markdown",
      "metadata": {
        "id": "RgKidd1wSoaJ"
      },
      "source": [
        "<h2>Exercise</h2>\n",
        "Find and print the top 3 salespeople by sold amount adding up their amounts<br>\n",
        "<code>\n",
        "sales = {'Susan':[130000,90000,120000,80000],\n",
        "         'Hal':[100000,100000,105000,99000],\n",
        "         'Joyce':[90000,111000,88000,85000],\n",
        "         'Florence':[150000,99000,102000,69000],\n",
        "         'Samuel':[85000,90000,77000,92000]}\n",
        "</code>"
      ]
    },
    {
      "cell_type": "markdown",
      "metadata": {
        "id": "c6SbBK1tSoaJ"
      },
      "source": [
        "<h4>Solution</h4>"
      ]
    },
    {
      "cell_type": "code",
      "execution_count": null,
      "metadata": {
        "id": "HjTSg2NhSoaK",
        "colab": {
          "base_uri": "https://localhost:8080/"
        },
        "outputId": "e5541923-e7bf-4e88-81b1-f4abf3b75972"
      },
      "outputs": [
        {
          "output_type": "stream",
          "name": "stdout",
          "text": [
            "[('Susan', [130000, 90000, 120000, 80000]), ('Florence', [150000, 99000, 102000, 69000]), ('Hal', [100000, 100000, 105000, 99000])]\n"
          ]
        }
      ],
      "source": [
        "sales = {'Susan':[130000,90000,120000,80000], 'Hal':[100000,100000,105000,99000], 'Joyce':[90000,111000,88000,85000], 'Florence':[150000,99000,102000,69000], 'Samuel':[85000,90000,77000,92000]}\n",
        "x= sorted(sales.items(), key=lambda x: sum(x[1]),reverse=True)\n",
        "print(list(x)[:3])"
      ]
    },
    {
      "cell_type": "markdown",
      "metadata": {
        "id": "l7-AD31ISoaK"
      },
      "source": [
        "<h2>Exercise</h2>\n",
        "<code>\n",
        "cartItems = {'Toothpaste':3.99, 'Lotion':5.99, 'Cotton swaps':2.99,'Deoderant':4.99,'Hair Spray':8.99,'Conditioner':11.99, 'Gum':1.99, 'Hair Gel':2.49, 'Body Wash':3.99, 'Tooth Brush': .99}\n",
        "</code>\n",
        "<br>\n",
        "1 - You only have $20. Purchase items until you run out of money<br>\n",
        "2 - How could you put together a basket with the lowest cost purchasing as many items as <br>possible but buying an item only once?"
      ]
    },
    {
      "cell_type": "code",
      "execution_count": null,
      "metadata": {
        "id": "ZVi6FMZdSoaL"
      },
      "outputs": [],
      "source": [
        "#purchase linearly\n",
        "cartItems = {'Toothpaste':3.99, 'Lotion':5.99, 'Cotton swaps':2.99,'Deoderant':4.99,'Hair Spray':8.99,'Conditioner':11.99, 'Gum':1.99, 'Hair Gel':2.49, 'Body Wash':3.99, 'Tooth Brush': .99}\n",
        "purchases = []\n",
        "budget = 20\n",
        "sorted_items = sorted(cartItems.items(), key=lambda x: x[1])\n",
        "item = sorted_items.pop(0)\n",
        "while budget >= item[1]:\n",
        "    purchases.append(item)\n",
        "    budget -= item[1]\n",
        "    item = sorted_items.pop(0)\n",
        "        \n",
        "    \n",
        "print(budget, purchases)\n",
        "#max items, min cost"
      ]
    },
    {
      "cell_type": "markdown",
      "metadata": {
        "id": "eOvDKiemSoaM"
      },
      "source": [
        "<h2>Exercise</h2>\n",
        "<code>\n",
        "numbers = (23,43,14,23,19,52,15,13)\n",
        "</code><br>\n",
        "You should stop iterating over the numbers and stop when you find <br>\n",
        "a number divisible by 13"
      ]
    },
    {
      "cell_type": "markdown",
      "metadata": {
        "id": "-BUZZhZOSoaM"
      },
      "source": [
        "<h4>Solution</h4>"
      ]
    },
    {
      "cell_type": "code",
      "source": [
        ""
      ],
      "metadata": {
        "id": "qB2Cs0ZeBj0Q"
      },
      "execution_count": null,
      "outputs": []
    },
    {
      "cell_type": "markdown",
      "metadata": {
        "id": "ozO0Et9TSoaP"
      },
      "source": [
        "<h2>Exercise</h2>\n",
        "Open the file grades.txt using python not pandas and calculate the<br>\n",
        "mean value.<br>"
      ]
    },
    {
      "cell_type": "markdown",
      "metadata": {
        "id": "fxvZLTP1SoaQ"
      },
      "source": [
        "<h4>Solution</h4>"
      ]
    },
    {
      "cell_type": "code",
      "execution_count": null,
      "metadata": {
        "id": "JtKBZLihSoaQ",
        "colab": {
          "base_uri": "https://localhost:8080/"
        },
        "outputId": "56a3e73e-7656-425f-9557-744810077ea3"
      },
      "outputs": [
        {
          "output_type": "stream",
          "name": "stdout",
          "text": [
            "81.51\n"
          ]
        }
      ],
      "source": [
        "with open('grades.txt') as f:\n",
        "    contents = f.readlines()\n",
        "    c = sum([int(i) for i in contents])/len(contents)\n",
        "    print(c)"
      ]
    },
    {
      "cell_type": "markdown",
      "metadata": {
        "id": "QL41bjLYSoaQ"
      },
      "source": [
        "<h2>Pandas Reading a file</h2>\n",
        "We can use the read_csv method to open a CSV file for a pandas<br>\n",
        "dataframe<br>\n",
        "<code>\n",
        "import pandas as pd \n",
        "df = pd.read_csv(project_files + 'Home_supplies.csv')\n",
        "df\n",
        "</code>"
      ]
    },
    {
      "cell_type": "code",
      "execution_count": null,
      "metadata": {
        "id": "Dw7_of_TSoaQ"
      },
      "outputs": [],
      "source": [
        ""
      ]
    },
    {
      "cell_type": "markdown",
      "metadata": {
        "id": "G0lGzjLISoaQ"
      },
      "source": [
        "Let's open and examine the US_Cities_delimited.txt<br>\n",
        "We can add a new parameter to the read_csv mrthod which<br>\n",
        "allows us the select the delimeter of the file<br>\n",
        "<code>\n",
        "df = pd.read_csv( project_files + 'US_Cities_delimited.txt',delimiter='|')\n",
        "df.dtypes\n",
        "</code><br>\n",
        "NOTE: Most of the columns are labeled object.  We need to clean the fields and cast<br>\n",
        "them with the correct data type."
      ]
    },
    {
      "cell_type": "code",
      "execution_count": null,
      "metadata": {
        "id": "cPJySe-MSoaQ",
        "colab": {
          "base_uri": "https://localhost:8080/"
        },
        "outputId": "1463c225-578f-4ca4-b98f-33718cf9e829"
      },
      "outputs": [
        {
          "output_type": "execute_result",
          "data": {
            "text/plain": [
              "Order           int64\n",
              "State_City     object\n",
              "Population     object\n",
              "Budget         object\n",
              "Mayor          object\n",
              "Begin_Term      int64\n",
              "End_Term        int64\n",
              "Govern_Type    object\n",
              "foo1           object\n",
              "foo2           object\n",
              "dtype: object"
            ]
          },
          "metadata": {},
          "execution_count": 5
        }
      ],
      "source": [
        "import pandas as pd\n",
        "df = pd.read_csv('US_Cities_delimited.txt',delimiter='|') \n",
        "df.dtypes\n"
      ]
    },
    {
      "cell_type": "markdown",
      "metadata": {
        "id": "EwolBq2HSoaQ"
      },
      "source": [
        "Let's look at 1 column of our data<br>\n",
        "<code>\n",
        "import pandas as pd\n",
        "df = pd.read_csv( project_files + 'US_Cities_delimited.txt',delimiter='|')    \n",
        "df['Population']\n",
        "</code><br>\n",
        "NOTE: The returned data was more rows than could fit on the screen.  "
      ]
    },
    {
      "cell_type": "code",
      "execution_count": null,
      "metadata": {
        "id": "r4qOzLvpSoaR"
      },
      "outputs": [],
      "source": [
        ""
      ]
    },
    {
      "cell_type": "markdown",
      "metadata": {
        "id": "QE_Oa6cwSoaR"
      },
      "source": [
        "We can slice the column data to show all or parts of our data<br>\n",
        "<code>\n",
        "import pandas as pd\n",
        "df = pd.read_csv( project_files + 'US_Cities_delimited.txt',delimiter='|')    \n",
        "df['Population']\n",
        "df.head()\n",
        "<code>\n",
        "or use df.tail()  # For the end of the data frame"
      ]
    },
    {
      "cell_type": "code",
      "execution_count": null,
      "metadata": {
        "id": "jiq6Ap3YSoaR"
      },
      "outputs": [],
      "source": [
        ""
      ]
    },
    {
      "cell_type": "markdown",
      "metadata": {
        "id": "1uHsRepfSoaR"
      },
      "source": [
        "We can display a portion of the file using head and tail\n",
        "<code>\n",
        "df.head(10) # First 10 values\n",
        "df.tail(10) # Last 10 values\n",
        "\n",
        "df['Begin_Term'].head()<br>\n",
        "df['Begin_Term'].describe()<br>\n",
        "df['Population'].describe()<br>\n",
        "df[25:51]  # Examine certain rows\n",
        "df[25:]\n",
        "df[df.Begin_Term == 2016]   # filter data\n",
        "df[df.End_Term == 2022]\n",
        "df[df.End_Term - df.Begin_Term >= 10] # Query every mayor who has served more than 10 years\n",
        "df['Begin_Term'].unique()    \n",
        "df.groupby(['Begin_Term']).count()\n",
        "    # Exercise: \n",
        "    1) How many cities are there in total? \n",
        "    2) how many cities have a population of more than 1 million and a 'strong mayor'?\n",
        "    3) What is the sum of the city budgets for the top 3 most populous cities?  \n",
        "\n",
        "</code>"
      ]
    },
    {
      "cell_type": "code",
      "source": [
        "\n",
        "#2:\n",
        "df['Govern_Type'] \n",
        "print(df['Population'])\n",
        "df['Population'] = df['Population'].astype(int)\n",
        "\n",
        "df[(df.Govern_Type == 'Strong mayor ') & (df.Population > int('1000000'))]\n"
      ],
      "metadata": {
        "id": "oevpRFlsCZQu"
      },
      "execution_count": null,
      "outputs": []
    },
    {
      "cell_type": "code",
      "execution_count": null,
      "metadata": {
        "id": "Lw3tW526SoaR"
      },
      "outputs": [],
      "source": [
        "\n"
      ]
    },
    {
      "cell_type": "code",
      "execution_count": null,
      "metadata": {
        "id": "RVrzrXf7SoaR"
      },
      "outputs": [],
      "source": [
        ""
      ]
    },
    {
      "cell_type": "code",
      "execution_count": null,
      "metadata": {
        "id": "_tjFeNLtSoaS"
      },
      "outputs": [],
      "source": [
        ""
      ]
    },
    {
      "cell_type": "code",
      "execution_count": null,
      "metadata": {
        "id": "jxlV9rozSoaS"
      },
      "outputs": [],
      "source": [
        ""
      ]
    },
    {
      "cell_type": "code",
      "execution_count": null,
      "metadata": {
        "id": "kACf08L0SoaS"
      },
      "outputs": [],
      "source": [
        ""
      ]
    },
    {
      "cell_type": "code",
      "execution_count": null,
      "metadata": {
        "id": "o6GAUqjSSoaS"
      },
      "outputs": [],
      "source": [
        ""
      ]
    },
    {
      "cell_type": "code",
      "execution_count": null,
      "metadata": {
        "id": "KDIbvYnVSoaS"
      },
      "outputs": [],
      "source": [
        ""
      ]
    },
    {
      "cell_type": "code",
      "execution_count": null,
      "metadata": {
        "id": "SRlL77NhSoaS"
      },
      "outputs": [],
      "source": [
        ""
      ]
    },
    {
      "cell_type": "code",
      "execution_count": null,
      "metadata": {
        "id": "dz_gVVsNSoaS"
      },
      "outputs": [],
      "source": [
        ""
      ]
    },
    {
      "cell_type": "markdown",
      "metadata": {
        "id": "N6e9ZWUHSoaS"
      },
      "source": [
        "<h2>Exercise</h2>\n",
        "Find the greatest number in the list without using the max() function or<br>\n",
        "sorting the list<br>\n",
        "<code>\n",
        "x = [1,2,0,5,1,4,-1,2]\n",
        "</code>"
      ]
    },
    {
      "cell_type": "markdown",
      "metadata": {
        "id": "mKKGlw3_SoaS"
      },
      "source": [
        "<h4>Solution</h4>"
      ]
    },
    {
      "cell_type": "code",
      "execution_count": null,
      "metadata": {
        "id": "mgL9o3k5SoaS"
      },
      "outputs": [],
      "source": [
        ""
      ]
    },
    {
      "cell_type": "markdown",
      "metadata": {
        "id": "zpIdbMWPSoaT"
      },
      "source": [
        "<h2>Exercise</h2>\n",
        "<code>\n",
        "titles = ['team leader','squad leader','manager','managing director','director of operations','operations manager','operations manager (US)', 'operations manager (Canada)',\n",
        "'Operations manager (Mexico)']\n",
        "</code><br>\n",
        "Find every title that has to do with operations."
      ]
    },
    {
      "cell_type": "markdown",
      "metadata": {
        "id": "-_dlfbzASoaT"
      },
      "source": [
        "<h4>Solution</h4>"
      ]
    },
    {
      "cell_type": "code",
      "execution_count": null,
      "metadata": {
        "id": "GOtz65C5SoaT"
      },
      "outputs": [],
      "source": [
        ""
      ]
    },
    {
      "cell_type": "markdown",
      "metadata": {
        "id": "d7cVgKWPSoaT"
      },
      "source": [
        "This notebook is part of a course at www.codeimmersives.com called Data Science. If you accessed this notebook outside the course, you can get more information about this course online by clicking here."
      ]
    },
    {
      "cell_type": "markdown",
      "metadata": {
        "id": "Q0mHIuEESoaT"
      },
      "source": [
        "<hr>\n",
        "\n",
        "Copyright &copy; 2021  Code Immersives"
      ]
    }
  ],
  "metadata": {
    "kernelspec": {
      "display_name": "Python 3",
      "language": "python",
      "name": "python3"
    },
    "language_info": {
      "codemirror_mode": {
        "name": "ipython",
        "version": 3
      },
      "file_extension": ".py",
      "mimetype": "text/x-python",
      "name": "python",
      "nbconvert_exporter": "python",
      "pygments_lexer": "ipython3",
      "version": "3.8.2"
    },
    "colab": {
      "name": "CI Data Science - Lesson 11 - W ANSWERS.ipynb",
      "provenance": [],
      "collapsed_sections": []
    }
  },
  "nbformat": 4,
  "nbformat_minor": 0
}