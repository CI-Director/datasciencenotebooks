{
  "cells": [
    {
      "cell_type": "markdown",
      "source": [
        "\n",
        "\n",
        "\n",
        "\n",
        "\n",
        "<a href=\"https://codeimmersives.com\"><img src = \"https://www.codeimmersives.com/wp-content/uploads/2019/09/CodeImmersives_Logo_RGB_NYC_BW.png\" width = 400> </a>\n",
        "\n",
        "\n",
        "<h1 align=center><font size = 5>Agenda</font></h1>"
      ],
      "metadata": {
        "id": "dyb6pNSGsNqY"
      }
    },
    {
      "cell_type": "markdown",
      "source": [
        "### \n",
        "<div class=\"alert alert-block alert-info\" style=\"margin-top: 20px\">\n",
        "\n",
        "1.  [Review](#0)<br>\n",
        "2.  [Matplotlib Primer](#2)<br>\n",
        "3.  Exercises in-class\n",
        "4.  [Review](#12)<br>     \n",
        "</div>\n",
        "<hr>"
      ],
      "metadata": {
        "id": "5Ftuc9zjvOi2"
      }
    },
    {
      "cell_type": "markdown",
      "metadata": {
        "deletable": true,
        "editable": true,
        "id": "u4SUzcNZmNgM"
      },
      "source": [
        "# Plotting and Visualization"
      ]
    },
    {
      "cell_type": "markdown",
      "source": [
        "Import necessary libraries|use pandas and numpy for support"
      ],
      "metadata": {
        "id": "dWqACjlextwo"
      }
    },
    {
      "cell_type": "code",
      "execution_count": null,
      "metadata": {
        "deletable": true,
        "editable": true,
        "id": "kPeYxWlZmNgO"
      },
      "outputs": [],
      "source": [
        "import numpy as np\n",
        "import pandas as pd\n",
        "\n",
        "import matplotlib.pyplot as plt\n",
        "import matplotlib\n"
      ]
    },
    {
      "cell_type": "markdown",
      "metadata": {
        "deletable": true,
        "editable": true,
        "id": "bZeXeBsBmNgP"
      },
      "source": [
        "%matplotlib notebook"
      ]
    },
    {
      "cell_type": "markdown",
      "metadata": {
        "deletable": true,
        "editable": true,
        "id": "g1wZP3eymNgP"
      },
      "source": [
        "## A Brief matplotlib API Primer"
      ]
    },
    {
      "cell_type": "markdown",
      "source": [
        "Create a graph with numpy and matplotlib: arange over 10 values, .plot()"
      ],
      "metadata": {
        "id": "sfSP8epcx6Vp"
      }
    },
    {
      "cell_type": "code",
      "execution_count": null,
      "metadata": {
        "deletable": true,
        "editable": true,
        "colab": {
          "base_uri": "https://localhost:8080/",
          "height": 391
        },
        "id": "VrykqTJZmNgQ",
        "outputId": "624c4342-950c-4f17-dfa8-6938b9bb5a0a"
      },
      "outputs": [
        {
          "output_type": "execute_result",
          "data": {
            "text/plain": [
              "[<matplotlib.lines.Line2D at 0x7f8d66bba9d0>]"
            ]
          },
          "metadata": {},
          "execution_count": 10
        },
        {
          "output_type": "display_data",
          "data": {
            "image/png": "[encoded data removed]",
            "text/plain": [
              "<Figure size 720x432 with 1 Axes>"
            ]
          },
          "metadata": {
            "needs_background": "light"
          }
        }
      ],
      "source": [
        "import numpy as np\n",
        "data = np.arange(10)\n",
        "data\n",
        "plt.plot(data)"
      ]
    },
    {
      "cell_type": "markdown",
      "metadata": {
        "deletable": true,
        "editable": true,
        "id": "RAUErmohmNgQ"
      },
      "source": [
        "### Figures and Subplots"
      ]
    },
    {
      "cell_type": "code",
      "execution_count": null,
      "metadata": {
        "deletable": true,
        "editable": true,
        "colab": {
          "base_uri": "https://localhost:8080/",
          "height": 34
        },
        "id": "CD-7gVW8mNgQ",
        "outputId": "928dd5ce-00f4-495a-9ac4-0f14ed8953af"
      },
      "outputs": [
        {
          "output_type": "display_data",
          "data": {
            "text/plain": [
              "<Figure size 432x288 with 0 Axes>"
            ]
          },
          "metadata": {}
        }
      ],
      "source": [
        "fig = plt.figure()\n",
        "#creates the frame "
      ]
    },
    {
      "cell_type": "code",
      "execution_count": null,
      "metadata": {
        "deletable": true,
        "editable": true,
        "id": "Y6qpxjfGmNgR",
        "colab": {
          "base_uri": "https://localhost:8080/",
          "height": 151
        },
        "outputId": "d6909714-9f21-4927-ec28-f177ca1ae8b1"
      },
      "outputs": [
        {
          "output_type": "execute_result",
          "data": {
            "image/png": "[encoded data removed]",
            "text/plain": [
              "<Figure size 432x288 with 1 Axes>"
            ]
          },
          "metadata": {},
          "execution_count": 16
        }
      ],
      "source": [
        "ax1 = fig.add_subplot(2,2,1)\n",
        "#divide your frame into subplots, specify the spot in the frame: defaults to 1,1,1\n",
        "fig"
      ]
    },
    {
      "cell_type": "code",
      "execution_count": null,
      "metadata": {
        "deletable": true,
        "editable": true,
        "id": "JnIuKhYcmNgR",
        "colab": {
          "base_uri": "https://localhost:8080/",
          "height": 324
        },
        "outputId": "7b85eb36-99ce-4913-ad9e-1e4c69233930"
      },
      "outputs": [
        {
          "output_type": "stream",
          "name": "stderr",
          "text": [
            "/usr/local/lib/python3.7/dist-packages/ipykernel_launcher.py:1: MatplotlibDeprecationWarning: Adding an axes using the same arguments as a previous axes currently reuses the earlier instance.  In a future version, a new instance will always be created and returned.  Meanwhile, this warning can be suppressed, and the future behavior ensured, by passing a unique label to each axes instance.\n",
            "  \"\"\"Entry point for launching an IPython kernel.\n"
          ]
        },
        {
          "output_type": "execute_result",
          "data": {
            "image/png": "[encoded data removed]",
            "text/plain": [
              "<Figure size 432x288 with 3 Axes>"
            ]
          },
          "metadata": {},
          "execution_count": 18
        }
      ],
      "source": [
        "ax2 = fig.add_subplot(2,2,2)\n",
        "ax3 = fig.add_subplot(2,2,3)\n",
        "fig"
      ]
    },
    {
      "cell_type": "markdown",
      "source": [
        "Plot a cumulative sum graph using numpy's random integer function: cumsum() take the cumulative sum of a numpy array along a given axis (pass in a 1-D array)"
      ],
      "metadata": {
        "id": "kcBqLC9WzoCV"
      }
    },
    {
      "cell_type": "code",
      "source": [
        "print(np.random.randn(50), np.random.randn(50).cumsum())"
      ],
      "metadata": {
        "id": "Ki84NuI2zyu-"
      },
      "execution_count": null,
      "outputs": []
    },
    {
      "cell_type": "code",
      "execution_count": null,
      "metadata": {
        "deletable": true,
        "editable": true,
        "colab": {
          "base_uri": "https://localhost:8080/",
          "height": 282
        },
        "id": "I44F1YuPmNgS",
        "outputId": "ae1d630a-8e8d-4147-9dd3-0e91a7a5b830"
      },
      "outputs": [
        {
          "output_type": "execute_result",
          "data": {
            "text/plain": [
              "[<matplotlib.lines.Line2D at 0x7f87d34a3c50>]"
            ]
          },
          "metadata": {},
          "execution_count": 29
        },
        {
          "output_type": "display_data",
          "data": {
            "image/png": "[encoded data removed]",
            "text/plain": [
              "<Figure size 432x288 with 1 Axes>"
            ]
          },
          "metadata": {
            "needs_background": "light"
          }
        }
      ],
      "source": [
        "plt.plot(np.random.randn(50).cumsum(), '--')"
      ]
    },
    {
      "cell_type": "markdown",
      "source": [
        "Plotting a histogram using the Matplotlib hist() function.\n",
        "A histogram shows the change in values over categories of a data series. In the method, we specify the array to plot, how spaced out we want the data to be (bins), the color.  "
      ],
      "metadata": {
        "id": "3HnDU5X20ysA"
      }
    },
    {
      "cell_type": "code",
      "execution_count": null,
      "metadata": {
        "deletable": true,
        "editable": true,
        "id": "7Cxhr21amNgS",
        "colab": {
          "base_uri": "https://localhost:8080/",
          "height": 265
        },
        "outputId": "0c38cc88-916f-4e81-b4b1-8731c21e00a6"
      },
      "outputs": [
        {
          "output_type": "execute_result",
          "data": {
            "image/png": "[encoded data removed]",
            "text/plain": [
              "<Figure size 432x288 with 3 Axes>"
            ]
          },
          "metadata": {},
          "execution_count": 34
        }
      ],
      "source": [
        "ax1.hist(np.random.randn(100), bins=20, color='k')\n",
        "fig"
      ]
    },
    {
      "cell_type": "markdown",
      "source": [
        "Scatter plots take two arguments: the x and y arrays, and groups the 1st argument on the x axis and the second on the y. "
      ],
      "metadata": {
        "id": "jc3ZUqsr1l7D"
      }
    },
    {
      "cell_type": "code",
      "source": [
        "ax2.scatter(np.arange(30), np.arange(30) + 3 * np.random.randn(30))\n",
        "fig"
      ],
      "metadata": {
        "colab": {
          "base_uri": "https://localhost:8080/",
          "height": 269
        },
        "id": "_zagm5zi1jIj",
        "outputId": "bee410b9-08c5-415d-f9bf-392b74af8abe"
      },
      "execution_count": null,
      "outputs": [
        {
          "output_type": "execute_result",
          "data": {
            "image/png": "[encoded data removed]",
            "text/plain": [
              "<Figure size 432x288 with 3 Axes>"
            ]
          },
          "metadata": {},
          "execution_count": 31
        }
      ]
    },
    {
      "cell_type": "markdown",
      "source": [
        "Plt.Close() closes all or some existing plots/subplots in use. "
      ],
      "metadata": {
        "id": "uJr7aONC2GBC"
      }
    },
    {
      "cell_type": "code",
      "execution_count": null,
      "metadata": {
        "deletable": true,
        "editable": true,
        "id": "Woyc2J08mNgS"
      },
      "outputs": [],
      "source": [
        "plt.close('all')"
      ]
    },
    {
      "cell_type": "markdown",
      "source": [
        "We can also specify subplots more readily by specifying the shape of our subplots as a tuple:"
      ],
      "metadata": {
        "id": "AeP3pwTZ2LgI"
      }
    },
    {
      "cell_type": "code",
      "execution_count": null,
      "metadata": {
        "deletable": true,
        "editable": true,
        "id": "XTnVYVPamNgS",
        "colab": {
          "base_uri": "https://localhost:8080/",
          "height": 521
        },
        "outputId": "49198b7f-a22f-4868-b515-005f0c064c81"
      },
      "outputs": [
        {
          "output_type": "execute_result",
          "data": {
            "image/png": "[encoded data removed]",
            "text/plain": [
              "<Figure size 432x288 with 6 Axes>"
            ]
          },
          "metadata": {},
          "execution_count": 44
        },
        {
          "output_type": "display_data",
          "data": {
            "image/png": "[encoded data removed]",
            "text/plain": [
              "<Figure size 432x288 with 6 Axes>"
            ]
          },
          "metadata": {
            "needs_background": "light"
          }
        }
      ],
      "source": [
        "plt.close()\n",
        "fig2, axes = plt.subplots(2, 3)\n",
        "fig2"
      ]
    },
    {
      "cell_type": "markdown",
      "metadata": {
        "deletable": true,
        "editable": true,
        "id": "cF-2mmh3mNgT"
      },
      "source": [
        "#### Adjusting the spacing around subplots"
      ]
    },
    {
      "cell_type": "markdown",
      "source": [
        "You can join and merge your subplots for added coherence. For example, sharing y-axes and x-axes and eliminating spaces between them so that they join in a nice grid. "
      ],
      "metadata": {
        "id": "_MWJxdIC3utJ"
      }
    },
    {
      "cell_type": "markdown",
      "metadata": {
        "deletable": true,
        "editable": true,
        "id": "5hpq-siNmNgT"
      },
      "source": [
        "subplots_adjust(left=None, bottom=None, right=None, top=None,\n",
        "                wspace=None, hspace=None)"
      ]
    },
    {
      "cell_type": "code",
      "execution_count": null,
      "metadata": {
        "deletable": true,
        "editable": true,
        "id": "9HIc45bImNgT",
        "colab": {
          "base_uri": "https://localhost:8080/",
          "height": 265
        },
        "outputId": "e2148aa4-be43-4189-c738-990ea7295ce4"
      },
      "outputs": [
        {
          "output_type": "display_data",
          "data": {
            "image/png": "[encoded data removed]",
            "text/plain": [
              "<Figure size 432x288 with 4 Axes>"
            ]
          },
          "metadata": {
            "needs_background": "light"
          }
        }
      ],
      "source": [
        "fig, axes = plt.subplots(2, 2, sharex=True, sharey=True)\n",
        "for i in range(2):\n",
        "    for j in range(2):\n",
        "        axes[i, j].hist(np.random.randn(500), bins=50, color='k')\n",
        "plt.subplots_adjust(wspace=0, hspace=0)"
      ]
    },
    {
      "cell_type": "markdown",
      "metadata": {
        "deletable": true,
        "editable": true,
        "id": "kOIFvLTnmNgT"
      },
      "source": [
        "### Colors, Markers, and Line Styles"
      ]
    },
    {
      "cell_type": "markdown",
      "metadata": {
        "deletable": true,
        "editable": true,
        "id": "U9M7s8BTmNgT"
      },
      "source": [
        "ax.plot(x, y, 'g--'): color and style combined"
      ]
    },
    {
      "cell_type": "markdown",
      "metadata": {
        "deletable": true,
        "editable": true,
        "id": "R5eH9_cKmNgT"
      },
      "source": [
        "ax.plot(x, y, linestyle='--', color='g'): color and style as separate arguments"
      ]
    },
    {
      "cell_type": "code",
      "execution_count": null,
      "metadata": {
        "deletable": true,
        "editable": true,
        "id": "eXAWf3jUmNgT",
        "colab": {
          "base_uri": "https://localhost:8080/",
          "height": 52
        },
        "outputId": "ade438f1-59c2-49ae-c839-a7f66814e9a5"
      },
      "outputs": [
        {
          "output_type": "execute_result",
          "data": {
            "text/plain": [
              "<Figure size 432x288 with 0 Axes>"
            ]
          },
          "metadata": {},
          "execution_count": 52
        },
        {
          "output_type": "display_data",
          "data": {
            "text/plain": [
              "<Figure size 432x288 with 0 Axes>"
            ]
          },
          "metadata": {}
        }
      ],
      "source": [
        "plt.figure()"
      ]
    },
    {
      "cell_type": "code",
      "execution_count": null,
      "metadata": {
        "deletable": true,
        "editable": true,
        "id": "94IA9lSTmNgU",
        "colab": {
          "base_uri": "https://localhost:8080/",
          "height": 282
        },
        "outputId": "c4be5eb7-93ad-4426-eb21-a1be5cb2a77a"
      },
      "outputs": [
        {
          "output_type": "execute_result",
          "data": {
            "text/plain": [
              "[<matplotlib.lines.Line2D at 0x7f87d1f68150>]"
            ]
          },
          "metadata": {},
          "execution_count": 60
        },
        {
          "output_type": "display_data",
          "data": {
            "image/png": "[encoded data removed]",
            "text/plain": [
              "<Figure size 432x288 with 1 Axes>"
            ]
          },
          "metadata": {
            "needs_background": "light"
          }
        }
      ],
      "source": [
        "from numpy.random import randn\n",
        "plt.plot(randn(30).cumsum(), 'y--')"
      ]
    },
    {
      "cell_type": "markdown",
      "metadata": {
        "deletable": true,
        "editable": true,
        "id": "X2rkEjT9mNgU"
      },
      "source": [
        "plot(randn(30).cumsum(), color='k', linestyle='dashed', marker='o')"
      ]
    },
    {
      "cell_type": "code",
      "execution_count": null,
      "metadata": {
        "deletable": true,
        "editable": true,
        "id": "HhBzv3MGmNgU"
      },
      "outputs": [],
      "source": [
        "plt.close('all')"
      ]
    },
    {
      "cell_type": "code",
      "execution_count": null,
      "metadata": {
        "deletable": true,
        "editable": true,
        "id": "iFfk8PqUmNgU",
        "colab": {
          "base_uri": "https://localhost:8080/",
          "height": 282
        },
        "outputId": "3db175a5-3e5a-48d6-f858-f77efcb97aa1"
      },
      "outputs": [
        {
          "output_type": "execute_result",
          "data": {
            "text/plain": [
              "<matplotlib.legend.Legend at 0x7f87d1845b10>"
            ]
          },
          "metadata": {},
          "execution_count": 66
        },
        {
          "output_type": "display_data",
          "data": {
            "image/png": "[encoded data removed]",
            "text/plain": [
              "<Figure size 432x288 with 1 Axes>"
            ]
          },
          "metadata": {
            "needs_background": "light"
          }
        }
      ],
      "source": [
        "data = np.random.randn(30).cumsum()\n",
        "data2 = np.random.randn(30).cumsum()\n",
        "plt.plot(data, 'k--', label='Default')\n",
        "plt.plot(data2, 'k-', drawstyle='steps-post', label='steps-post')\n",
        "plt.legend()"
      ]
    },
    {
      "cell_type": "markdown",
      "metadata": {
        "deletable": true,
        "editable": true,
        "id": "4t_FuxXVmNgU"
      },
      "source": [
        "### Ticks, Labels, and Legends"
      ]
    },
    {
      "cell_type": "markdown",
      "metadata": {
        "deletable": true,
        "editable": true,
        "id": "A1y-CLT3mNgU"
      },
      "source": [
        "#### Setting the title, axis labels, ticks, and ticklabels"
      ]
    },
    {
      "cell_type": "code",
      "execution_count": null,
      "metadata": {
        "deletable": true,
        "editable": true,
        "id": "9nmMDmtgmNgU",
        "colab": {
          "base_uri": "https://localhost:8080/",
          "height": 282
        },
        "outputId": "27543856-90c3-489c-ed11-f4f1e34d066c"
      },
      "outputs": [
        {
          "output_type": "execute_result",
          "data": {
            "text/plain": [
              "[<matplotlib.lines.Line2D at 0x7f87d190a790>]"
            ]
          },
          "metadata": {},
          "execution_count": 67
        },
        {
          "output_type": "display_data",
          "data": {
            "image/png": "[encoded data removed]",
            "text/plain": [
              "<Figure size 432x288 with 1 Axes>"
            ]
          },
          "metadata": {
            "needs_background": "light"
          }
        }
      ],
      "source": [
        "fig = plt.figure() #the frame\n",
        "ax = fig.add_subplot(1, 1, 1) #the subplot position in frame\n",
        "ax.plot(np.random.randn(1000).cumsum())"
      ]
    },
    {
      "cell_type": "code",
      "execution_count": null,
      "metadata": {
        "deletable": true,
        "editable": true,
        "id": "Ywzqt2nOmNgU"
      },
      "outputs": [],
      "source": [
        "ticks = ax.set_xticks([0, 250, 500, 750, 1000])\n",
        "labels = ax.set_xticklabels(['one', 'two', 'three', 'four', 'five'],\n",
        "                            rotation=30, fontsize='small')"
      ]
    },
    {
      "cell_type": "code",
      "execution_count": null,
      "metadata": {
        "deletable": true,
        "editable": true,
        "id": "Y1-EbhflmNgU",
        "colab": {
          "base_uri": "https://localhost:8080/",
          "height": 304
        },
        "outputId": "e89ff05a-19b5-4771-bca8-86d19ffc64b4"
      },
      "outputs": [
        {
          "output_type": "execute_result",
          "data": {
            "image/png": "[encoded data removed]",
            "text/plain": [
              "<Figure size 432x288 with 1 Axes>"
            ]
          },
          "metadata": {},
          "execution_count": 70
        }
      ],
      "source": [
        "ax.set_title('My first matplotlib plot')\n",
        "ax.set_xlabel('Stages')\n",
        "fig"
      ]
    },
    {
      "cell_type": "markdown",
      "metadata": {
        "deletable": true,
        "editable": true,
        "id": "fLJXtcxfmNgU"
      },
      "source": [
        "props = {\n",
        "    'title': 'My first matplotlib plot',\n",
        "    'xlabel': 'Stages'\n",
        "}\n",
        "ax.set(**props)"
      ]
    },
    {
      "cell_type": "markdown",
      "metadata": {
        "deletable": true,
        "editable": true,
        "id": "NrM9HSTlmNgU"
      },
      "source": [
        "#### Adding legends"
      ]
    },
    {
      "cell_type": "code",
      "execution_count": null,
      "metadata": {
        "deletable": true,
        "editable": true,
        "id": "-UsqIgu2mNgU",
        "colab": {
          "base_uri": "https://localhost:8080/",
          "height": 282
        },
        "outputId": "6fe4df50-8520-4a1c-b1e8-5a4cf5ba3609"
      },
      "outputs": [
        {
          "output_type": "execute_result",
          "data": {
            "text/plain": [
              "[<matplotlib.lines.Line2D at 0x7f87d19fc250>]"
            ]
          },
          "metadata": {},
          "execution_count": 71
        },
        {
          "output_type": "display_data",
          "data": {
            "image/png": "[encoded data removed]",
            "text/plain": [
              "<Figure size 432x288 with 1 Axes>"
            ]
          },
          "metadata": {
            "needs_background": "light"
          }
        }
      ],
      "source": [
        "from numpy.random import randn\n",
        "fig = plt.figure(); ax = fig.add_subplot(1, 1, 1)\n",
        "ax.plot(randn(1000).cumsum(), 'k', label='one')\n",
        "ax.plot(randn(1000).cumsum(), 'k--', label='two')\n",
        "ax.plot(randn(1000).cumsum(), 'k.', label='three')"
      ]
    },
    {
      "cell_type": "code",
      "execution_count": null,
      "metadata": {
        "deletable": true,
        "editable": true,
        "id": "Ns0e1_NGmNgU",
        "colab": {
          "base_uri": "https://localhost:8080/",
          "height": 265
        },
        "outputId": "6373e60d-5ed3-4546-ed45-8cafbfab9c9e"
      },
      "outputs": [
        {
          "output_type": "execute_result",
          "data": {
            "image/png": "[encoded data removed]",
            "text/plain": [
              "<Figure size 432x288 with 1 Axes>"
            ]
          },
          "metadata": {},
          "execution_count": 73
        }
      ],
      "source": [
        "ax.legend(loc='best')\n",
        "fig"
      ]
    },
    {
      "cell_type": "markdown",
      "metadata": {
        "deletable": true,
        "editable": true,
        "id": "lMuvPo1JmNgU"
      },
      "source": [
        "### Annotations and Drawing on a Subplot"
      ]
    },
    {
      "cell_type": "markdown",
      "metadata": {
        "deletable": true,
        "editable": true,
        "id": "kxzuaH97mNgV"
      },
      "source": [
        "Let's play around with a real dataset - let's "
      ]
    },
    {
      "cell_type": "code",
      "source": [
        "from datetime import datetime\n",
        "\n",
        "fig = plt.figure()\n",
        "ax = fig.add_subplot(1, 1, 1)\n",
        "\n",
        "data = pd.read_csv('spx.csv', index_col=0, parse_dates=True)\n",
        "spx = data['SPX']\n"
      ],
      "metadata": {
        "id": "fPlgEAe88b4c"
      },
      "execution_count": null,
      "outputs": []
    },
    {
      "cell_type": "code",
      "source": [
        "spx.plot(ax=ax, style='k-')"
      ],
      "metadata": {
        "colab": {
          "base_uri": "https://localhost:8080/"
        },
        "id": "78mt5B8A8yBc",
        "outputId": "f667aad5-3f56-4fc5-9062-f7ceb6907050"
      },
      "execution_count": null,
      "outputs": [
        {
          "output_type": "execute_result",
          "data": {
            "text/plain": [
              "<matplotlib.axes._subplots.AxesSubplot at 0x7f87d0f8eed0>"
            ]
          },
          "metadata": {},
          "execution_count": 93
        }
      ]
    },
    {
      "cell_type": "code",
      "execution_count": null,
      "metadata": {
        "deletable": true,
        "editable": true,
        "id": "xBuYoiXMmNgV",
        "colab": {
          "base_uri": "https://localhost:8080/",
          "height": 293
        },
        "outputId": "1ffcf738-0625-462a-c9bc-89a2f718c271"
      },
      "outputs": [
        {
          "output_type": "execute_result",
          "data": {
            "image/png": "[encoded data removed]",
            "text/plain": [
              "<Figure size 432x288 with 1 Axes>"
            ]
          },
          "metadata": {},
          "execution_count": 94
        }
      ],
      "source": [
        "#import annotations\n",
        "crisis_data = [\n",
        "    (datetime(2007, 10, 11), 'Peak of bull market'),\n",
        "    (datetime(2008, 3, 12), 'Bear Stearns Fails'),\n",
        "    (datetime(2008, 9, 15), 'Lehman Bankruptcy')\n",
        "]\n",
        "#use .annotate() over the annotations -> label = what to annotate, xy = where to put the arrow,\n",
        "#xytext = where to put the text, arrowprops = handles arrow size and color, horizonal and vertical alignment to arrange\n",
        "for date, label in crisis_data:\n",
        "    ax.annotate(label, xy=(date, spx.asof(date) + 75),\n",
        "                xytext=(date, spx.asof(date) + 225),\n",
        "                arrowprops=dict(facecolor='black', headwidth=4, width=2,\n",
        "                                headlength=4),\n",
        "                horizontalalignment='left', verticalalignment='top')\n",
        "\n",
        "# Zoom in on 2007-2010\n",
        "ax.set_xlim(['1/1/2007', '1/1/2011'])\n",
        "ax.set_ylim([600, 1800])\n",
        "\n",
        "ax.set_title('Important dates in the 2008-2009 financial crisis')\n",
        "fig"
      ]
    },
    {
      "cell_type": "markdown",
      "metadata": {
        "deletable": true,
        "editable": true,
        "id": "fhkyUGy7mNgV"
      },
      "source": [
        "Plot shapes using plt.Shapes! <br>\n",
        "1) Initialize figure (frame) and frame size, add subplot <br>\n",
        "2) Plot using plt.Shape <br>\n",
        "3) Use add_patch(Shape) to realize "
      ]
    },
    {
      "cell_type": "code",
      "execution_count": null,
      "metadata": {
        "deletable": true,
        "editable": true,
        "id": "dmtXu62mmNgV",
        "colab": {
          "base_uri": "https://localhost:8080/",
          "height": 395
        },
        "outputId": "72ed459e-42a6-403d-bc50-bb1169ba11d6"
      },
      "outputs": [
        {
          "output_type": "execute_result",
          "data": {
            "text/plain": [
              "<matplotlib.patches.Polygon at 0x7f87d0dde950>"
            ]
          },
          "metadata": {},
          "execution_count": 96
        },
        {
          "output_type": "display_data",
          "data": {
            "image/png": "[encoded data removed]",
            "text/plain": [
              "<Figure size 864x432 with 1 Axes>"
            ]
          },
          "metadata": {
            "needs_background": "light"
          }
        }
      ],
      "source": [
        "fig = plt.figure(figsize=(12, 6)); ax = fig.add_subplot(1, 1, 1)\n",
        "rect = plt.Rectangle((0.2, 0.75), 0.4, 0.15, color='k', alpha=0.3)\n",
        "circ = plt.Circle((0.7, 0.2), 0.15, color='b', alpha=0.3)\n",
        "pgon = plt.Polygon([[0.15, 0.15], [0.35, 0.4], [0.2, 0.6]],\n",
        "                   color='g', alpha=0.5)\n",
        "ax.add_patch(rect)\n",
        "ax.add_patch(circ)\n",
        "ax.add_patch(pgon)"
      ]
    },
    {
      "cell_type": "markdown",
      "metadata": {
        "deletable": true,
        "editable": true,
        "id": "O5zkAPyPmNgV"
      },
      "source": [
        "### Saving Plots to File"
      ]
    },
    {
      "cell_type": "markdown",
      "metadata": {
        "deletable": true,
        "editable": true,
        "id": "lOQGaGEDmNgV"
      },
      "source": [
        "plt.savefig('figpath.svg')"
      ]
    },
    {
      "cell_type": "markdown",
      "metadata": {
        "deletable": true,
        "editable": true,
        "id": "U6FLU7x1mNgV"
      },
      "source": [
        "plt.savefig('figpath.png', dpi=400, bbox_inches='tight')"
      ]
    },
    {
      "cell_type": "markdown",
      "metadata": {
        "deletable": true,
        "editable": true,
        "id": "bL54iidJmNgV"
      },
      "source": [
        "from io import BytesIO\n",
        "buffer = BytesIO()\n",
        "plt.savefig(buffer)\n",
        "plot_data = buffer.getvalue()"
      ]
    },
    {
      "cell_type": "markdown",
      "metadata": {
        "deletable": true,
        "editable": true,
        "id": "CsWzpO06mNgV"
      },
      "source": [
        "## Plotting with pandas and seaborn"
      ]
    },
    {
      "cell_type": "markdown",
      "metadata": {
        "deletable": true,
        "editable": true,
        "id": "6UP4YdkMmNgW"
      },
      "source": [
        "### Line Plots"
      ]
    },
    {
      "cell_type": "markdown",
      "source": [
        "Simply the plot() function on a series or dataframe:"
      ],
      "metadata": {
        "id": "g1wRDqLuNhS3"
      }
    },
    {
      "cell_type": "code",
      "execution_count": null,
      "metadata": {
        "deletable": true,
        "editable": true,
        "id": "Hi_5o7HHmNgW"
      },
      "outputs": [],
      "source": [
        "plt.close('all')"
      ]
    },
    {
      "cell_type": "code",
      "execution_count": null,
      "metadata": {
        "deletable": true,
        "editable": true,
        "id": "MaIGwEhymNgW",
        "colab": {
          "base_uri": "https://localhost:8080/",
          "height": 283
        },
        "outputId": "4ffb07d7-9081-4c45-ca9c-20e267356826"
      },
      "outputs": [
        {
          "output_type": "execute_result",
          "data": {
            "text/plain": [
              "<matplotlib.axes._subplots.AxesSubplot at 0x7f87d0e3afd0>"
            ]
          },
          "metadata": {},
          "execution_count": 98
        },
        {
          "output_type": "display_data",
          "data": {
            "image/png": "[encoded data removed]",
            "text/plain": [
              "<Figure size 432x288 with 1 Axes>"
            ]
          },
          "metadata": {
            "needs_background": "light"
          }
        }
      ],
      "source": [
        "s = pd.Series(np.random.randn(10).cumsum(), index=np.arange(0, 100, 10))\n",
        "s.plot()"
      ]
    },
    {
      "cell_type": "code",
      "execution_count": null,
      "metadata": {
        "deletable": true,
        "editable": true,
        "id": "limPYIGQmNgW"
      },
      "outputs": [],
      "source": [
        "df = pd.DataFrame(np.random.randn(10, 4).cumsum(0),\n",
        "                  columns=['A', 'B', 'C', 'D'],\n",
        "                  index=np.arange(0, 100, 10))\n",
        "df.plot()"
      ]
    },
    {
      "cell_type": "markdown",
      "metadata": {
        "deletable": true,
        "editable": true,
        "id": "aGdgdGRkmNgW"
      },
      "source": [
        "### Bar Plots"
      ]
    },
    {
      "cell_type": "markdown",
      "source": [
        "Plot.bar(axes, color, alpha) - alpha is grayscale, for styling. Works on Series:"
      ],
      "metadata": {
        "id": "nJn-0sQMOtzF"
      }
    },
    {
      "cell_type": "code",
      "execution_count": null,
      "metadata": {
        "deletable": true,
        "editable": true,
        "id": "irXac-ZVmNgW"
      },
      "outputs": [],
      "source": [
        "import matplotlib.pyplot as plt\n",
        "import pandas as pd\n",
        "import numpy as np\n",
        "\n",
        "fig, axes = plt.subplots(2, 1)\n",
        "data = pd.Series(np.random.rand(16), index=list('abcdefghijklmnop'))\n",
        "data.plot.bar(ax=axes[0], color='k', alpha=0.7)\n",
        "data.plot.barh(ax=axes[1], color='k', alpha=0.7)"
      ]
    },
    {
      "cell_type": "markdown",
      "source": [
        "Or Dataframes, equally:"
      ],
      "metadata": {
        "id": "7dfVz_6WPMX1"
      }
    },
    {
      "cell_type": "code",
      "execution_count": null,
      "metadata": {
        "deletable": true,
        "editable": true,
        "id": "ynzM8wvjmNgW",
        "colab": {
          "base_uri": "https://localhost:8080/",
          "height": 299
        },
        "outputId": "a088bc30-0f90-4d0f-86e5-47a830d234c4"
      },
      "outputs": [
        {
          "output_type": "execute_result",
          "data": {
            "text/plain": [
              "<matplotlib.axes._subplots.AxesSubplot at 0x7f79a1231ad0>"
            ]
          },
          "metadata": {},
          "execution_count": 11
        },
        {
          "output_type": "display_data",
          "data": {
            "image/png": "[encoded data removed]",
            "text/plain": [
              "<Figure size 432x288 with 1 Axes>"
            ]
          },
          "metadata": {
            "needs_background": "light"
          }
        }
      ],
      "source": [
        "df = pd.DataFrame(np.random.rand(6, 4),\n",
        "                  index=['one', 'two', 'three', 'four', 'five', 'six'],\n",
        "                  columns=pd.Index(['A', 'B', 'C', 'D'], name='Genus'))\n",
        "df\n",
        "df.plot.bar()"
      ]
    },
    {
      "cell_type": "markdown",
      "source": [
        "Say we want to stack all the bars, specify stacked = True in plot.barh() - barh is for horizontal stacking - this is typically better for viewing purposes."
      ],
      "metadata": {
        "id": "wZWIlcwbPYpf"
      }
    },
    {
      "cell_type": "code",
      "execution_count": null,
      "metadata": {
        "deletable": true,
        "editable": true,
        "id": "Nzh13GtzmNgW",
        "colab": {
          "base_uri": "https://localhost:8080/",
          "height": 282
        },
        "outputId": "5c82f563-03b5-4b3d-de8e-bf554ee0c001"
      },
      "outputs": [
        {
          "output_type": "execute_result",
          "data": {
            "text/plain": [
              "<matplotlib.axes._subplots.AxesSubplot at 0x7f79a1225490>"
            ]
          },
          "metadata": {},
          "execution_count": 12
        },
        {
          "output_type": "display_data",
          "data": {
            "image/png": "[encoded data removed]",
            "text/plain": [
              "<Figure size 432x288 with 1 Axes>"
            ]
          },
          "metadata": {
            "needs_background": "light"
          }
        }
      ],
      "source": [
        "df.plot.barh(stacked=True, alpha=0.5)"
      ]
    },
    {
      "cell_type": "code",
      "execution_count": null,
      "metadata": {
        "deletable": true,
        "editable": true,
        "id": "thploibdmNgW"
      },
      "outputs": [],
      "source": [
        "plt.close('all')"
      ]
    },
    {
      "cell_type": "markdown",
      "source": [
        "<h2> Exercise: Visualize Tips.CSV </h2> \n",
        "Boiler plate code for reading in CSV, and getting just the party counts by day. <br>\n",
        "1) Turn the party size counts into percentages, such that they sum to 1 for each day. Remember it's x/(sum(X)) *100 for % of total. Plot the percentages for only parties of 2-5 people in a bar graph of your choice. <br>\n",
        "2) Calculate the individual tips as a percentage of each total bill from the tips table. Plot the percentages using a standard line grap (simplest possible graph!)"
      ],
      "metadata": {
        "id": "Ew7F_tDHPmpq"
      }
    },
    {
      "cell_type": "code",
      "execution_count": null,
      "metadata": {
        "deletable": true,
        "editable": true,
        "id": "H2Ev1Fr5mNgW",
        "colab": {
          "base_uri": "https://localhost:8080/",
          "height": 206
        },
        "outputId": "5730f9b8-171d-457c-a276-786ca295b9aa"
      },
      "outputs": [
        {
          "output_type": "execute_result",
          "data": {
            "text/html": [
              "\n",
              "  <div id=\"df-cd215180-9575-441b-a1d4-daf655b046e9\">\n",
              "    <div class=\"colab-df-container\">\n",
              "      <div>\n",
              "<style scoped>\n",
              "    .dataframe tbody tr th:only-of-type {\n",
              "        vertical-align: middle;\n",
              "    }\n",
              "\n",
              "    .dataframe tbody tr th {\n",
              "        vertical-align: top;\n",
              "    }\n",
              "\n",
              "    .dataframe thead th {\n",
              "        text-align: right;\n",
              "    }\n",
              "</style>\n",
              "<table border=\"1\" class=\"dataframe\">\n",
              "  <thead>\n",
              "    <tr style=\"text-align: right;\">\n",
              "      <th>size</th>\n",
              "      <th>2</th>\n",
              "      <th>3</th>\n",
              "      <th>4</th>\n",
              "      <th>5</th>\n",
              "    </tr>\n",
              "    <tr>\n",
              "      <th>day</th>\n",
              "      <th></th>\n",
              "      <th></th>\n",
              "      <th></th>\n",
              "      <th></th>\n",
              "    </tr>\n",
              "  </thead>\n",
              "  <tbody>\n",
              "    <tr>\n",
              "      <th>Fri</th>\n",
              "      <td>16</td>\n",
              "      <td>1</td>\n",
              "      <td>1</td>\n",
              "      <td>0</td>\n",
              "    </tr>\n",
              "    <tr>\n",
              "      <th>Sat</th>\n",
              "      <td>53</td>\n",
              "      <td>18</td>\n",
              "      <td>13</td>\n",
              "      <td>1</td>\n",
              "    </tr>\n",
              "    <tr>\n",
              "      <th>Sun</th>\n",
              "      <td>39</td>\n",
              "      <td>15</td>\n",
              "      <td>18</td>\n",
              "      <td>3</td>\n",
              "    </tr>\n",
              "    <tr>\n",
              "      <th>Thur</th>\n",
              "      <td>48</td>\n",
              "      <td>4</td>\n",
              "      <td>5</td>\n",
              "      <td>1</td>\n",
              "    </tr>\n",
              "  </tbody>\n",
              "</table>\n",
              "</div>\n",
              "      <button class=\"colab-df-convert\" onclick=\"convertToInteractive('df-cd215180-9575-441b-a1d4-daf655b046e9')\"\n",
              "              title=\"Convert this dataframe to an interactive table.\"\n",
              "              style=\"display:none;\">\n",
              "        \n",
              "  <svg xmlns=\"http://www.w3.org/2000/svg\" height=\"24px\"viewBox=\"0 0 24 24\"\n",
              "       width=\"24px\">\n",
              "    <path d=\"M0 0h24v24H0V0z\" fill=\"none\"/>\n",
              "    <path d=\"M18.56 5.44l.94 2.06.94-2.06 2.06-.94-2.06-.94-.94-2.06-.94 2.06-2.06.94zm-11 1L8.5 8.5l.94-2.06 2.06-.94-2.06-.94L8.5 2.5l-.94 2.06-2.06.94zm10 10l.94 2.06.94-2.06 2.06-.94-2.06-.94-.94-2.06-.94 2.06-2.06.94z\"/><path d=\"M17.41 7.96l-1.37-1.37c-.4-.4-.92-.59-1.43-.59-.52 0-1.04.2-1.43.59L10.3 9.45l-7.72 7.72c-.78.78-.78 2.05 0 2.83L4 21.41c.39.39.9.59 1.41.59.51 0 1.02-.2 1.41-.59l7.78-7.78 2.81-2.81c.8-.78.8-2.07 0-2.86zM5.41 20L4 18.59l7.72-7.72 1.47 1.35L5.41 20z\"/>\n",
              "  </svg>\n",
              "      </button>\n",
              "      \n",
              "  <style>\n",
              "    .colab-df-container {\n",
              "      display:flex;\n",
              "      flex-wrap:wrap;\n",
              "      gap: 12px;\n",
              "    }\n",
              "\n",
              "    .colab-df-convert {\n",
              "      background-color: #E8F0FE;\n",
              "      border: none;\n",
              "      border-radius: 50%;\n",
              "      cursor: pointer;\n",
              "      display: none;\n",
              "      fill: #1967D2;\n",
              "      height: 32px;\n",
              "      padding: 0 0 0 0;\n",
              "      width: 32px;\n",
              "    }\n",
              "\n",
              "    .colab-df-convert:hover {\n",
              "      background-color: #E2EBFA;\n",
              "      box-shadow: 0px 1px 2px rgba(60, 64, 67, 0.3), 0px 1px 3px 1px rgba(60, 64, 67, 0.15);\n",
              "      fill: #174EA6;\n",
              "    }\n",
              "\n",
              "    [theme=dark] .colab-df-convert {\n",
              "      background-color: #3B4455;\n",
              "      fill: #D2E3FC;\n",
              "    }\n",
              "\n",
              "    [theme=dark] .colab-df-convert:hover {\n",
              "      background-color: #434B5C;\n",
              "      box-shadow: 0px 1px 3px 1px rgba(0, 0, 0, 0.15);\n",
              "      filter: drop-shadow(0px 1px 2px rgba(0, 0, 0, 0.3));\n",
              "      fill: #FFFFFF;\n",
              "    }\n",
              "  </style>\n",
              "\n",
              "      <script>\n",
              "        const buttonEl =\n",
              "          document.querySelector('#df-cd215180-9575-441b-a1d4-daf655b046e9 button.colab-df-convert');\n",
              "        buttonEl.style.display =\n",
              "          google.colab.kernel.accessAllowed ? 'block' : 'none';\n",
              "\n",
              "        async function convertToInteractive(key) {\n",
              "          const element = document.querySelector('#df-cd215180-9575-441b-a1d4-daf655b046e9');\n",
              "          const dataTable =\n",
              "            await google.colab.kernel.invokeFunction('convertToInteractive',\n",
              "                                                     [key], {});\n",
              "          if (!dataTable) return;\n",
              "\n",
              "          const docLinkHtml = 'Like what you see? Visit the ' +\n",
              "            '<a target=\"_blank\" href=https://colab.research.google.com/notebooks/data_table.ipynb>data table notebook</a>'\n",
              "            + ' to learn more about interactive tables.';\n",
              "          element.innerHTML = '';\n",
              "          dataTable['output_type'] = 'display_data';\n",
              "          await google.colab.output.renderOutput(dataTable, element);\n",
              "          const docLink = document.createElement('div');\n",
              "          docLink.innerHTML = docLinkHtml;\n",
              "          element.appendChild(docLink);\n",
              "        }\n",
              "      </script>\n",
              "    </div>\n",
              "  </div>\n",
              "  "
            ],
            "text/plain": [
              "size   2   3   4  5\n",
              "day                \n",
              "Fri   16   1   1  0\n",
              "Sat   53  18  13  1\n",
              "Sun   39  15  18  3\n",
              "Thur  48   4   5  1"
            ]
          },
          "metadata": {},
          "execution_count": 43
        }
      ],
      "source": [
        "import pandas as pd\n",
        "import numpy as np\n",
        "import matplotlib.pyplot as plt\n",
        "\n",
        "tips = pd.read_csv('tips.csv')\n",
        "tips\n",
        "party_counts = pd.crosstab(tips['day'], tips['size'])\n",
        "party_counts\n",
        "# Not many 1- and 6-person parties\n",
        "party_counts = party_counts.loc[:, 2:5]\n",
        "party_counts"
      ]
    },
    {
      "cell_type": "code",
      "execution_count": null,
      "metadata": {
        "deletable": true,
        "editable": true,
        "id": "oYY_fmZvmNgW",
        "colab": {
          "base_uri": "https://localhost:8080/",
          "height": 317
        },
        "outputId": "f7b4f6ef-4311-4e52-953c-64fddf69ec48"
      },
      "outputs": [
        {
          "output_type": "execute_result",
          "data": {
            "text/plain": [
              "<matplotlib.axes._subplots.AxesSubplot at 0x7f4585bf2d50>"
            ]
          },
          "metadata": {},
          "execution_count": 50
        },
        {
          "output_type": "display_data",
          "data": {
            "image/png": "[encoded data removed]",
            "text/plain": [
              "<Figure size 432x288 with 1 Axes>"
            ]
          },
          "metadata": {}
        }
      ],
      "source": [
        "# Normalize to sum to 1\n",
        "party_pcts = party_counts.div(party_counts.sum(1), axis=0)*100\n",
        "party_pcts\n",
        "party_pcts.plot.bar(stacked =True)"
      ]
    },
    {
      "cell_type": "code",
      "execution_count": null,
      "metadata": {
        "deletable": true,
        "editable": true,
        "id": "qhJ3OxeimNgW"
      },
      "outputs": [],
      "source": [
        "plt.close('all')"
      ]
    },
    {
      "cell_type": "code",
      "execution_count": null,
      "metadata": {
        "deletable": true,
        "editable": true,
        "id": "nKNlPt8emNgW",
        "colab": {
          "base_uri": "https://localhost:8080/",
          "height": 285
        },
        "outputId": "c7087b9d-5896-4c37-f8fc-aa9947bff4f8"
      },
      "outputs": [
        {
          "output_type": "execute_result",
          "data": {
            "text/plain": [
              "<matplotlib.axes._subplots.AxesSubplot at 0x7f4585fcb990>"
            ]
          },
          "metadata": {},
          "execution_count": 40
        },
        {
          "output_type": "display_data",
          "data": {
            "image/png": "[encoded data removed]",
            "text/plain": [
              "<Figure size 432x288 with 1 Axes>"
            ]
          },
          "metadata": {}
        }
      ],
      "source": [
        "tips['tip_pct'] = (tips['tip'] / (tips['total_bill'] - tips['tip']))*100\n",
        "tips.head()\n",
        "tips['tip_pct'].plot()\n"
      ]
    },
    {
      "cell_type": "code",
      "execution_count": null,
      "metadata": {
        "deletable": true,
        "editable": true,
        "id": "YxRpqsJxmNgW"
      },
      "outputs": [],
      "source": [
        "plt.close('all')"
      ]
    },
    {
      "cell_type": "markdown",
      "source": [
        "<h2> Seaborn with Pandas: </h2>\n",
        "Import seaborn as sns: seaborn is an extension of matplotlib and provides some nice additional functionality. Take our previous example: seaborn now adds error bars"
      ],
      "metadata": {
        "id": "HmrDgxFj7FVC"
      }
    },
    {
      "cell_type": "code",
      "source": [
        "import seaborn as sns\n",
        "sns.barplot(x='tip_pct', y='day', data=tips, orient='h')"
      ],
      "metadata": {
        "colab": {
          "base_uri": "https://localhost:8080/",
          "height": 297
        },
        "id": "qadz2ufC6aQz",
        "outputId": "8e4f014b-aa2c-47f1-ccec-19f5be8e9ea9"
      },
      "execution_count": null,
      "outputs": [
        {
          "output_type": "execute_result",
          "data": {
            "text/plain": [
              "<matplotlib.axes._subplots.AxesSubplot at 0x7f458ceaca10>"
            ]
          },
          "metadata": {},
          "execution_count": 15
        },
        {
          "output_type": "display_data",
          "data": {
            "image/png": "[encoded data removed]",
            "text/plain": [
              "<Figure size 432x288 with 1 Axes>"
            ]
          },
          "metadata": {
            "needs_background": "light"
          }
        }
      ]
    },
    {
      "cell_type": "code",
      "execution_count": null,
      "metadata": {
        "deletable": true,
        "editable": true,
        "id": "2FP4_M-HmNgW",
        "colab": {
          "base_uri": "https://localhost:8080/",
          "height": 297
        },
        "outputId": "f3c813b8-95e8-439a-865e-554e7c8a729a"
      },
      "outputs": [
        {
          "output_type": "execute_result",
          "data": {
            "text/plain": [
              "<matplotlib.axes._subplots.AxesSubplot at 0x7f458ce3b890>"
            ]
          },
          "metadata": {},
          "execution_count": 16
        },
        {
          "output_type": "display_data",
          "data": {
            "image/png": "[encoded data removed]",
            "text/plain": [
              "<Figure size 432x288 with 1 Axes>"
            ]
          },
          "metadata": {
            "needs_background": "light"
          }
        }
      ],
      "source": [
        "sns.barplot(x='tip_pct', y='day', hue='time', data=tips, orient='h')"
      ]
    },
    {
      "cell_type": "code",
      "execution_count": null,
      "metadata": {
        "deletable": true,
        "editable": true,
        "id": "9ON9EunOmNgX"
      },
      "outputs": [],
      "source": [
        "plt.close('all')"
      ]
    },
    {
      "cell_type": "code",
      "execution_count": null,
      "metadata": {
        "deletable": true,
        "editable": true,
        "id": "ttC4h_PPmNgX"
      },
      "outputs": [],
      "source": [
        "sns.set(style=\"whitegrid\")"
      ]
    },
    {
      "cell_type": "markdown",
      "metadata": {
        "deletable": true,
        "editable": true,
        "id": "fvKDJ5KhmNgX"
      },
      "source": [
        "### Histograms and Density Plots"
      ]
    },
    {
      "cell_type": "markdown",
      "source": [
        "Histograms are density visualizations that group data into user-specified bins. Using plot.hist() on a series, we can specify how tightly we want the data grouped with bins = __. "
      ],
      "metadata": {
        "id": "gyrrKlUt7zol"
      }
    },
    {
      "cell_type": "code",
      "execution_count": null,
      "metadata": {
        "deletable": true,
        "editable": true,
        "id": "AsfxRtL1mNgX",
        "colab": {
          "base_uri": "https://localhost:8080/",
          "height": 52
        },
        "outputId": "67f31798-c5d4-4f11-aaaa-957491d30476"
      },
      "outputs": [
        {
          "output_type": "execute_result",
          "data": {
            "text/plain": [
              "<Figure size 432x288 with 0 Axes>"
            ]
          },
          "metadata": {},
          "execution_count": 19
        },
        {
          "output_type": "display_data",
          "data": {
            "text/plain": [
              "<Figure size 432x288 with 0 Axes>"
            ]
          },
          "metadata": {}
        }
      ],
      "source": [
        "plt.figure()"
      ]
    },
    {
      "cell_type": "code",
      "execution_count": null,
      "metadata": {
        "deletable": true,
        "editable": true,
        "id": "e6KRvTLemNga",
        "colab": {
          "base_uri": "https://localhost:8080/",
          "height": 285
        },
        "outputId": "7b196060-8637-4fbc-a91c-85b25afab1be"
      },
      "outputs": [
        {
          "output_type": "execute_result",
          "data": {
            "text/plain": [
              "<matplotlib.axes._subplots.AxesSubplot at 0x7f458cdd5090>"
            ]
          },
          "metadata": {},
          "execution_count": 20
        },
        {
          "output_type": "display_data",
          "data": {
            "image/png": "[encoded data removed]",
            "text/plain": [
              "<Figure size 432x288 with 1 Axes>"
            ]
          },
          "metadata": {}
        }
      ],
      "source": [
        "tips['tip_pct'].plot.hist(bins=50)"
      ]
    },
    {
      "cell_type": "code",
      "execution_count": null,
      "metadata": {
        "deletable": true,
        "editable": true,
        "id": "MrXWMRbtmNga",
        "colab": {
          "base_uri": "https://localhost:8080/",
          "height": 52
        },
        "outputId": "a5b634b3-9839-45af-d7c6-3c50b97cb522"
      },
      "outputs": [
        {
          "output_type": "execute_result",
          "data": {
            "text/plain": [
              "<Figure size 432x288 with 0 Axes>"
            ]
          },
          "metadata": {},
          "execution_count": 21
        },
        {
          "output_type": "display_data",
          "data": {
            "text/plain": [
              "<Figure size 432x288 with 0 Axes>"
            ]
          },
          "metadata": {}
        }
      ],
      "source": [
        "plt.figure()"
      ]
    },
    {
      "cell_type": "markdown",
      "source": [
        "A density curve is the outline of a histogram plot."
      ],
      "metadata": {
        "id": "i1DGSlDs8C7p"
      }
    },
    {
      "cell_type": "code",
      "execution_count": null,
      "metadata": {
        "deletable": true,
        "editable": true,
        "id": "hUjz11kQmNga",
        "colab": {
          "base_uri": "https://localhost:8080/",
          "height": 285
        },
        "outputId": "6d9564f3-1b61-482f-8d82-00462d5a69d1"
      },
      "outputs": [
        {
          "output_type": "execute_result",
          "data": {
            "text/plain": [
              "<matplotlib.axes._subplots.AxesSubplot at 0x7f458cc5fe50>"
            ]
          },
          "metadata": {},
          "execution_count": 22
        },
        {
          "output_type": "display_data",
          "data": {
            "image/png": "[encoded data removed]",
            "text/plain": [
              "<Figure size 432x288 with 1 Axes>"
            ]
          },
          "metadata": {}
        }
      ],
      "source": [
        "tips['tip_pct'].plot.density()"
      ]
    },
    {
      "cell_type": "code",
      "execution_count": null,
      "metadata": {
        "deletable": true,
        "editable": true,
        "id": "mfyc_NWEmNga",
        "colab": {
          "base_uri": "https://localhost:8080/",
          "height": 52
        },
        "outputId": "765ef02b-fea0-48b5-a9fd-c2036a763f3a"
      },
      "outputs": [
        {
          "output_type": "execute_result",
          "data": {
            "text/plain": [
              "<Figure size 432x288 with 0 Axes>"
            ]
          },
          "metadata": {},
          "execution_count": 23
        },
        {
          "output_type": "display_data",
          "data": {
            "text/plain": [
              "<Figure size 432x288 with 0 Axes>"
            ]
          },
          "metadata": {}
        }
      ],
      "source": [
        "plt.figure()"
      ]
    },
    {
      "cell_type": "markdown",
      "source": [
        "Seaborn uses distplot() for a combined histogram and density curve:"
      ],
      "metadata": {
        "id": "UjPvAY0P8OkL"
      }
    },
    {
      "cell_type": "code",
      "execution_count": null,
      "metadata": {
        "deletable": true,
        "editable": true,
        "id": "byhVQBoimNga"
      },
      "outputs": [],
      "source": [
        "comp1 = np.random.normal(0, 1, size=200)\n",
        "comp2 = np.random.normal(10, 2, size=200)\n",
        "values = pd.Series(np.concatenate([comp1, comp2]))\n",
        "sns.distplot(values, bins=100, color='k')"
      ]
    },
    {
      "cell_type": "markdown",
      "metadata": {
        "deletable": true,
        "editable": true,
        "id": "_3hzq_gwmNga"
      },
      "source": [
        "### Scatter or Point Plots"
      ]
    },
    {
      "cell_type": "code",
      "execution_count": null,
      "metadata": {
        "deletable": true,
        "editable": true,
        "id": "C_Upk40GmNga",
        "colab": {
          "base_uri": "https://localhost:8080/",
          "height": 206
        },
        "outputId": "6a9ca0b8-8ae5-43b4-b2f9-c1b52b69c358"
      },
      "outputs": [
        {
          "output_type": "execute_result",
          "data": {
            "text/html": [
              "\n",
              "  <div id=\"df-1a12d979-7cdc-4c4f-9e46-4c67a94c05fd\">\n",
              "    <div class=\"colab-df-container\">\n",
              "      <div>\n",
              "<style scoped>\n",
              "    .dataframe tbody tr th:only-of-type {\n",
              "        vertical-align: middle;\n",
              "    }\n",
              "\n",
              "    .dataframe tbody tr th {\n",
              "        vertical-align: top;\n",
              "    }\n",
              "\n",
              "    .dataframe thead th {\n",
              "        text-align: right;\n",
              "    }\n",
              "</style>\n",
              "<table border=\"1\" class=\"dataframe\">\n",
              "  <thead>\n",
              "    <tr style=\"text-align: right;\">\n",
              "      <th></th>\n",
              "      <th>cpi</th>\n",
              "      <th>m1</th>\n",
              "      <th>tbilrate</th>\n",
              "      <th>unemp</th>\n",
              "    </tr>\n",
              "  </thead>\n",
              "  <tbody>\n",
              "    <tr>\n",
              "      <th>198</th>\n",
              "      <td>-0.007904</td>\n",
              "      <td>0.045361</td>\n",
              "      <td>-0.396881</td>\n",
              "      <td>0.105361</td>\n",
              "    </tr>\n",
              "    <tr>\n",
              "      <th>199</th>\n",
              "      <td>-0.021979</td>\n",
              "      <td>0.066753</td>\n",
              "      <td>-2.277267</td>\n",
              "      <td>0.139762</td>\n",
              "    </tr>\n",
              "    <tr>\n",
              "      <th>200</th>\n",
              "      <td>0.002340</td>\n",
              "      <td>0.010286</td>\n",
              "      <td>0.606136</td>\n",
              "      <td>0.160343</td>\n",
              "    </tr>\n",
              "    <tr>\n",
              "      <th>201</th>\n",
              "      <td>0.008419</td>\n",
              "      <td>0.037461</td>\n",
              "      <td>-0.200671</td>\n",
              "      <td>0.127339</td>\n",
              "    </tr>\n",
              "    <tr>\n",
              "      <th>202</th>\n",
              "      <td>0.008894</td>\n",
              "      <td>0.012202</td>\n",
              "      <td>-0.405465</td>\n",
              "      <td>0.042560</td>\n",
              "    </tr>\n",
              "  </tbody>\n",
              "</table>\n",
              "</div>\n",
              "      <button class=\"colab-df-convert\" onclick=\"convertToInteractive('df-1a12d979-7cdc-4c4f-9e46-4c67a94c05fd')\"\n",
              "              title=\"Convert this dataframe to an interactive table.\"\n",
              "              style=\"display:none;\">\n",
              "        \n",
              "  <svg xmlns=\"http://www.w3.org/2000/svg\" height=\"24px\"viewBox=\"0 0 24 24\"\n",
              "       width=\"24px\">\n",
              "    <path d=\"M0 0h24v24H0V0z\" fill=\"none\"/>\n",
              "    <path d=\"M18.56 5.44l.94 2.06.94-2.06 2.06-.94-2.06-.94-.94-2.06-.94 2.06-2.06.94zm-11 1L8.5 8.5l.94-2.06 2.06-.94-2.06-.94L8.5 2.5l-.94 2.06-2.06.94zm10 10l.94 2.06.94-2.06 2.06-.94-2.06-.94-.94-2.06-.94 2.06-2.06.94z\"/><path d=\"M17.41 7.96l-1.37-1.37c-.4-.4-.92-.59-1.43-.59-.52 0-1.04.2-1.43.59L10.3 9.45l-7.72 7.72c-.78.78-.78 2.05 0 2.83L4 21.41c.39.39.9.59 1.41.59.51 0 1.02-.2 1.41-.59l7.78-7.78 2.81-2.81c.8-.78.8-2.07 0-2.86zM5.41 20L4 18.59l7.72-7.72 1.47 1.35L5.41 20z\"/>\n",
              "  </svg>\n",
              "      </button>\n",
              "      \n",
              "  <style>\n",
              "    .colab-df-container {\n",
              "      display:flex;\n",
              "      flex-wrap:wrap;\n",
              "      gap: 12px;\n",
              "    }\n",
              "\n",
              "    .colab-df-convert {\n",
              "      background-color: #E8F0FE;\n",
              "      border: none;\n",
              "      border-radius: 50%;\n",
              "      cursor: pointer;\n",
              "      display: none;\n",
              "      fill: #1967D2;\n",
              "      height: 32px;\n",
              "      padding: 0 0 0 0;\n",
              "      width: 32px;\n",
              "    }\n",
              "\n",
              "    .colab-df-convert:hover {\n",
              "      background-color: #E2EBFA;\n",
              "      box-shadow: 0px 1px 2px rgba(60, 64, 67, 0.3), 0px 1px 3px 1px rgba(60, 64, 67, 0.15);\n",
              "      fill: #174EA6;\n",
              "    }\n",
              "\n",
              "    [theme=dark] .colab-df-convert {\n",
              "      background-color: #3B4455;\n",
              "      fill: #D2E3FC;\n",
              "    }\n",
              "\n",
              "    [theme=dark] .colab-df-convert:hover {\n",
              "      background-color: #434B5C;\n",
              "      box-shadow: 0px 1px 3px 1px rgba(0, 0, 0, 0.15);\n",
              "      filter: drop-shadow(0px 1px 2px rgba(0, 0, 0, 0.3));\n",
              "      fill: #FFFFFF;\n",
              "    }\n",
              "  </style>\n",
              "\n",
              "      <script>\n",
              "        const buttonEl =\n",
              "          document.querySelector('#df-1a12d979-7cdc-4c4f-9e46-4c67a94c05fd button.colab-df-convert');\n",
              "        buttonEl.style.display =\n",
              "          google.colab.kernel.accessAllowed ? 'block' : 'none';\n",
              "\n",
              "        async function convertToInteractive(key) {\n",
              "          const element = document.querySelector('#df-1a12d979-7cdc-4c4f-9e46-4c67a94c05fd');\n",
              "          const dataTable =\n",
              "            await google.colab.kernel.invokeFunction('convertToInteractive',\n",
              "                                                     [key], {});\n",
              "          if (!dataTable) return;\n",
              "\n",
              "          const docLinkHtml = 'Like what you see? Visit the ' +\n",
              "            '<a target=\"_blank\" href=https://colab.research.google.com/notebooks/data_table.ipynb>data table notebook</a>'\n",
              "            + ' to learn more about interactive tables.';\n",
              "          element.innerHTML = '';\n",
              "          dataTable['output_type'] = 'display_data';\n",
              "          await google.colab.output.renderOutput(dataTable, element);\n",
              "          const docLink = document.createElement('div');\n",
              "          docLink.innerHTML = docLinkHtml;\n",
              "          element.appendChild(docLink);\n",
              "        }\n",
              "      </script>\n",
              "    </div>\n",
              "  </div>\n",
              "  "
            ],
            "text/plain": [
              "          cpi        m1  tbilrate     unemp\n",
              "198 -0.007904  0.045361 -0.396881  0.105361\n",
              "199 -0.021979  0.066753 -2.277267  0.139762\n",
              "200  0.002340  0.010286  0.606136  0.160343\n",
              "201  0.008419  0.037461 -0.200671  0.127339\n",
              "202  0.008894  0.012202 -0.405465  0.042560"
            ]
          },
          "metadata": {},
          "execution_count": 26
        }
      ],
      "source": [
        "macro = pd.read_csv('macrodata.csv')\n",
        "data = macro[['cpi', 'm1', 'tbilrate', 'unemp']]\n",
        "trans_data = np.log(data).diff().dropna()\n",
        "trans_data[-5:]"
      ]
    },
    {
      "cell_type": "code",
      "execution_count": null,
      "metadata": {
        "deletable": true,
        "editable": true,
        "id": "UYTx0A-GmNga",
        "colab": {
          "base_uri": "https://localhost:8080/",
          "height": 52
        },
        "outputId": "dc7d3c4e-95d9-4d2c-a114-d8e97eac2282"
      },
      "outputs": [
        {
          "output_type": "execute_result",
          "data": {
            "text/plain": [
              "<Figure size 432x288 with 0 Axes>"
            ]
          },
          "metadata": {},
          "execution_count": 27
        },
        {
          "output_type": "display_data",
          "data": {
            "text/plain": [
              "<Figure size 432x288 with 0 Axes>"
            ]
          },
          "metadata": {}
        }
      ],
      "source": [
        "plt.figure()"
      ]
    },
    {
      "cell_type": "markdown",
      "source": [
        "Scatter-plots scatter an X and Y series across a graph so we can see the correlation of the two sets. In regular matplotlib, we use plot.scatter(x,y):"
      ],
      "metadata": {
        "id": "8cTNU0z987Zd"
      }
    },
    {
      "cell_type": "code",
      "source": [
        "trans_data.plot.scatter('m1', 'unemp')"
      ],
      "metadata": {
        "id": "AVzoXHUY8oec"
      },
      "execution_count": null,
      "outputs": []
    },
    {
      "cell_type": "markdown",
      "source": [
        "But in seaborn regplot() we can see additional functionality like a line of best fit and a variance zone:"
      ],
      "metadata": {
        "id": "6rhINLCT9Hj9"
      }
    },
    {
      "cell_type": "code",
      "execution_count": null,
      "metadata": {
        "deletable": true,
        "editable": true,
        "id": "DoBD0SubmNga",
        "colab": {
          "base_uri": "https://localhost:8080/",
          "height": 373
        },
        "outputId": "cf03ca2d-9973-416f-a5cd-77b852a96160"
      },
      "outputs": [
        {
          "output_type": "stream",
          "name": "stderr",
          "text": [
            "/usr/local/lib/python3.7/dist-packages/seaborn/_decorators.py:43: FutureWarning: Pass the following variables as keyword args: x, y. From version 0.12, the only valid positional argument will be `data`, and passing other arguments without an explicit keyword will result in an error or misinterpretation.\n",
            "  FutureWarning\n"
          ]
        },
        {
          "output_type": "execute_result",
          "data": {
            "text/plain": [
              "Text(0.5, 1.0, 'Changes in log m1 versus log unemp')"
            ]
          },
          "metadata": {},
          "execution_count": 31
        },
        {
          "output_type": "display_data",
          "data": {
            "image/png": "[encoded data removed]",
            "text/plain": [
              "<Figure size 432x288 with 1 Axes>"
            ]
          },
          "metadata": {}
        }
      ],
      "source": [
        "sns.regplot('m1', 'unemp', data=trans_data)\n",
        "plt.title('Changes in log %s versus log %s' % ('m1', 'unemp'))"
      ]
    },
    {
      "cell_type": "markdown",
      "source": [
        "<h2> Exercise </h2> :\n",
        "Using the class heights file from last class: <br>\n",
        "1) Plot the heights in cm as a line plot in matplotlib <br>\n",
        "2) Plot the average height of males against females in the class using a scatterplot in either seaborn or matplotlib<br>\n",
        "3) Create a separate column in the data frame to hold the difference from the mean height. Plot the difference from the mean against the heights on the same plot. <br> "
      ],
      "metadata": {
        "id": "9Hlt_2rG9rk4"
      }
    },
    {
      "cell_type": "markdown",
      "source": [
        "Solution:"
      ],
      "metadata": {
        "id": "Pa9R_uPBDzkp"
      }
    },
    {
      "cell_type": "code",
      "source": [
        "import math\n",
        "from statistics import mode\n",
        "import pandas as pd\n",
        "import numpy as np\n",
        "import matplotlib.pyplot as plt\n",
        "\n",
        "class_heights = pd.read_csv('class_heights.txt',delimiter='|')\n",
        "# 1) Clean the data\n",
        "# 2) Make column names Title Case \n",
        "class_heights['Gender'] = class_heights['gender'].str.title()\n",
        "class_heights['Height'] = class_heights['height'].str.title()\n",
        "class_heights['Gender'] = class_heights['Gender'].astype('string')\n",
        "del class_heights['gender']\n",
        "del class_heights ['height']\n",
        "\n",
        "# 3) Sort gender column by Gender. Female first\n",
        "class_heights['Gender'] = sorted(class_heights['Gender'],reverse=False)\n",
        "\n",
        "# 4) Convert heights to centimeters\n",
        "class_heights['Height_CM'] = class_heights['Height'].map(lambda x: x.replace(\"'\",\"\"))\n",
        "class_heights['Height_CM'] = [(float(i[0])*30.48) + (float(i[1])*2.54) for i in class_heights['Height_CM']]\n",
        "\n",
        "# 5) Count how many of each gender are in the total class_heights\n",
        "num_male = len([ x for x in class_heights['Gender'] if x == 'Male' ]) \n",
        "num_female = len(class_heights['Gender']) - num_male\n",
        "\n",
        "# 6) Calc the average height of each gender and the class total\n",
        "\n",
        "\n",
        "\n",
        "# 7) Calc the mean, median, mode, and standard deviantion for the total class\n",
        "\n",
        "class_heights['Height_CM'].plot()\n",
        "class_heights\n"
      ],
      "metadata": {
        "id": "YkGvhOwe9v2H"
      },
      "execution_count": null,
      "outputs": []
    },
    {
      "cell_type": "code",
      "source": [
        ""
      ],
      "metadata": {
        "id": "cUCPDN__DWMx"
      },
      "execution_count": null,
      "outputs": []
    }
  ],
  "metadata": {
    "kernelspec": {
      "display_name": "Python 3",
      "language": "python",
      "name": "python3"
    },
    "language_info": {
      "codemirror_mode": {
        "name": "ipython",
        "version": 3
      },
      "file_extension": ".py",
      "mimetype": "text/x-python",
      "name": "python",
      "nbconvert_exporter": "python",
      "pygments_lexer": "ipython3",
      "version": "3.6.0"
    },
    "colab": {
      "name": "lesson 16 - with answers",
      "provenance": [],
      "collapsed_sections": [
        "O5zkAPyPmNgV",
        "6UP4YdkMmNgW",
        "aGdgdGRkmNgW",
        "fvKDJ5KhmNgX"
      ]
    }
  },
  "nbformat": 4,
  "nbformat_minor": 0
}