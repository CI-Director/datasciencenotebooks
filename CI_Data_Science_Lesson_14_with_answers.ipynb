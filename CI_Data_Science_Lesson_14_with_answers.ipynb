{
  "cells": [
    {
      "cell_type": "markdown",
      "source": [
        "\n",
        "\n",
        "\n",
        "\n",
        "\n",
        "<a href=\"https://codeimmersives.com\"><img src = \"https://www.codeimmersives.com/wp-content/uploads/2019/09/CodeImmersives_Logo_RGB_NYC_BW.png\" width = 400> </a>\n",
        "\n",
        "\n",
        "<h1 align=center><font size = 5>Agenda</font></h1>"
      ],
      "metadata": {
        "id": "NrmesXn_6xGN"
      }
    },
    {
      "cell_type": "markdown",
      "source": [
        "### \n",
        "<div class=\"alert alert-block alert-info\" style=\"margin-top: 20px\">\n",
        "\n",
        "1.  [Exercise Review](#0)<br>\n",
        "2.  [Pandas Probelm Walkthrough](#2)<br>\n",
        "2.  [Pandas Problem Walkthrough 2](#10)<br> \n",
        "3.  [Pandas Problem Walkthrough 3](#12)\n",
        "4.  [Exercise] \n",
        "<br>     \n",
        "</div>\n",
        "<hr>"
      ],
      "metadata": {
        "id": "ETs9WrSZ64t3"
      }
    },
    {
      "cell_type": "markdown",
      "metadata": {
        "id": "Weh3fFcCUl73"
      },
      "source": [
        "<h2>Creata a dataframe using a list of lists</h2>"
      ]
    },
    {
      "cell_type": "code",
      "execution_count": null,
      "metadata": {
        "id": "hcOA6zuQUl73",
        "outputId": "b2cee529-9a69-446e-c6da-e062d98a40dd"
      },
      "outputs": [
        {
          "output_type": "execute_result",
          "data": {
            "text/plain": [
              "       col 1  col 2  col 3\n",
              "row_1      1      0      0\n",
              "row_2      0      1      0\n",
              "row_3      0      0      1"
            ],
            "text/html": "<div>\n<style scoped>\n    .dataframe tbody tr th:only-of-type {\n        vertical-align: middle;\n    }\n\n    .dataframe tbody tr th {\n        vertical-align: top;\n    }\n\n    .dataframe thead th {\n        text-align: right;\n    }\n</style>\n<table border=\"1\" class=\"dataframe\">\n  <thead>\n    <tr style=\"text-align: right;\">\n      <th></th>\n      <th>col 1</th>\n      <th>col 2</th>\n      <th>col 3</th>\n    </tr>\n  </thead>\n  <tbody>\n    <tr>\n      <th>row_1</th>\n      <td>1</td>\n      <td>0</td>\n      <td>0</td>\n    </tr>\n    <tr>\n      <th>row_2</th>\n      <td>0</td>\n      <td>1</td>\n      <td>0</td>\n    </tr>\n    <tr>\n      <th>row_3</th>\n      <td>0</td>\n      <td>0</td>\n      <td>1</td>\n    </tr>\n  </tbody>\n</table>\n</div>"
          },
          "metadata": {},
          "execution_count": 4
        }
      ],
      "source": [
        "import numpy as nd\n",
        "import pandas as pd\n",
        "idx = ['row_1','row_2','row_3']\n",
        "df = pd.DataFrame([[1,0,0],[0, 1, 0],[0,0,1]],index=idx,columns=['col 1','col 2','col 3'])\n",
        "df"
      ]
    },
    {
      "cell_type": "code",
      "source": [
        ""
      ],
      "metadata": {
        "id": "FqL3XFvlB0hF"
      },
      "execution_count": null,
      "outputs": []
    },
    {
      "cell_type": "code",
      "execution_count": null,
      "metadata": {
        "id": "02bGUnb6Ul73"
      },
      "outputs": [],
      "source": [
        "import pandas as pd\n",
        "amd = pd.read_csv('AMD.csv')\n",
        "amd"
      ]
    },
    {
      "cell_type": "markdown",
      "source": [
        "<h2> US Cities Step by Step </h2> \n",
        "1) load the data and view the first 5 entries\n"
      ],
      "metadata": {
        "id": "ZzE-OiU4-fgH"
      }
    },
    {
      "cell_type": "code",
      "execution_count": null,
      "metadata": {
        "colab": {
          "base_uri": "https://localhost:8080/",
          "height": 250
        },
        "id": "iy-jZnTvUl74",
        "outputId": "24280ae0-f634-4693-d523-5de4d66690a8"
      },
      "outputs": [
        {
          "output_type": "execute_result",
          "data": {
            "text/plain": [
              "   Order                   State_City  Population           Budget  \\\n",
              "0      1          New York, New York   8,405,837   $73,000,000,000   \n",
              "1      2     Los Angeles, California   3,884,307   $8,100,000,000    \n",
              "2      3           Chicago, Illinois   2,718,782   $7,300,000,000    \n",
              "3      4              Houston, Texas   2,195,914   $5,100,000,000    \n",
              "4      5  Philadelphia, Pennsylvania   1,553,165   $3,950,000,000    \n",
              "\n",
              "                   Mayor  Begin_Term  End_Term    Govern_Type  foo1 foo2  \n",
              "0    Bill de Blasio (D)         2014      2022  Strong mayor   Yes    No  \n",
              "1     Eric Garcetti (D)         2013      2022  Strong mayor   Yes    No  \n",
              "2    Lori Lightfoot (D)         2019      2023  Strong mayor    No    No  \n",
              "3  Sylvester Turner (D)         2016      2024  Strong mayor    No    No  \n",
              "4      James Kenney (D)         2016      2024  Strong mayor    No    No  "
            ],
            "text/html": "<div>\n<style scoped>\n    .dataframe tbody tr th:only-of-type {\n        vertical-align: middle;\n    }\n\n    .dataframe tbody tr th {\n        vertical-align: top;\n    }\n\n    .dataframe thead th {\n        text-align: right;\n    }\n</style>\n<table border=\"1\" class=\"dataframe\">\n  <thead>\n    <tr style=\"text-align: right;\">\n      <th></th>\n      <th>Order</th>\n      <th>State_City</th>\n      <th>Population</th>\n      <th>Budget</th>\n      <th>Mayor</th>\n      <th>Begin_Term</th>\n      <th>End_Term</th>\n      <th>Govern_Type</th>\n      <th>foo1</th>\n      <th>foo2</th>\n    </tr>\n  </thead>\n  <tbody>\n    <tr>\n      <th>0</th>\n      <td>1</td>\n      <td>New York, New York</td>\n      <td>8,405,837</td>\n      <td>$73,000,000,000</td>\n      <td>Bill de Blasio (D)</td>\n      <td>2014</td>\n      <td>2022</td>\n      <td>Strong mayor</td>\n      <td>Yes</td>\n      <td>No</td>\n    </tr>\n    <tr>\n      <th>1</th>\n      <td>2</td>\n      <td>Los Angeles, California</td>\n      <td>3,884,307</td>\n      <td>$8,100,000,000</td>\n      <td>Eric Garcetti (D)</td>\n      <td>2013</td>\n      <td>2022</td>\n      <td>Strong mayor</td>\n      <td>Yes</td>\n      <td>No</td>\n    </tr>\n    <tr>\n      <th>2</th>\n      <td>3</td>\n      <td>Chicago, Illinois</td>\n      <td>2,718,782</td>\n      <td>$7,300,000,000</td>\n      <td>Lori Lightfoot (D)</td>\n      <td>2019</td>\n      <td>2023</td>\n      <td>Strong mayor</td>\n      <td>No</td>\n      <td>No</td>\n    </tr>\n    <tr>\n      <th>3</th>\n      <td>4</td>\n      <td>Houston, Texas</td>\n      <td>2,195,914</td>\n      <td>$5,100,000,000</td>\n      <td>Sylvester Turner (D)</td>\n      <td>2016</td>\n      <td>2024</td>\n      <td>Strong mayor</td>\n      <td>No</td>\n      <td>No</td>\n    </tr>\n    <tr>\n      <th>4</th>\n      <td>5</td>\n      <td>Philadelphia, Pennsylvania</td>\n      <td>1,553,165</td>\n      <td>$3,950,000,000</td>\n      <td>James Kenney (D)</td>\n      <td>2016</td>\n      <td>2024</td>\n      <td>Strong mayor</td>\n      <td>No</td>\n      <td>No</td>\n    </tr>\n  </tbody>\n</table>\n</div>"
          },
          "metadata": {},
          "execution_count": 7
        }
      ],
      "source": [
        "df = pd.read_csv('US_Cities_delimited.txt',delimiter='|')\n",
        "df.head()  # The default is the first 5\n"
      ]
    },
    {
      "cell_type": "markdown",
      "source": [
        "2) View the object types of each column"
      ],
      "metadata": {
        "id": "dLVGJXYU-4iM"
      }
    },
    {
      "cell_type": "code",
      "execution_count": null,
      "metadata": {
        "id": "dDSEr63mUl74",
        "outputId": "4b83fd3b-b9eb-48ff-9d2e-79295c027484"
      },
      "outputs": [
        {
          "output_type": "execute_result",
          "data": {
            "text/plain": [
              "Order           int64\n",
              "State_City     object\n",
              "Population     object\n",
              "Budget         object\n",
              "Mayor          object\n",
              "Begin_Term      int64\n",
              "End_Term        int64\n",
              "Govern_Type    object\n",
              "foo1           object\n",
              "foo2           object\n",
              "dtype: object"
            ]
          },
          "metadata": {},
          "execution_count": 8
        }
      ],
      "source": [
        "df.dtypes"
      ]
    },
    {
      "cell_type": "markdown",
      "source": [
        "Slice the 50th to 75th row entries and all columns without loc[]"
      ],
      "metadata": {
        "id": "cCHfXaE7-82P"
      }
    },
    {
      "cell_type": "code",
      "execution_count": null,
      "metadata": {
        "id": "7TkKWCrJUl74"
      },
      "outputs": [],
      "source": [
        "df[50:75]"
      ]
    },
    {
      "cell_type": "markdown",
      "source": [
        "Slice the 60th to 75th row for the Population column using loc[]"
      ],
      "metadata": {
        "id": "Jiq8nXjEBmd8"
      }
    },
    {
      "cell_type": "code",
      "execution_count": null,
      "metadata": {
        "id": "Hw5fn0VgUl75",
        "outputId": "5cd91905-de46-4662-9c02-80bcb2e5894d"
      },
      "outputs": [
        {
          "output_type": "execute_result",
          "data": {
            "text/plain": [
              "60    305,841 \n",
              "61    300,950 \n",
              "62    298,118 \n",
              "63    297,517 \n",
              "64    294,873 \n",
              "65    282,313 \n",
              "66    279,639 \n",
              "67    278,427 \n",
              "68    274,409 \n",
              "69    270,811 \n",
              "70    268,738 \n",
              "71    258,959 \n",
              "72    257,342 \n",
              "73    256,780 \n",
              "74    256,496 \n",
              "75    255,483 \n",
              "Name: Population, dtype: object"
            ]
          },
          "metadata": {},
          "execution_count": 10
        }
      ],
      "source": [
        "df.loc[60:75, 'Population']"
      ]
    },
    {
      "cell_type": "markdown",
      "source": [
        "Filter only cities with Mayors who began terms in 2016."
      ],
      "metadata": {
        "id": "uVX-dn4jDLli"
      }
    },
    {
      "cell_type": "code",
      "execution_count": null,
      "metadata": {
        "id": "2t6TVnS1Ul75",
        "outputId": "74b043d9-ce83-4f8c-ccbc-c899b5e91809"
      },
      "outputs": [
        {
          "output_type": "execute_result",
          "data": {
            "text/plain": [
              "    Order                   State_City  Population           Budget  \\\n",
              "3       4              Houston, Texas   2,195,914   $5,100,000,000    \n",
              "4       5  Philadelphia, Pennsylvania   1,553,165   $3,950,000,000    \n",
              "12     13       Indianapolis, Indiana     843,393   $1,030,000,000    \n",
              "20     21          Memphis, Tennessee     653,450     $618,000,000    \n",
              "34     35      Sacramento, California     479,686     $819,000,000    \n",
              "46     47             Tulsa, Oklahoma     398,121     $597,000,000    \n",
              "79     80           Norfolk, Virginia     246,139   $1,100,000,000    \n",
              "82     83              Lubbock, Texas     239,538     $674,500,000    \n",
              "95     96         Fremont, California     224,922     $238,460,000    \n",
              "99    100          Richmond, Virginia     207,878   $1,722,417,160    \n",
              "\n",
              "                      Mayor  Begin_Term  End_Term       Govern_Type  foo1 foo2  \n",
              "3     Sylvester Turner (D)         2016      2024     Strong mayor    No    No  \n",
              "4         James Kenney (D)         2016      2024     Strong mayor    No    No  \n",
              "12      Joseph Hogsett (D)         2016      2024     Strong mayor    No    No  \n",
              "20      Jim Strickland (D)         2016      2024     Strong mayor    No    No  \n",
              "34   Darrell Steinberg (D)         2016      2024  Council-manager   Yes   Yes  \n",
              "46         G. T. Bynum (R)         2016      2024     Strong mayor    No   Yes  \n",
              "79   Kenneth Alexander (D)         2016      2024  Council-manager   Yes   Yes  \n",
              "82            Dan Pope (R)         2016      2020  Council-manager   Yes   Yes  \n",
              "95  Lily Mei (Nonpartisan)         2016      2020  Council-manager   Yes   Yes  \n",
              "99        Levar Stoney (D)         2016      2020     Strong mayor   Yes   Yes  "
            ],
            "text/html": "<div>\n<style scoped>\n    .dataframe tbody tr th:only-of-type {\n        vertical-align: middle;\n    }\n\n    .dataframe tbody tr th {\n        vertical-align: top;\n    }\n\n    .dataframe thead th {\n        text-align: right;\n    }\n</style>\n<table border=\"1\" class=\"dataframe\">\n  <thead>\n    <tr style=\"text-align: right;\">\n      <th></th>\n      <th>Order</th>\n      <th>State_City</th>\n      <th>Population</th>\n      <th>Budget</th>\n      <th>Mayor</th>\n      <th>Begin_Term</th>\n      <th>End_Term</th>\n      <th>Govern_Type</th>\n      <th>foo1</th>\n      <th>foo2</th>\n    </tr>\n  </thead>\n  <tbody>\n    <tr>\n      <th>3</th>\n      <td>4</td>\n      <td>Houston, Texas</td>\n      <td>2,195,914</td>\n      <td>$5,100,000,000</td>\n      <td>Sylvester Turner (D)</td>\n      <td>2016</td>\n      <td>2024</td>\n      <td>Strong mayor</td>\n      <td>No</td>\n      <td>No</td>\n    </tr>\n    <tr>\n      <th>4</th>\n      <td>5</td>\n      <td>Philadelphia, Pennsylvania</td>\n      <td>1,553,165</td>\n      <td>$3,950,000,000</td>\n      <td>James Kenney (D)</td>\n      <td>2016</td>\n      <td>2024</td>\n      <td>Strong mayor</td>\n      <td>No</td>\n      <td>No</td>\n    </tr>\n    <tr>\n      <th>12</th>\n      <td>13</td>\n      <td>Indianapolis, Indiana</td>\n      <td>843,393</td>\n      <td>$1,030,000,000</td>\n      <td>Joseph Hogsett (D)</td>\n      <td>2016</td>\n      <td>2024</td>\n      <td>Strong mayor</td>\n      <td>No</td>\n      <td>No</td>\n    </tr>\n    <tr>\n      <th>20</th>\n      <td>21</td>\n      <td>Memphis, Tennessee</td>\n      <td>653,450</td>\n      <td>$618,000,000</td>\n      <td>Jim Strickland (D)</td>\n      <td>2016</td>\n      <td>2024</td>\n      <td>Strong mayor</td>\n      <td>No</td>\n      <td>No</td>\n    </tr>\n    <tr>\n      <th>34</th>\n      <td>35</td>\n      <td>Sacramento, California</td>\n      <td>479,686</td>\n      <td>$819,000,000</td>\n      <td>Darrell Steinberg (D)</td>\n      <td>2016</td>\n      <td>2024</td>\n      <td>Council-manager</td>\n      <td>Yes</td>\n      <td>Yes</td>\n    </tr>\n    <tr>\n      <th>46</th>\n      <td>47</td>\n      <td>Tulsa, Oklahoma</td>\n      <td>398,121</td>\n      <td>$597,000,000</td>\n      <td>G. T. Bynum (R)</td>\n      <td>2016</td>\n      <td>2024</td>\n      <td>Strong mayor</td>\n      <td>No</td>\n      <td>Yes</td>\n    </tr>\n    <tr>\n      <th>79</th>\n      <td>80</td>\n      <td>Norfolk, Virginia</td>\n      <td>246,139</td>\n      <td>$1,100,000,000</td>\n      <td>Kenneth Alexander (D)</td>\n      <td>2016</td>\n      <td>2024</td>\n      <td>Council-manager</td>\n      <td>Yes</td>\n      <td>Yes</td>\n    </tr>\n    <tr>\n      <th>82</th>\n      <td>83</td>\n      <td>Lubbock, Texas</td>\n      <td>239,538</td>\n      <td>$674,500,000</td>\n      <td>Dan Pope (R)</td>\n      <td>2016</td>\n      <td>2020</td>\n      <td>Council-manager</td>\n      <td>Yes</td>\n      <td>Yes</td>\n    </tr>\n    <tr>\n      <th>95</th>\n      <td>96</td>\n      <td>Fremont, California</td>\n      <td>224,922</td>\n      <td>$238,460,000</td>\n      <td>Lily Mei (Nonpartisan)</td>\n      <td>2016</td>\n      <td>2020</td>\n      <td>Council-manager</td>\n      <td>Yes</td>\n      <td>Yes</td>\n    </tr>\n    <tr>\n      <th>99</th>\n      <td>100</td>\n      <td>Richmond, Virginia</td>\n      <td>207,878</td>\n      <td>$1,722,417,160</td>\n      <td>Levar Stoney (D)</td>\n      <td>2016</td>\n      <td>2020</td>\n      <td>Strong mayor</td>\n      <td>Yes</td>\n      <td>Yes</td>\n    </tr>\n  </tbody>\n</table>\n</div>"
          },
          "metadata": {},
          "execution_count": 11
        }
      ],
      "source": [
        "df[df.Begin_Term == 2016 ]"
      ]
    },
    {
      "cell_type": "markdown",
      "source": [
        "Count the total number of cities."
      ],
      "metadata": {
        "id": "SsmdwdYgDTD-"
      }
    },
    {
      "cell_type": "code",
      "execution_count": null,
      "metadata": {
        "id": "wzKepVJ0Ul75"
      },
      "outputs": [],
      "source": [
        "df.count()"
      ]
    },
    {
      "cell_type": "markdown",
      "source": [
        "Count the mean year that the Mayors began their terms. "
      ],
      "metadata": {
        "id": "6rpWZF3SDVpJ"
      }
    },
    {
      "cell_type": "code",
      "execution_count": null,
      "metadata": {
        "id": "RHbeAcDFUl75"
      },
      "outputs": [],
      "source": [
        "df.Begin_Term.describe().loc['mean']"
      ]
    },
    {
      "cell_type": "markdown",
      "metadata": {
        "id": "S1d0FereUl76"
      },
      "source": [
        "<h2>Use .unique() for unique values<h2>"
      ]
    },
    {
      "cell_type": "code",
      "execution_count": null,
      "metadata": {
        "id": "dnqX2dakUl76"
      },
      "outputs": [],
      "source": [
        "df.Begin_Term.unique()"
      ]
    },
    {
      "cell_type": "code",
      "execution_count": null,
      "metadata": {
        "id": "4g0BDsq1Ul76"
      },
      "outputs": [],
      "source": [
        "df['Begin_Term'].unique()"
      ]
    },
    {
      "cell_type": "code",
      "execution_count": null,
      "metadata": {
        "id": "KEECFwKeUl76"
      },
      "outputs": [],
      "source": [
        "df.groupby(['Begin_Term'])['Order'].count()"
      ]
    },
    {
      "cell_type": "code",
      "execution_count": null,
      "metadata": {
        "id": "pz9BWGQSUl76"
      },
      "outputs": [],
      "source": [
        "# Look at how many records are there per state\n",
        "df.groupby(['Begin_Term']).count().sort_values('foo1')"
      ]
    },
    {
      "cell_type": "markdown",
      "source": [
        "<h2> Exercise 1 </h2>\n",
        "\n",
        "Using the US_Cities.delimited.txt file and Pandas\n",
        "\n",
        "1) Clean the data \n",
        "\n",
        "2) Create a separate column for cites and states \n",
        "\n",
        "3) Count how many cites have Republican and how many have Democrat Mayors \n",
        "\n",
        "4) Which city has the highest budget and which has the lowest budget?\n",
        "\n",
        "5) Create a column called 'Budget per capita'. Which calcs how many dollars per perosn the city has\n",
        "\n",
        "6) Then return which cities have the lowest and highest"
      ],
      "metadata": {
        "id": "TSUQOkejDbN0"
      }
    },
    {
      "cell_type": "code",
      "execution_count": null,
      "metadata": {
        "id": "-ZapwOMINZmD",
        "colab": {
          "base_uri": "https://localhost:8080/"
        },
        "outputId": "1b655130-a1ce-4178-c445-aecdba42265b"
      },
      "outputs": [
        {
          "output_type": "stream",
          "name": "stdout",
          "text": [
            "0    73000000000\n",
            "Name: Budget, dtype: int64 97    128000000\n",
            "Name: Budget, dtype: int64\n",
            "    Order  Population       Budget  ...            City           State  Bud_Per_Cap\n",
            "0       1     8405837  73000000000  ...        New York       New York       8684.44\n",
            "1       2     3884307   8100000000  ...     Los Angeles     California       2085.31\n",
            "2       3     2718782   7300000000  ...         Chicago       Illinois       2685.03\n",
            "3       4     2195914   5100000000  ...         Houston          Texas       2322.50\n",
            "4       5     1553165   3950000000  ...    Philadelphia   Pennsylvania       2543.19\n",
            "..    ...         ...          ...  ...             ...             ...          ...\n",
            "95     96      224922    238460000  ...         Fremont     California       1060.19\n",
            "96     97      214237    514900000  ...           Boise          Idaho       2403.41\n",
            "97     98      213708    128000000  ...  San Bernardino     California        598.95\n",
            "98     99      212113    411000000  ...      Birmingham        Alabama       1937.65\n",
            "99    100      207878   1722417160  ...        Richmond       Virginia       8285.71\n",
            "\n",
            "[100 rows x 12 columns]\n",
            "14    11582.89\n",
            "Name: Bud_Per_Cap, dtype: float64 40    566.06\n",
            "Name: Bud_Per_Cap, dtype: float64\n"
          ]
        }
      ],
      "source": [
        "df = pd.read_csv('US_Cities_delimited.txt',delimiter='|')\n",
        "df = pd.DataFrame(df)\n",
        "# 1) Clean the data \n",
        "#df\n",
        "df['Population'] = df['Population'].astype('string').map(lambda x: x.replace(',','')).astype(int)\n",
        "df['Budget'] = df['Budget'].map(lambda x: x.replace('$','').replace(',','')).astype(int)\n",
        "\n",
        "# 2) Create a separate column for cites and states\n",
        "df['City'] = df['State_City'].map(lambda x: x.split(',')[0])\n",
        "df['State'] = df['State_City'].map(lambda x: x.split(',')[1])\n",
        "df.drop(columns='State_City',inplace=True)\n",
        "\n",
        "\n",
        "# 3) Count how many cites have Republican and how many have Democrat Mayors\n",
        "D_mayors = f\" There are {len([x for x in df['Mayor'] if '(D)' in x])} Democrat Mayors\"\n",
        "R_mayors = f\" There are {len([x for x in df['Mayor'] if '(R)' in x])} Republican Mayors\"\n",
        "##print(D_mayors,R_mayors)\n",
        "\n",
        "\n",
        "\n",
        "\n",
        "# 4) Which city has the highest budget and which has the lowest budget?\n",
        "max_budget = df.sort_values(by=['Budget']).tail(1)\n",
        "min_budget = df.sort_values(by=['Budget']).head(1)\n",
        "print(max_budget['Budget'], min_budget['Budget'])\n",
        "\n",
        "# 5) Create a column called 'Budget per capita'. Which calcs how many dollars per perosn the city has\n",
        "df['Bud_Per_Cap'] = round(df['Budget'].div(df['Population']),2)\n",
        "print(df)\n",
        "# 6) Then return which cities have the lowest and highest\n",
        "max_BPC = df.sort_values(by=['Bud_Per_Cap']).tail(1)\n",
        "min_BPC = df.sort_values(by=['Bud_Per_Cap']).head(1)\n",
        "print(max_BPC['Bud_Per_Cap'], min_BPC['Bud_Per_Cap'])\n",
        "#df"
      ]
    },
    {
      "cell_type": "markdown",
      "source": [
        "<h2> Exercise 2 </h2> \n",
        "\n",
        "Using the class_heights.txt file and Pandas\n",
        "\n",
        "1) Clean the data\n",
        "\n",
        "2) Make column names Title Case \n",
        "\n",
        "3) Sort gender column by Gender. Female first\n",
        "\n",
        "4) Convert heights to centimeters\n",
        "\n",
        "5) Count how many of each gender are in the total class_heights\n",
        "\n",
        "6) Calc the average height of each gender and the class total\n",
        "\n",
        "7) Calc the median, mode, and standard deviantion for the total class"
      ],
      "metadata": {
        "id": "Gba7wm4VEAA0"
      }
    },
    {
      "cell_type": "code",
      "execution_count": null,
      "metadata": {
        "id": "qm5kwzv9NZmE",
        "colab": {
          "base_uri": "https://localhost:8080/",
          "height": 595
        },
        "outputId": "2dc0ba09-7265-42fc-b7ac-e7d771beb3ab"
      },
      "outputs": [
        {
          "output_type": "stream",
          "name": "stdout",
          "text": [
            "     Gender Height\n",
            "0      Male    5'9\n",
            "1    Female    5'2\n",
            "2    Female    5'6\n",
            "3      Male   6'10\n",
            "4      Male    5'7\n",
            "..      ...    ...\n",
            "155  Female    5'8\n",
            "156  Female    5'9\n",
            "157    Male    6'0\n",
            "158  Female    5'7\n",
            "159    Male   5'11\n",
            "\n",
            "[160 rows x 2 columns]\n",
            "The class average is 168.85cm\n",
            "The class median is 167.64cm\n",
            "The class SD is 10.84cm\n"
          ]
        },
        {
          "output_type": "execute_result",
          "data": {
            "text/html": [
              "\n",
              "  <div id=\"df-3406209a-f0c3-47b7-8967-25dc62a4e268\">\n",
              "    <div class=\"colab-df-container\">\n",
              "      <div>\n",
              "<style scoped>\n",
              "    .dataframe tbody tr th:only-of-type {\n",
              "        vertical-align: middle;\n",
              "    }\n",
              "\n",
              "    .dataframe tbody tr th {\n",
              "        vertical-align: top;\n",
              "    }\n",
              "\n",
              "    .dataframe thead th {\n",
              "        text-align: right;\n",
              "    }\n",
              "</style>\n",
              "<table border=\"1\" class=\"dataframe\">\n",
              "  <thead>\n",
              "    <tr style=\"text-align: right;\">\n",
              "      <th></th>\n",
              "      <th>Height_CM</th>\n",
              "    </tr>\n",
              "  </thead>\n",
              "  <tbody>\n",
              "    <tr>\n",
              "      <th>count</th>\n",
              "      <td>160.000000</td>\n",
              "    </tr>\n",
              "    <tr>\n",
              "      <th>mean</th>\n",
              "      <td>168.846500</td>\n",
              "    </tr>\n",
              "    <tr>\n",
              "      <th>std</th>\n",
              "      <td>10.839941</td>\n",
              "    </tr>\n",
              "    <tr>\n",
              "      <th>min</th>\n",
              "      <td>152.400000</td>\n",
              "    </tr>\n",
              "    <tr>\n",
              "      <th>25%</th>\n",
              "      <td>160.020000</td>\n",
              "    </tr>\n",
              "    <tr>\n",
              "      <th>50%</th>\n",
              "      <td>167.640000</td>\n",
              "    </tr>\n",
              "    <tr>\n",
              "      <th>75%</th>\n",
              "      <td>175.260000</td>\n",
              "    </tr>\n",
              "    <tr>\n",
              "      <th>max</th>\n",
              "      <td>195.580000</td>\n",
              "    </tr>\n",
              "  </tbody>\n",
              "</table>\n",
              "</div>\n",
              "      <button class=\"colab-df-convert\" onclick=\"convertToInteractive('df-3406209a-f0c3-47b7-8967-25dc62a4e268')\"\n",
              "              title=\"Convert this dataframe to an interactive table.\"\n",
              "              style=\"display:none;\">\n",
              "        \n",
              "  <svg xmlns=\"http://www.w3.org/2000/svg\" height=\"24px\"viewBox=\"0 0 24 24\"\n",
              "       width=\"24px\">\n",
              "    <path d=\"M0 0h24v24H0V0z\" fill=\"none\"/>\n",
              "    <path d=\"M18.56 5.44l.94 2.06.94-2.06 2.06-.94-2.06-.94-.94-2.06-.94 2.06-2.06.94zm-11 1L8.5 8.5l.94-2.06 2.06-.94-2.06-.94L8.5 2.5l-.94 2.06-2.06.94zm10 10l.94 2.06.94-2.06 2.06-.94-2.06-.94-.94-2.06-.94 2.06-2.06.94z\"/><path d=\"M17.41 7.96l-1.37-1.37c-.4-.4-.92-.59-1.43-.59-.52 0-1.04.2-1.43.59L10.3 9.45l-7.72 7.72c-.78.78-.78 2.05 0 2.83L4 21.41c.39.39.9.59 1.41.59.51 0 1.02-.2 1.41-.59l7.78-7.78 2.81-2.81c.8-.78.8-2.07 0-2.86zM5.41 20L4 18.59l7.72-7.72 1.47 1.35L5.41 20z\"/>\n",
              "  </svg>\n",
              "      </button>\n",
              "      \n",
              "  <style>\n",
              "    .colab-df-container {\n",
              "      display:flex;\n",
              "      flex-wrap:wrap;\n",
              "      gap: 12px;\n",
              "    }\n",
              "\n",
              "    .colab-df-convert {\n",
              "      background-color: #E8F0FE;\n",
              "      border: none;\n",
              "      border-radius: 50%;\n",
              "      cursor: pointer;\n",
              "      display: none;\n",
              "      fill: #1967D2;\n",
              "      height: 32px;\n",
              "      padding: 0 0 0 0;\n",
              "      width: 32px;\n",
              "    }\n",
              "\n",
              "    .colab-df-convert:hover {\n",
              "      background-color: #E2EBFA;\n",
              "      box-shadow: 0px 1px 2px rgba(60, 64, 67, 0.3), 0px 1px 3px 1px rgba(60, 64, 67, 0.15);\n",
              "      fill: #174EA6;\n",
              "    }\n",
              "\n",
              "    [theme=dark] .colab-df-convert {\n",
              "      background-color: #3B4455;\n",
              "      fill: #D2E3FC;\n",
              "    }\n",
              "\n",
              "    [theme=dark] .colab-df-convert:hover {\n",
              "      background-color: #434B5C;\n",
              "      box-shadow: 0px 1px 3px 1px rgba(0, 0, 0, 0.15);\n",
              "      filter: drop-shadow(0px 1px 2px rgba(0, 0, 0, 0.3));\n",
              "      fill: #FFFFFF;\n",
              "    }\n",
              "  </style>\n",
              "\n",
              "      <script>\n",
              "        const buttonEl =\n",
              "          document.querySelector('#df-3406209a-f0c3-47b7-8967-25dc62a4e268 button.colab-df-convert');\n",
              "        buttonEl.style.display =\n",
              "          google.colab.kernel.accessAllowed ? 'block' : 'none';\n",
              "\n",
              "        async function convertToInteractive(key) {\n",
              "          const element = document.querySelector('#df-3406209a-f0c3-47b7-8967-25dc62a4e268');\n",
              "          const dataTable =\n",
              "            await google.colab.kernel.invokeFunction('convertToInteractive',\n",
              "                                                     [key], {});\n",
              "          if (!dataTable) return;\n",
              "\n",
              "          const docLinkHtml = 'Like what you see? Visit the ' +\n",
              "            '<a target=\"_blank\" href=https://colab.research.google.com/notebooks/data_table.ipynb>data table notebook</a>'\n",
              "            + ' to learn more about interactive tables.';\n",
              "          element.innerHTML = '';\n",
              "          dataTable['output_type'] = 'display_data';\n",
              "          await google.colab.output.renderOutput(dataTable, element);\n",
              "          const docLink = document.createElement('div');\n",
              "          docLink.innerHTML = docLinkHtml;\n",
              "          element.appendChild(docLink);\n",
              "        }\n",
              "      </script>\n",
              "    </div>\n",
              "  </div>\n",
              "  "
            ],
            "text/plain": [
              "        Height_CM\n",
              "count  160.000000\n",
              "mean   168.846500\n",
              "std     10.839941\n",
              "min    152.400000\n",
              "25%    160.020000\n",
              "50%    167.640000\n",
              "75%    175.260000\n",
              "max    195.580000"
            ]
          },
          "metadata": {},
          "execution_count": 47
        }
      ],
      "source": [
        "import math\n",
        "from statistics import mode\n",
        "import pandas as pd\n",
        "import numpy as np\n",
        "class_heights = pd.read_csv('class_heights.txt',delimiter='|')\n",
        "# 1) Clean the data\n",
        "# 2) Make column names Title Case \n",
        "class_heights['Gender'] = class_heights['gender'].str.title()\n",
        "class_heights['Height'] = class_heights['height'].str.title()\n",
        "class_heights['Gender'] = class_heights['Gender'].astype('string')\n",
        "del class_heights['gender']\n",
        "del class_heights ['height']\n",
        "print(class_heights)\n",
        "\n",
        "# 3) Sort gender column by Gender. Female first\n",
        "class_heights['Gender'] = sorted(class_heights['Gender'],reverse=False)\n",
        "\n",
        "# 4) Convert heights to centimeters\n",
        "class_heights['Height_CM'] = class_heights['Height'].map(lambda x: x.replace(\"'\",\"\"))\n",
        "class_heights['Height_CM'] = [(float(i[0])*30.48) + (float(i[1])*2.54) for i in class_heights['Height_CM']]\n",
        "\n",
        "# 5) Count how many of each gender are in the total class_heights\n",
        "num_male = len([ x for x in class_heights['Gender'] if x == 'Male' ]) \n",
        "num_female = len(class_heights['Gender']) - num_male\n",
        "\n",
        "# 6) Calc the average height of each gender and the class total\n",
        "\n",
        "\n",
        "\n",
        "# 7) Calc the mean, median, mode, and standard deviantion for the total class\n",
        "\n",
        "class_avg = print(f'The class average is {round(np.mean(class_heights[\"Height_CM\"]),2)}cm')\n",
        "class_median = print(f\"The class median is {round(np.median(class_heights['Height_CM']),2)}cm\")\n",
        "#class_mode = print(f\"The class mode is {round(mode(class_heights['Height_CM']),2)}cm\")\n",
        "class_sd = print(f\"The class SD is {round(statistics.stdev(class_heights['Height_CM']),2)}cm\")\n",
        "class_heights.describe()\n"
      ]
    },
    {
      "cell_type": "code",
      "execution_count": null,
      "metadata": {
        "id": "IHlp5YWNUl76"
      },
      "outputs": [],
      "source": [
        ""
      ]
    },
    {
      "cell_type": "code",
      "execution_count": null,
      "metadata": {
        "id": "13kNz9PNUl76"
      },
      "outputs": [],
      "source": [
        ""
      ]
    },
    {
      "cell_type": "code",
      "execution_count": null,
      "metadata": {
        "id": "Fwy5Yfx2Ul77"
      },
      "outputs": [],
      "source": [
        ""
      ]
    },
    {
      "cell_type": "code",
      "execution_count": null,
      "metadata": {
        "id": "clr6rDkAUl77"
      },
      "outputs": [],
      "source": [
        ""
      ]
    },
    {
      "cell_type": "code",
      "execution_count": null,
      "metadata": {
        "id": "ZKI2ZRDnUl77"
      },
      "outputs": [],
      "source": [
        ""
      ]
    },
    {
      "cell_type": "markdown",
      "source": [
        "<h2> Example Walkthrough: Create your own DataFrame and Square it based on row conditions </h2>"
      ],
      "metadata": {
        "id": "yHItIEdBEkrd"
      }
    },
    {
      "cell_type": "code",
      "execution_count": null,
      "metadata": {
        "id": "VqOo-AI5Ul78"
      },
      "outputs": [],
      "source": [
        "import pandas as pd\n",
        "import numpy as np\n",
        "  \n",
        "# creating and initializing a nested list\n",
        "values_list = [[15, 2.5, 100], [20, 4.5, 50], [25, 5.2, 80],\n",
        "               [45, 5.8, 48], [40, 6.3, 70], [41, 6.4, 90],\n",
        "               [51, 2.3, 111]]\n",
        "  \n",
        "# creating a pandas dataframe\n",
        "df = pd.DataFrame(values_list, columns=['Field_1', 'Field_2', 'Field_3'],\n",
        "                  index=['a', 'b', 'c', 'd', 'e', 'f', 'g'])\n",
        "  \n",
        "  \n",
        "# Apply function numpy.square() to square \n",
        "# the values of 3 rows only i.e. with row\n",
        "# index name 'a', 'e' and 'g' only\n",
        "df = df.apply(lambda x: np.square(x) if x.name in [\n",
        "              'a', 'e', 'g'] else x, axis=1)\n",
        "df = df.apply(np.square(df))\n",
        "# printing dataframe\n",
        "df"
      ]
    },
    {
      "cell_type": "markdown",
      "metadata": {
        "id": "8E82v2QqUl78"
      },
      "source": [
        "<h2>To filter or search for values - isin([])</h2>"
      ]
    },
    {
      "cell_type": "code",
      "execution_count": null,
      "metadata": {
        "id": "6gtV2HWtUl78"
      },
      "outputs": [],
      "source": [
        "import pandas as pd\n",
        "df = pd.DataFrame({'num_legs': [2, 4,0,8,4], 'num_wings': [2, 0,0,0,4]},\n",
        "\n",
        "                  index=['falcon', 'dog','snake','spider','dragonfly'])\n",
        "df"
      ]
    },
    {
      "cell_type": "code",
      "execution_count": null,
      "metadata": {
        "id": "bWIKbtrpUl78"
      },
      "outputs": [],
      "source": [
        "df.isin([8])"
      ]
    },
    {
      "cell_type": "code",
      "execution_count": null,
      "metadata": {
        "id": "R8dhnP44Ul78"
      },
      "outputs": [],
      "source": [
        "df.isin([2,4])"
      ]
    },
    {
      "cell_type": "markdown",
      "metadata": {
        "id": "X-izprnRUl79"
      },
      "source": [
        "<h2>isin() filter by column</h2>"
      ]
    },
    {
      "cell_type": "code",
      "execution_count": null,
      "metadata": {
        "id": "Ivpo7uGCUl79"
      },
      "outputs": [],
      "source": [
        "filter = [2,4]\n",
        "num_legs = df[df.num_legs.isin(filter)]\n",
        "num_legs"
      ]
    },
    {
      "cell_type": "code",
      "execution_count": null,
      "metadata": {
        "id": "LE9jSzijUl79"
      },
      "outputs": [],
      "source": [
        ""
      ]
    },
    {
      "cell_type": "markdown",
      "metadata": {
        "id": "pNP6etycUl79"
      },
      "source": [
        "<h2> Exercise 3</h2>\n",
        "\n",
        "Create a class that operates on words\n",
        "\n",
        "1 - method 'remove_vowels' - Strips all vowels out\n",
        "\n",
        "2 - method 'strip_constants' - Strips constants\n",
        "\n",
        "3 - method 'strip_fixed' - Strips based on a skip\n",
        "\n",
        "4 - print gives the word and and counts the number of vowels and the number of constants\n",
        "\n",
        "5 - Add a method that randomly removes up to n chars but has to be less than the length - 1(colapses) \n",
        "\n",
        "6 - On all removal options add option to replace the removal with a specified character. The default is an underscore '_'"
      ]
    },
    {
      "cell_type": "code",
      "execution_count": null,
      "metadata": {
        "id": "eltRW0w-NZmH"
      },
      "outputs": [],
      "source": [
        "import random\n",
        "VOWELS = [i.lower() for i in 'AEIOUY']\n",
        "class Words:\n",
        "    def _init_(self,word, removal_char = '_'):\n",
        "        self.word = word\n",
        "        self.removal_char = removal_char\n",
        "        self.current_state = self.random_remove()\n",
        "    def count_vowels(self):\n",
        "        return sum([1 for i in self.word if i in VOWELS] )\n",
        "    def count_constanants(self):\n",
        "        return sum([1 for i in self.word if not i in VOWELS] )\n",
        "    def _str_(self):\n",
        "        return(f'''The word is {self.word}.\\n\n",
        "        It has {len(self.word)} letters.\\nVowel count = {self.count_vowels()}\\n\n",
        "        Constanants count = {self.count_constanants()}''')\n",
        "    def remove_vowels(self):\n",
        "        return ''.join([self.removal_char if x in VOWELS else x for x in self.word])\n",
        "    def remove_constanants(self):\n",
        "        return ''.join([self.removal_char if not x in VOWELS else x for x in self.word])\n",
        "    def strip_fixed(self,n=2):\n",
        "        return ''.join([self.removal_char if x % n == 0 else self.word[x] for x in range(len(self.word))])\n",
        "    def random_remove(self):\n",
        "        options = list(range(len(self.word)))\n",
        "        n = len(self.word)-1\n",
        "        items = []\n",
        "        for i in range(n,0,-1):\n",
        "            x = random.choice(options)\n",
        "            # print(f'You randomly choose {x}')\n",
        "            items.append(x)\n",
        "            # remove item from the list\n",
        "        items = set(items)\n",
        "        return ''.join([self.removal_char if i in items else char  for i,char in enumerate(self.word)])\n",
        "    def missing_letter(self):\n",
        "        mL = {}\n",
        "        print(self.word)\n",
        "        print(self.current_state)\n",
        "        for i in range(len(self.word)):\n",
        "            if self.current_state[i] == '_':\n",
        "                char = self.word[i]\n",
        "                if not char in mL:\n",
        "                    mL[char] = 0\n",
        "                mL[char] += 1\n",
        "        return mL\n",
        "    def missing_letter2(self):\n",
        "        return list(set([self.word[i].lower() for i,char in enumerate(self.current_state) if char == '_' ]))\n",
        "word = Words('Aardvark','_')\n",
        "# print(word)\n",
        "# print(f'Remove vowels = {word.remove_vowels()}')\n",
        "# print(f'Remove constanants = {word.remove_constanants()}')\n",
        "# print(f'Remove fixed = {word.strip_fixed(4)}')\n",
        "# print(word.random_remove())\n",
        "# print(f'The current state is {word.current_state}')\n",
        "print(word.missing_letter().keys())\n",
        "print(word.missing_letter2())"
      ]
    }
  ],
  "metadata": {
    "kernelspec": {
      "name": "python3",
      "display_name": "Python 3.10.2 64-bit",
      "metadata": {
        "interpreter": {
          "hash": "aee8b7b246df8f9039afb4144a1f6fd8d2ca17a180786b69acc140d282b71a49"
        }
      }
    },
    "language_info": {
      "codemirror_mode": {
        "name": "ipython",
        "version": 3
      },
      "file_extension": ".py",
      "mimetype": "text/x-python",
      "name": "python",
      "nbconvert_exporter": "python",
      "pygments_lexer": "ipython3",
      "version": "3.10.2-final"
    },
    "colab": {
      "name": "CI_Data_Science_Lesson_14_with_answers.ipynb",
      "provenance": [],
      "collapsed_sections": []
    }
  },
  "nbformat": 4,
  "nbformat_minor": 0
}