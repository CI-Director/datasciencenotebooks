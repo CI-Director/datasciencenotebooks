{
  "cells": [
    {
      "cell_type": "markdown",
      "metadata": {
        "id": "WnBWxaAHVie2"
      },
      "source": [
        "<a href=\"https://codeimmersives.com\"><img src = \"https://www.codeimmersives.com/wp-content/uploads/2019/09/CodeImmersives_Logo_RGB_NYC_BW.png\" width = 400> </a>\n",
        "\n",
        "\n",
        "<h1 align=center><font size = 5>Agenda</font></h1>"
      ]
    },
    {
      "cell_type": "code",
      "source": [
        ""
      ],
      "metadata": {
        "id": "HyOV0_uIUTia"
      },
      "execution_count": null,
      "outputs": []
    },
    {
      "cell_type": "markdown",
      "metadata": {
        "id": "vlSwU3s3Vie5"
      },
      "source": [
        "### \n",
        "<div class=\"alert alert-block alert-info\" style=\"margin-top: 20px\">\n",
        "\n",
        "1.  [Review](#0)<br>\n",
        "2.  [Skewness](#2)<br> \n",
        "3.  [Kutosis](#4)<br>    \n",
        "4.  [Aggregating Data](#6)<br> \n",
        "5.  [Quartiles](#8)<br>   \n",
        "6.  [Deciles](#10)<br>     \n",
        "7.  [Exercise 1](#12)<br> \n",
        "8.  [Exercise 2](#14)<br>\n",
        "9.  [Exercise 3](#16)<br>    \n",
        "</div>\n",
        "<hr>"
      ]
    },
    {
      "cell_type": "markdown",
      "metadata": {
        "id": "NxNV7X1_Vie6"
      },
      "source": [
        "<h2>Review</h2><a id=\"0\"></a>"
      ]
    },
    {
      "cell_type": "markdown",
      "metadata": {
        "id": "u-ULB846Vie7"
      },
      "source": [
        "<h2>Exercise</h2>\n",
        "You have the following dictionary that contains sales data.<br>\n",
        "<code>\n",
        "sales = {'Jan': 150, 'Feb':200, 'Mar': 175,\n",
        "        'April': 75, 'May': 80, 'Jun': 300,\n",
        "        'July': 250, 'August':130, 'September': 195,\n",
        "        'October': 75, 'November': 120, 'December': 400}\n",
        "</code>\n",
        "<br>\n",
        "Answer the following:<br>\n",
        "1 - List the months where sales are greater than or equal to 150<br>\n",
        "2 - Return a tuple of all months and sales amounts greater than or equal to 300<br>\n",
        "3 - List all 3 consecutive month periods where sales are below 500<br>\n",
        "4 - Include the total sales amount for answer 3"
      ]
    },
    {
      "cell_type": "markdown",
      "metadata": {
        "id": "w3_nnFmTVie7"
      },
      "source": [
        "<h4>Solution</h4>"
      ]
    },
    {
      "cell_type": "code",
      "execution_count": null,
      "metadata": {
        "colab": {
          "base_uri": "https://localhost:8080/"
        },
        "id": "dNVHsxJeVie8",
        "outputId": "d0faf4ef-7f05-4ad3-e60b-c274f066f961"
      },
      "outputs": [
        {
          "output_type": "stream",
          "name": "stdout",
          "text": [
            "['Jan', 'Feb', 'Mar', 'Jun', 'July', 'September', 'December']\n",
            "[('Jun', 300), ('December', 400)]\n",
            "['Feb, Mar, April', 'Mar, April, May', 'April, May, Jun', 'August, September, October', 'September, October, November']\n",
            "['Feb,Mar,April: 450', 'Mar,April,May: 330', 'April,May,Jun: 455', 'August,September,October: 400', 'September,October,November: 390']\n"
          ]
        }
      ],
      "source": [
        "sales = {'Jan': 150, 'Feb':200, 'Mar': 175, 'April': 75, 'May': 80, 'Jun': 300, 'July': 250, 'August':130, 'September': 195, 'October': 75, 'November': 120, 'December': 400}\n",
        "months = [mon for mon, val in sales.items() if val >= 150]\n",
        "print(months)\n",
        "\n",
        "#2\n",
        "months = [(mon, val) for mon, val in sales.items() if val >=300]\n",
        "print(months)\n",
        "#3\n",
        "keys = list(sales.keys())\n",
        "months = [f'{keys[i]}, {keys[i+1]}, {keys[i+2]}' for i in range(10) if sales[keys[i]] + sales[keys[i+1]] + sales[keys[i+2]] <500]\n",
        "print(months)\n",
        "#4\n",
        "months = [ f'{keys[x]},{keys[x+1]},{keys[x+2]}: {sales[keys[x]] + sales[keys[x+1]] + sales[keys[x+2]]}' \n",
        "          for x in range(9) if sales[keys[x]] + sales[keys[x+1]] + sales[keys[x+2]]< 500]\n",
        "\n",
        "print(months)"
      ]
    },
    {
      "cell_type": "markdown",
      "metadata": {
        "id": "yMUzQenuVie-"
      },
      "source": [
        "<h2>Exercise</h2>\n",
        "<code>\n",
        "stock_price = [23.5, 24.1, 22.7, 24.2, 25.2, 28.4, 27.8, 26.5, 27.5, 28.2]\n",
        "</code>\n",
        "<br>\n",
        "1 - Calculate the mean stock price<br>\n",
        "2 - Count the number of times the stock price was greater than 25<br>\n",
        "3 - Calculate the daily rate of return for the series<br>\n",
        "NOTE: rate of return is ((current price-previous price)/previous_price) * 100<br>\n",
        "Example: price was 100 next day 105 then ((105-100)/100)*100 = 5% gain<br>\n",
        "4 - How many days was the price up 3% or down 3% from the previous day?<br>\n"
      ]
    },
    {
      "cell_type": "markdown",
      "metadata": {
        "id": "JP8BF2NVVie_"
      },
      "source": [
        "<h4>Solution</h4>"
      ]
    },
    {
      "cell_type": "code",
      "execution_count": null,
      "metadata": {
        "id": "dvoM4Vy8VifA"
      },
      "outputs": [],
      "source": [
        ""
      ]
    },
    {
      "cell_type": "markdown",
      "metadata": {
        "id": "6QJ_j_8zVifA"
      },
      "source": [
        "<h2>Skewness</h2>\n",
        "Skewness is a measure of symetry, or better the lack of symetry.<br>\n",
        "A distribution of data set is symetric if it looks the same on the left and right side of the mean.<br>\n",
        "We aggregate the data and use a histogram to visualize if the distribution is normal.<br>\n",
        "<br>\n",
        "The skewness formula is as follows:<br>\n",
        "Fisher-Pearson coefficient<br>\n",
        "<br>\n",
        "$\\sum_{i=1}^{n} ((X_i - mean)^3$/n)/$s^3$<br><br>\n",
        "We can also use the formula for the adjusted Fisher-Pearson coefficient of skewness<br>\n",
        "<br>\n",
        "$\\sqrt N(N-1)/(N-2)$ $\\sum_{i=1}^{n} ((X_i - mean)^3$/n)/$s^3$<br><br>\n",
        "As the size of our sample goes up the first part of the equations coverges to 1<br>\n",
        "<br>\n",
        "The skewness of a nomal distribution is 0<br>"
      ]
    },
    {
      "cell_type": "markdown",
      "source": [
        "1) Calculate the mean\n",
        "2) Subtract the mean from each element\n",
        "3) Cube the differences\n",
        "4) Sum the differences\n",
        "5) Divide by the list size  \n",
        "6) Divide by the STdev cubed\n",
        "6) Return Skewness "
      ],
      "metadata": {
        "id": "aDXI1Sq5PLGD"
      }
    },
    {
      "cell_type": "code",
      "source": [
        "grades = [68.0, 90.0, 69.0, 86.0, 78.0, 97.0, 95.0, 83.0, 84.0, 74.0, 84.0, 71.0, 79.0, 82.0, 79.0, 69.0, 99.0, 93.0, \n",
        " 77.0, 77.0, 75.0, 83.0, 86.0, 89.0, 76.0, 88.0, 65.0, 65.0, 78.0, 77.0, 82.0, 97.0, 87.0, 83.0, 67.0, 83.0, \n",
        " 67.0, 77.0, 79.0, 79.0, 68.0, 69.0, 89.0, 79.0, 66.0, 85.0, 93.0, 74.0, 70.0, 83.0, 90.0, 75.0, 94.0, 77.0, \n",
        " 92.0, 84.0, 93.0, 83.0, 79.0, 87.0, 62.0, 85.0, 99.0, 76.0, 96.0, 89.0, 66.0, 85.0, 70.0, 83.0, 77.0, 96.0, \n",
        " 92.0, 76.0, 95.0, 84.0, 74.0, 83.0, 83.0, 89.0, 81.0, 91.0, 83.0, 74.0, 93.0, 73.0, 73.0, 84.0, 84.0, 83.0, \n",
        " 91.0, 68.0, 88.0, 72.0, 84.0, 93.0, 86.0, 83.0, 83.0, 77.0]\n",
        "import statistics\n",
        "def calc_skew(lst):\n",
        "  lst.sort()\n",
        "  mean = sum(lst)/len(lst)\n",
        "  skew = sum([(x-mean)**3 for x in lst])/len(lst)\n",
        "  return round(skew/(statistics.stdev(lst)**3),2)\n",
        "print(calc_skew(grades))\n"
      ],
      "metadata": {
        "colab": {
          "base_uri": "https://localhost:8080/"
        },
        "id": "5L81kvd_P_U9",
        "outputId": "b34a14f7-8cc4-4f52-8337-c2f516496350"
      },
      "execution_count": null,
      "outputs": [
        {
          "output_type": "stream",
          "name": "stdout",
          "text": [
            "-0.09\n"
          ]
        }
      ]
    },
    {
      "cell_type": "markdown",
      "metadata": {
        "id": "m-LDhbQVVifB"
      },
      "source": [
        "<h2>Kurtosis</h2>\n",
        "The kurtosis for a standard normal distribution is three. <br>\n",
        "The formula for excess kutosis is:<br>\n",
        "<br>\n",
        "Excess\n",
        "$\\sum_{i=1}^{n} ((X_i - mean)^4$/n)/$s^4$ -3 \n",
        "<br><br>\n",
        "Regular\n",
        "$\\sum_{i=1}^{n} ((X_i - mean)^4$/n)/$s^4$ \n",
        "<br><br>\n",
        "This definition is used so that the standard normal distribution has a kurtosis of zero. <br>\n",
        "In addition, with the second definition positive kurtosis indicates a \"heavy-tailed\" distribution <br>\n",
        "and negative kurtosis indicates a \"light tailed\" distribution.<br>\n",
        "<br>\n",
        "Which definition of kurtosis is used is a matter of convention. <br>\n",
        "When using software to compute the sample kurtosis, you need to be aware of which convention <br>\n",
        "is being followed. Many sources use the term kurtosis when they are actually computing \"excess kurtosis\", <br>\n",
        "so it may not always be clear. <br>"
      ]
    },
    {
      "cell_type": "code",
      "source": [
        "grades = [68.0, 90.0, 69.0, 86.0, 78.0, 97.0, 95.0, 83.0, 84.0, 74.0, 84.0, 71.0, 79.0, 82.0, 79.0, 69.0, 99.0, 93.0, \n",
        " 77.0, 77.0, 75.0, 83.0, 86.0, 89.0, 76.0, 88.0, 65.0, 65.0, 78.0, 77.0, 82.0, 97.0, 87.0, 83.0, 67.0, 83.0, \n",
        " 67.0, 77.0, 79.0, 79.0, 68.0, 69.0, 89.0, 79.0, 66.0, 85.0, 93.0, 74.0, 70.0, 83.0, 90.0, 75.0, 94.0, 77.0, \n",
        " 92.0, 84.0, 93.0, 83.0, 79.0, 87.0, 62.0, 85.0, 99.0, 76.0, 96.0, 89.0, 66.0, 85.0, 70.0, 83.0, 77.0, 96.0, \n",
        " 92.0, 76.0, 95.0, 84.0, 74.0, 83.0, 83.0, 89.0, 81.0, 91.0, 83.0, 74.0, 93.0, 73.0, 73.0, 84.0, 84.0, 83.0, \n",
        " 91.0, 68.0, 88.0, 72.0, 84.0, 93.0, 86.0, 83.0, 83.0, 77.0]\n",
        "\n",
        "def calc_excess_kurtosis(lst):\n",
        "    mean = sum(lst)/len(lst)\n",
        "    kurt_part1 = sum([(x-mean)**4 for x in lst])/len(lst)\n",
        "    return (round(kurt_part1/(statistics.stdev(lst)**4),3)) - 3\n",
        "print(calc_kur(grades))\n",
        "print(calc_skew(grades))"
      ],
      "metadata": {
        "colab": {
          "base_uri": "https://localhost:8080/"
        },
        "id": "lRpgVyk8imcz",
        "outputId": "f411d954-f726-401d-f52e-9e431d0fba62"
      },
      "execution_count": null,
      "outputs": [
        {
          "output_type": "stream",
          "name": "stdout",
          "text": [
            "-0.77\n",
            "-0.09\n"
          ]
        }
      ]
    },
    {
      "cell_type": "markdown",
      "metadata": {
        "id": "8W2KYbU8VifB"
      },
      "source": [
        "<h2>Exercise</h2>\n",
        "Calculate the skewness (Fisher-Pearson coefficient) of our original grades file.<br>\n",
        "Calculate the skewness (adjusted Fisher-Pearson coefficient) of our original grades file.<br>\n",
        "Calculate the excess kurtosis of our data set>br>\n",
        "<code>\n",
        "grades = [68.0, 90.0, 69.0, 86.0, 78.0, 97.0, 95.0, 83.0, 84.0, 74.0, 84.0, 71.0, 79.0, 82.0, 79.0, 69.0, 99.0, 93.0, \n",
        " 77.0, 77.0, 75.0, 83.0, 86.0, 89.0, 76.0, 88.0, 65.0, 65.0, 78.0, 77.0, 82.0, 97.0, 87.0, 83.0, 67.0, 83.0, \n",
        " 67.0, 77.0, 79.0, 79.0, 68.0, 69.0, 89.0, 79.0, 66.0, 85.0, 93.0, 74.0, 70.0, 83.0, 90.0, 75.0, 94.0, 77.0, \n",
        " 92.0, 84.0, 93.0, 83.0, 79.0, 87.0, 62.0, 85.0, 99.0, 76.0, 96.0, 89.0, 66.0, 85.0, 70.0, 83.0, 77.0, 96.0, \n",
        " 92.0, 76.0, 95.0, 84.0, 74.0, 83.0, 83.0, 89.0, 81.0, 91.0, 83.0, 74.0, 93.0, 73.0, 73.0, 84.0, 84.0, 83.0, \n",
        " 91.0, 68.0, 88.0, 72.0, 84.0, 93.0, 86.0, 83.0, 83.0, 77.0]\n",
        "</code>\n"
      ]
    },
    {
      "cell_type": "markdown",
      "metadata": {
        "id": "akFOYpKXVifB"
      },
      "source": [
        "<h4>Solution</h4>"
      ]
    },
    {
      "cell_type": "markdown",
      "metadata": {
        "id": "m2cgkiQ1VifC"
      },
      "source": [
        "<h2>Aggregating Data</h2>\n",
        "To visualize the 100 grade values the chart would look crowded<br>\n",
        "Let's chart the data now.<br>"
      ]
    },
    {
      "cell_type": "code",
      "execution_count": null,
      "metadata": {
        "colab": {
          "base_uri": "https://localhost:8080/",
          "height": 295
        },
        "id": "Z5j3BgzAVifD",
        "outputId": "b0647f18-ccba-4851-edc2-4986a02e940b"
      },
      "outputs": [
        {
          "output_type": "display_data",
          "data": {
            "image/png": "[encoded data removed]",
            "text/plain": [
              "<Figure size 432x288 with 1 Axes>"
            ]
          },
          "metadata": {
            "needs_background": "light"
          }
        }
      ],
      "source": [
        "import matplotlib.pyplot as plt\n",
        "grades = [68.0, 90.0, 69.0, 86.0, 78.0, 97.0, 95.0, 83.0, 84.0, 74.0, 84.0, 71.0, 79.0, 82.0, 79.0, 69.0, 99.0, 93.0, 77.0, 77.0, 75.0, 83.0, 86.0, 89.0, 76.0, 88.0, 65.0, 65.0, 78.0, 77.0, 82.0, 97.0, 87.0, 83.0, 67.0, 83.0, 67.0, 77.0, 79.0, 79.0, 68.0, 69.0, 89.0, 79.0, 66.0, 85.0, 93.0, 74.0, 70.0, 83.0, 90.0, 75.0, 94.0, 77.0, 92.0, 84.0, 93.0, 83.0, 79.0, 87.0, 62.0, 85.0, 99.0, 76.0, 96.0, 89.0, 66.0, 85.0, 70.0, 83.0, 77.0, 96.0, 92.0, 76.0, 95.0, 84.0, 74.0, 83.0, 83.0, 89.0, 81.0, 91.0, 83.0, 74.0, 93.0, 73.0, 73.0, 84.0, 84.0, 83.0, 91.0, 68.0, 88.0, 72.0, 84.0, 93.0, 86.0, 83.0, 83.0, 77.0]\n",
        "xAxis = range(1,len(grades)+1)\n",
        "plt.bar(xAxis, grades)\n",
        "plt.title(\"Grades Visualized\")\n",
        "plt.xlabel('exam')\n",
        "plt.ylabel('score')\n",
        "plt.show()"
      ]
    },
    {
      "cell_type": "markdown",
      "metadata": {
        "id": "xXXESTzAVifD"
      },
      "source": [
        "We notice that the grades data is crowded.  We need to add meaning to <br>\n",
        "the visualization of this data.  We do this by aggregating the data.<br>\n",
        "<br>"
      ]
    },
    {
      "cell_type": "markdown",
      "metadata": {
        "id": "_Vb0x4ZhVifD"
      },
      "source": [
        "<h2>Exercise</h2>\n",
        "If we have a group of numbers from 0 to 20 how can we set the boundaries <br>\n",
        "For creating a frequency distribution histogram in qurtiles<br>"
      ]
    },
    {
      "cell_type": "code",
      "execution_count": null,
      "metadata": {
        "colab": {
          "base_uri": "https://localhost:8080/"
        },
        "id": "b4Kl2pUdVifD",
        "outputId": "58f04389-369b-491f-f642-3956b2176d99"
      },
      "outputs": [
        {
          "output_type": "stream",
          "name": "stdout",
          "text": [
            "{1: [0, 5], 2: [5, 10], 3: [10, 15], 4: [15, 20]}\n"
          ]
        }
      ],
      "source": [
        "import math \n",
        "interval = math.ceil(20/4)\n",
        "quartiles = {1:[], 2:[], 3:[], 4:[]}\n",
        "val = 0\n",
        "for k, v in quartiles.items():\n",
        "  quartiles[k] = [val +(interval*int(k-1)), val + interval*int(k)]\n",
        "print(quartiles)\n"
      ]
    },
    {
      "cell_type": "markdown",
      "metadata": {
        "id": "BWtBLjxdVifE"
      },
      "source": [
        "<h4>Deciles</h4>\n",
        "Break the data set into 10 equal parts and chart the number of items that<br>\n",
        "fall within each boundary."
      ]
    },
    {
      "cell_type": "markdown",
      "metadata": {
        "id": "eewU4AkjVifE"
      },
      "source": [
        "<h2>Exercise</h2>\n",
        "Creating the boundaries for the deciles consists of dividing the range into<br>\n",
        "10 intervals.  Create a function to calculate the boundaries for deciles of<br>\n",
        "a data set the goes from 100 to 150."
      ]
    },
    {
      "cell_type": "markdown",
      "metadata": {
        "id": "S7KLRLMnVifE"
      },
      "source": [
        "<h4>Solution</h4>"
      ]
    },
    {
      "cell_type": "code",
      "execution_count": null,
      "metadata": {
        "id": "ZrH5WEwKVifF"
      },
      "outputs": [],
      "source": [
        ""
      ]
    },
    {
      "cell_type": "markdown",
      "metadata": {
        "id": "hCmMqw1kVifF"
      },
      "source": [
        "<h4>Frequency distribution chart</h4>"
      ]
    },
    {
      "cell_type": "code",
      "execution_count": null,
      "metadata": {
        "id": "dwT02FeNVifF"
      },
      "outputs": [],
      "source": [
        ""
      ]
    },
    {
      "cell_type": "markdown",
      "metadata": {
        "id": "1rLJJDmvVifF"
      },
      "source": [
        "<h4>Cumulative Frequency distribution chart</h4>"
      ]
    },
    {
      "cell_type": "code",
      "execution_count": null,
      "metadata": {
        "id": "AyOOdQqiVifG"
      },
      "outputs": [],
      "source": [
        ""
      ]
    },
    {
      "cell_type": "markdown",
      "metadata": {
        "id": "NVi4aAQRVifG"
      },
      "source": [
        "<h2>Exercise</h2>\n",
        "Suppose we have data like the following:<br>\n",
        "<code>\n",
        "sat_scores = [540, 590, 780, 720, 680, 570, 590, 600, 600, 610]\n",
        "</code>\n",
        "<br>\n",
        "Calculate what percentage of students are above the 50th percentile and what percentage<br>\n",
        "score below the 50th percentile<br>\n",
        "HINT: You need to calculate the median of the data set<br>"
      ]
    },
    {
      "cell_type": "code",
      "execution_count": null,
      "metadata": {
        "id": "tuRiJoTSVifG"
      },
      "outputs": [],
      "source": [
        ""
      ]
    },
    {
      "cell_type": "markdown",
      "metadata": {
        "id": "kvGI8zRGVifH"
      },
      "source": [
        "<h2>Exercise</h2>\n",
        "Take the grades data and chart the frequency distribution and the cumulative<br>\n",
        "frequency distribution in quartiles"
      ]
    },
    {
      "cell_type": "code",
      "execution_count": null,
      "metadata": {
        "id": "004nNXerVifH"
      },
      "outputs": [],
      "source": [
        ""
      ]
    },
    {
      "cell_type": "markdown",
      "metadata": {
        "id": "_vtYGlSEVifH"
      },
      "source": [
        "This notebook is part of a course at www.codeimmersives.com called Data Science. If you accessed this notebook outside the course, you can get more information about this course online by clicking here."
      ]
    },
    {
      "cell_type": "markdown",
      "metadata": {
        "id": "DgISkQCXVifH"
      },
      "source": [
        "<hr>\n",
        "\n",
        "Copyright &copy; 2021  Code Immersives"
      ]
    }
  ],
  "metadata": {
    "kernelspec": {
      "display_name": "Python 3",
      "language": "python",
      "name": "python3"
    },
    "language_info": {
      "codemirror_mode": {
        "name": "ipython",
        "version": 3
      },
      "file_extension": ".py",
      "mimetype": "text/x-python",
      "name": "python",
      "nbconvert_exporter": "python",
      "pygments_lexer": "ipython3",
      "version": "3.8.7"
    },
    "colab": {
      "name": "CI Data Science - Lesson 03 - NO ANSWERS (1).ipynb",
      "provenance": [],
      "collapsed_sections": []
    }
  },
  "nbformat": 4,
  "nbformat_minor": 0
}