{
  "cells": [
    {
      "cell_type": "markdown",
      "metadata": {
        "id": "zprWZkE7sf0v"
      },
      "source": [
        "<a href=\"https://codeimmersives.com\"><img src = \"https://www.codeimmersives.com/wp-content/uploads/2019/09/CodeImmersives_Logo_RGB_NYC_BW.png\" width = 400> </a>\n",
        "\n",
        "\n",
        "<h1 align=center><font size = 5>Agenda</font></h1>"
      ]
    },
    {
      "cell_type": "markdown",
      "metadata": {
        "id": "gwiENNsvsf05"
      },
      "source": [
        "### \n",
        "<div class=\"alert alert-block alert-info\" style=\"margin-top: 20px\">\n",
        "\n",
        "1.  [Review](#0)<br>\n",
        "2.  [Covariance](#2)<br> \n",
        "3.  [Correlation](#4)<br>        \n",
        "4.  [Exercise 1](#12)<br> \n",
        "5.  [Exercise 2](#14)<br>\n",
        "6.  [Exercise 3](#16)<br>    \n",
        "</div>\n",
        "<hr>"
      ]
    },
    {
      "cell_type": "markdown",
      "metadata": {
        "id": "g7mVFbVpsf05"
      },
      "source": [
        "<h2>Exercise</h2>\n",
        "You have the following list:<br>\n",
        "<code>\n",
        "product_numbers = ['AS-500','TR-700','TR-800','TR-100','AX-131','AX-232','AL-3400','TR-300']\n",
        "</code><br>\n",
        "You need to process the product_numbers as a batch process but all of the<br>\n",
        "processes that start with 'TR' need to be run first.  Arrange the list so that<br>\n",
        "they are in the beginning of the list.<br>"
      ]
    },
    {
      "cell_type": "markdown",
      "metadata": {
        "id": "nzGipyvgsf06"
      },
      "source": [
        "<h4>Solution</h4>"
      ]
    },
    {
      "cell_type": "code",
      "execution_count": null,
      "metadata": {
        "id": "fvb3_Exzsf06",
        "outputId": "0d6be5d4-9e8f-450f-edc5-c0c97cc2b93c"
      },
      "outputs": [
        {
          "data": {
            "text/plain": [
              "['TR-700', 'TR-800', 'TR-100', 'TR-300']"
            ]
          },
          "execution_count": 3,
          "metadata": {},
          "output_type": "execute_result"
        }
      ],
      "source": [
        "product_numbers = ['AS-500','TR-700','TR-800','TR-100','AX-131','AX-232','AL-3400','TR-300']\n",
        "product_numbers2 = ['AS-500','TR-700','TR-800','TR-100','AX-131','AX-232','AL-3400','TR-300']\n",
        "\n",
        "[prod for prod in product_numbers2 if prod.startswith('TR')]"
      ]
    },
    {
      "cell_type": "markdown",
      "metadata": {
        "id": "3DFTdTjWsf08"
      },
      "source": [
        "<h2>Exercise</h2>\n",
        "You have the following data structure:<br>\n",
        "<code>\n",
        "processes = [{'command':'docker build -t python101:1.0'},\n",
        "             'Reboot server',\n",
        "             'Data cleaning',\n",
        "             {'command': 'git stash','server':'mid west'}]\n",
        "</code><br>\n",
        "How do you execute the process that contains the command - 'git stash' first?<br>"
      ]
    },
    {
      "cell_type": "markdown",
      "metadata": {
        "id": "HPOFkj-4sf08"
      },
      "source": [
        "<h4>Solution</h4>"
      ]
    },
    {
      "cell_type": "code",
      "execution_count": null,
      "metadata": {
        "colab": {
          "base_uri": "https://localhost:8080/"
        },
        "id": "x6cRMJF6sf09",
        "outputId": "ce70b888-837a-45e8-9a8a-a36dd29370be"
      },
      "outputs": [
        {
          "output_type": "stream",
          "name": "stdout",
          "text": [
            "git stash\n"
          ]
        }
      ],
      "source": [
        "processes = [{'command':'docker build -t python101:1.0'}, \n",
        "             'Reboot server', 'Data cleaning', {'command': 'git stash','server':'mid west'}]\n",
        "command = processes[3]['command']\n",
        "print(command)"
      ]
    },
    {
      "cell_type": "markdown",
      "metadata": {
        "id": "3cxt5MrWsf0-"
      },
      "source": [
        "<h2>Covariance</h2>\n",
        "Covariance is the measure of the directional relationship between two random variables<br><br>\n",
        "$\\sum_{i=1}^{n} (X_i - meanX)(Y_i - meanY)$/(n-1)<br><br>\n",
        "Where X is the first list of data and Y is the second list. <br><br>\n",
        "Covariance values are not standardized. Therefore, the covariance can range from negative infinity to positive infinity. Thus, the value for a perfect linear relationship depends on the data. Because the data are not standardized, it is difficult to determine the strength of the relationship between the variables."
      ]
    },
    {
      "cell_type": "markdown",
      "metadata": {
        "id": "f-pT_xf7sf0-"
      },
      "source": [
        "For example.  If we measured the temperate on 7 consecutive summer days and<br>\n",
        "also measure ice_cream_sales for the same 7 consecutive days.  The covariance will<br>\n",
        "measure the direction of the relationship between the 2 lists.<br>\n",
        "<code>\n",
        "temperatures = [89, 93, 77, 79, 93, 95, 94]\n",
        "icecream_sales = [20000, 25000, 16000, 18000, 21000, 24000, 23000]\n",
        "</code>"
      ]
    },
    {
      "cell_type": "markdown",
      "source": [
        "1) Take the means of X (temp) and Y (ice cream sales)\n",
        "2) Take the differences of each element from the mean of the respective list for X and Y\n",
        "3) Multiply the differences and sum over all elements in the differences list\n",
        "4) Divide by all elements "
      ],
      "metadata": {
        "id": "1ccsT770tQWC"
      }
    },
    {
      "cell_type": "markdown",
      "metadata": {
        "id": "ZjCLgIrLsf0-"
      },
      "source": [
        "<h4>Solution</h4>"
      ]
    },
    {
      "cell_type": "code",
      "execution_count": null,
      "metadata": {
        "colab": {
          "base_uri": "https://localhost:8080/"
        },
        "id": "EwdvPbnKsf0_",
        "outputId": "3dda876b-e019-434b-9660-90384578f769"
      },
      "outputs": [
        {
          "output_type": "stream",
          "name": "stdout",
          "text": [
            "22333.333333333332\n"
          ]
        }
      ],
      "source": [
        "x = [89, 93, 77, 79, 93, 95, 94] # temperatures\n",
        "y = [20000, 25000, 16000, 18000, 21000, 24000, 23000] #ice cream sales\n",
        "\n",
        "def covariance(x, y):\n",
        "    mean_x = sum(x)/(len(x))\n",
        "    mean_y = sum(y)/(len(y))\n",
        "    diff_x = [i - mean_x for i in x]\n",
        "    diff_y = [i - mean_y for i in y]\n",
        "    num = sum([diff_x[i]*diff_y[i] for i in range(len(diff_x))])\n",
        "    return num/(len(x)-1)\n",
        "\n",
        "print(covariance(x,y))"
      ]
    },
    {
      "cell_type": "markdown",
      "metadata": {
        "id": "t6k-LPLMsf0_"
      },
      "source": [
        "<h2>Object Oriented Programming</h2>"
      ]
    },
    {
      "cell_type": "markdown",
      "metadata": {
        "id": "_JIKJ202sf0_"
      },
      "source": [
        "<h4>Static Methods</h4>\n",
        "A static method is a method that is part of the class but does<br>\n",
        "not use the self reference and can be called outside of the class structure.<br>\n",
        "The decoratored method could be a regular function but due to its relationship<br>\n",
        "with the other methods it is included in the class."
      ]
    },
    {
      "cell_type": "markdown",
      "metadata": {
        "id": "QMtv8Cblsf1A"
      },
      "source": [
        "<h4>Class Methods</h4>\n",
        "Class methods don't need a class instance. They can't access the instance ( self ) but they <br>\n",
        "have access to the class itself via cls "
      ]
    },
    {
      "cell_type": "markdown",
      "metadata": {
        "id": "HSqouig8sf1A"
      },
      "source": [
        "<h2>Exercise</h2>\n",
        "Create a class called Geometry.  The class should include the following:<br>\n",
        "1 - constructor that takes up to 3 arguments for shape type, side 1, side 2, side 3<br>\n",
        "2 - static method for calc_perimeter<br>\n",
        "3 - static method for calc_area<br>\n",
        "4 - The shape types are: C for Circle, T for Triangle, R for Rectangle<br>\n"
      ]
    },
    {
      "cell_type": "code",
      "execution_count": null,
      "metadata": {
        "id": "MN_v6Ow7sf1A"
      },
      "outputs": [],
      "source": [
        "import math\n",
        "class Geometry():\n",
        "    def __init__(self,shape,side_1,side_2,side_3):\n",
        "        self.shape = shape\n",
        "        self.side_1 = side_1\n",
        "        self.side_2 = side_2\n",
        "        self.side_3 = side_3\n",
        "        res = 0\n",
        "    \n",
        "    def calc_perimeter(self):\n",
        "        if self.shape == 'C':\n",
        "            res = round(math.pi * self.side_1,2)\n",
        "        elif self.shape == 'R':\n",
        "            res = (self.side_1 *2) + (self.side_2 * 2)\n",
        "        elif self.shape == 'T':\n",
        "            res = self.side_1 + self.side_2 + self.side_3\n",
        "        return res\n",
        "    def calc_area(self):\n",
        "        if self.shape == 'C':\n",
        "            res = round(math.pi * ((self.side_1/2)**2),2)\n",
        "        elif self.shape == 'R':\n",
        "            res = self.side_1 * self.side_2\n",
        "        elif self.shape == 'T':\n",
        "            res = ((0.5*self.side_1) * self.side_2) \n",
        "        return res\n",
        "Geo = Geometry('R',4,5,1)\n",
        "print(Geo.calc_perimeter())\n",
        "print(Geo.calc_area())\n",
        "Geo_2 = Geometry('C',6,1,1)\n",
        "print(Geo_2.calc_perimeter())\n",
        "print(Geo_2.calc_area())\n",
        "Geo_3 = Geometry('T',7,6,3)\n",
        "print(Geo_3.calc_perimeter())\n",
        "print(Geo_3.calc_area())"
      ]
    },
    {
      "cell_type": "markdown",
      "metadata": {
        "id": "R90COHujsf1B"
      },
      "source": [
        "<h2>Correlation</h2>\n",
        "The correlation is a measure of the direction of the relation of 2 lists and the<br>\n",
        "strength of the relation.  The correlation can only be a number from -1 to 1.  A positive<br>\n",
        "correlation of .7 or more is significant and signals that there is a strong relationship<br>\n",
        "between the 2 data sets. When there is a rise in one of the numbers in the list there is also <br>\n",
        "a rise in the value of the corresponding index value.  A negative correlation of -.07 to 1 means<br>\n",
        "that there is an inverse relationship between the 2 lists.  When one of the values in 1st list<br>\n",
        "goes up, the value in the other list will go down.<br>\n",
        "The formula for correlation is:<br>\n",
        "<br>\n",
        "$ covariance/(S_x* S_y)$<br><br>\n",
        "Where S is the standard deviation of each data set"
      ]
    },
    {
      "cell_type": "markdown",
      "metadata": {
        "id": "t2THvDPZsf1B"
      },
      "source": [
        "<h2>Exercise</h2>\n",
        "Find the correlation of the following data sets:<br>\n",
        "<code>\n",
        "temperatures = [89, 93, 77, 79, 93, 95, 94]\n",
        "icecream_sales = [20000, 25000, 16000, 18000, 21000, 24000, 23000]\n",
        "</code>"
      ]
    },
    {
      "cell_type": "markdown",
      "metadata": {
        "id": "GYO-SZpesf1B"
      },
      "source": [
        "<h4>Solution</h4>"
      ]
    },
    {
      "cell_type": "code",
      "execution_count": null,
      "metadata": {
        "colab": {
          "base_uri": "https://localhost:8080/"
        },
        "id": "cHXhKpD0sf1B",
        "outputId": "79ee704b-c088-4afa-8ed9-c79f51e06acf"
      },
      "outputs": [
        {
          "output_type": "stream",
          "name": "stdout",
          "text": [
            "0.9141761783739406\n"
          ]
        }
      ],
      "source": [
        "x = [89, 93, 77, 79, 93, 95, 94]  #temperatures\n",
        "y = [20000, 25000, 16000, 18000, 21000, 24000, 23000] #ice cream sales\n",
        "\n",
        "\n",
        "import statistics\n",
        "def correlation(x,y):\n",
        "  stdx = statistics.stdev(x)\n",
        "  stdy = statistics.stdev(y)\n",
        "  covar = covariance(x,y)\n",
        "  corr = covar/(stdx*stdy)\n",
        "  return corr\n",
        "print(correlation(x,y))\n"
      ]
    },
    {
      "cell_type": "markdown",
      "metadata": {
        "id": "n1bdUVJXsf1C"
      },
      "source": [
        "<h2>Exercise</h2>\n",
        "We have the following class called 'Deck_of_Cards'<br>\n",
        "<code>\n",
        "class Deck_of_Cards:\n",
        "    def __init__(self):\n",
        "        self.cards = self.create_deck()\n",
        "        \n",
        "    def create_deck(self):\n",
        "        face_cards = ['Jack','Queen','King','Ace']\n",
        "        non_face_cards = list(range(2,11))\n",
        "        suit = ['Spades','Clubs','Hearts','Diamonds']\n",
        "        cards = [f'{card} of {s}' for card in non_face_cards + face_cards for s in suit]\n",
        "        return cards\n",
        "\n",
        "    def __str__(self):\n",
        "        return f'There are {self.number_of_cards} cards in the deck'\n",
        "    \n",
        "new_deal = Deck_of_Cards()\n",
        "print(new_deal.cards)\n",
        "</code>\n",
        "<br>\n",
        "Create the following methods:<br>\n",
        "1 - 'shuffle' to reorder the cards<br>\n",
        "2 - 'cut' which takes in an interger or defaults to zero which is called a tap and no<br>\n",
        "reorder is done.<br>\n",
        "3 - 'deal' which takes in 1 arguments the number of cards and removes them from the deck<br>\n",
        "\n"
      ]
    },
    {
      "cell_type": "code",
      "execution_count": null,
      "metadata": {
        "colab": {
          "base_uri": "https://localhost:8080/"
        },
        "id": "YkOrkjdfsf1C",
        "outputId": "188c76d6-aed3-4dd9-8de1-4284d53a5cfc"
      },
      "outputs": [
        {
          "output_type": "stream",
          "name": "stdout",
          "text": [
            "Creating deck 0\n",
            "The time it took to run was 0:00:00.000696. The amount of decks made was 1\n",
            "Created new instance of Deck of Cards 2022-02-01 17:31:46.635262\n",
            "Dealt 2 of Spades\n",
            "Dealt 2 of Clubs\n",
            "Dealt 2 of Hearts\n",
            "['2 of Spades', '2 of Clubs', '2 of Hearts']\n",
            "We just shuffled the deck\n",
            "49\n"
          ]
        }
      ],
      "source": [
        "import datetime\n",
        "import math\n",
        "import random\n",
        "import time\n",
        "# 1 - 'shuffle' to reorder the cards. \n",
        "    #Define a class to categorize the cards\n",
        "class Deck_of_Cards:\n",
        "    def __init__(self):\n",
        "        self.create_deck()\n",
        "        self.number_of_cards = len(self.cards)\n",
        "        self.start_time = datetime.datetime.now()\n",
        "        print(f'Created new instance of Deck of Cards {self.start_time}')\n",
        "        \n",
        "# Creating the deck\n",
        "    def create_deck(self,deck=1):\n",
        "        self.start_time = datetime.datetime.now()\n",
        "        cards = []\n",
        "        face_cards = ['Jack','Queen','King','Ace']\n",
        "        non_face_cards = list(range(2,11))\n",
        "        suit = ['Spades','Clubs','Hearts','Diamonds']\n",
        "        for i in range(deck):\n",
        "            cards += [f'{card} of {s}' for card in non_face_cards + face_cards for s in suit]\n",
        "            # Add logging to count number of decks\n",
        "            print(f'Creating deck {i}')\n",
        "        self.end_time = datetime.datetime.now()\n",
        "        print(f'The time it took to run was {self.end_time - self.start_time}. The amount of decks made was {deck}')\n",
        "        self.cards = cards\n",
        "    def __str__(self):\n",
        "        print(f'There are {self.number_of_cards} cards in the deck')\n",
        "# Shuffling the deck\n",
        "    def shuffle(self):\n",
        "        random.shuffle(self.cards)\n",
        "        print(f'We just shuffled the deck')\n",
        "    def cut(self,num_of_cards_to_cut = 0):\n",
        "        if num_of_cards_to_cut == 0:\n",
        "            print('You tapped the cards')\n",
        "        if num_of_cards_to_cut > 0 and num_of_cards_to_cut < self.number_of_cards:\n",
        "            self.cards = self.cards[num_of_cards_to_cut:] + self.cards[:num_of_cards_to_cut]\n",
        "# Dealing the cards\n",
        "    def deal(self,cards_to_deal=1):\n",
        "        if cards_to_deal > self.number_of_cards:\n",
        "            print('You cannot deal more cards than are in the deck')\n",
        "        else:\n",
        "            cards_dealt = []\n",
        "            for i in range(cards_to_deal):\n",
        "                if self.number_of_cards > 0:\n",
        "                    card = self.cards[0]\n",
        "                    cards.append(card)\n",
        "                    print(f'Dealt {card}')\n",
        "                    # remove the card\n",
        "                    self.cards.remove(card)\n",
        "                    self.number_of_cards -= 1\n",
        "            return cards_dealt\n",
        "    def create_blackJack(self,players):\n",
        "        player = {}\n",
        "        cards_to_deal = 2\n",
        "        player['Dealer'] = []\n",
        "        # deal 1 round of cards to each player and dealer.\n",
        "        for j in range(cards_to_deal):\n",
        "            for i in range(players):\n",
        "                player_name = f'Player_{i}'\n",
        "                if player_name not in player:\n",
        "                    player[player_name] = []\n",
        "                player[player_name] += self.deal()\n",
        "            player['Dealer'] += self.deal()\n",
        "            print(self.number_of_cards)\n",
        "        # print(player)\n",
        "        for k,v in player.items():\n",
        "            print(k,v)\n",
        "        # deal  2nd round of cards to players and dealer.\n",
        "if __name__ == '__main__':\n",
        "    new_deal = Deck_of_Cards()\n",
        "    print(new_deal.deal(3))\n",
        "    new_deal.shuffle()\n",
        "    new_deal.cut(26)\n",
        "    print(new_deal.number_of_cards)\n",
        "    #print(new_deal.create_blackJack(3))"
      ]
    },
    {
      "cell_type": "markdown",
      "metadata": {
        "id": "UHAOI8_7sf1D"
      },
      "source": [
        "<h2>Exercise</h2>\n",
        "Without using the built in max function in python, find the maximum value<br>\n",
        "in the following sequence:<br>\n",
        "<code>\n",
        "x = [1,2,0,5,1,4,-1,2]\n",
        "</code>"
      ]
    },
    {
      "cell_type": "markdown",
      "metadata": {
        "id": "FDYp03y3sf1D"
      },
      "source": [
        "<h4>Solution</h4>"
      ]
    },
    {
      "cell_type": "code",
      "execution_count": null,
      "metadata": {
        "id": "lvSfu0xLsf1E"
      },
      "outputs": [],
      "source": [
        "def get_max(lst):\n",
        "  greatest =0\n",
        "  for x in lst:\n",
        "    if x>greatest:\n",
        "      greatest = x\n",
        "  return greatest\n"
      ]
    },
    {
      "cell_type": "markdown",
      "metadata": {
        "id": "gAPiSN-Wsf1E"
      },
      "source": [
        "This notebook is part of a course at www.codeimmersives.com called Data Science. If you accessed this notebook outside the course, you can get more information about this course online by clicking here."
      ]
    },
    {
      "cell_type": "markdown",
      "metadata": {
        "id": "t1Atyqbksf1E"
      },
      "source": [
        "<hr>\n",
        "\n",
        "Copyright &copy; 2021  Code Immersives"
      ]
    }
  ],
  "metadata": {
    "kernelspec": {
      "display_name": "Python 3",
      "language": "python",
      "name": "python3"
    },
    "language_info": {
      "codemirror_mode": {
        "name": "ipython",
        "version": 3
      },
      "file_extension": ".py",
      "mimetype": "text/x-python",
      "name": "python",
      "nbconvert_exporter": "python",
      "pygments_lexer": "ipython3",
      "version": "3.8.2"
    },
    "colab": {
      "name": "CI Data Science - Lesson 04 - NO ANSWER.ipynb",
      "provenance": [],
      "collapsed_sections": []
    }
  },
  "nbformat": 4,
  "nbformat_minor": 0
}