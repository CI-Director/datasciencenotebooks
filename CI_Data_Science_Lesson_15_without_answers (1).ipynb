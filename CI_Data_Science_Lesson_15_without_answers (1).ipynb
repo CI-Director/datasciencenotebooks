{
  "cells": [
    {
      "cell_type": "markdown",
      "source": [
        "\n",
        "\n",
        "\n",
        "\n",
        "\n",
        "<a href=\"https://codeimmersives.com\"><img src = \"https://www.codeimmersives.com/wp-content/uploads/2019/09/CodeImmersives_Logo_RGB_NYC_BW.png\" width = 400> </a>\n",
        "\n",
        "\n",
        "<h1 align=center><font size = 5>Agenda</font></h1>"
      ],
      "metadata": {
        "id": "dyb6pNSGsNqY"
      }
    },
    {
      "cell_type": "markdown",
      "source": [
        "### \n",
        "<div class=\"alert alert-block alert-info\" style=\"margin-top: 20px\">\n",
        "\n",
        "1.  [Hwk Review](#0)<br>\n",
        "2.  [Matplotlib+Pandas Exercises](#2)<br>\n",
        "3.  Exercises in-class\n",
        "4.  [Review](#12)<br>     \n",
        "</div>\n",
        "<hr>"
      ],
      "metadata": {
        "id": "5Ftuc9zjvOi2"
      }
    },
    {
      "cell_type": "markdown",
      "source": [
        "<h2> Hwk Review </h2>\n"
      ],
      "metadata": {
        "id": "A8fDiSXEBa42"
      }
    },
    {
      "cell_type": "markdown",
      "source": [
        "Create a class that operates on words\n",
        "\n",
        "1 - method 'remove_vowels' - Strips all vowels out\n",
        "\n",
        "2 - method 'strip_constants' - Strips constants\n",
        "\n",
        "3 - method 'strip_fixed' - Strips based on a skip\n",
        "\n",
        "4 - print gives the word and and counts the number of vowels and the number of constants\n",
        "\n",
        "5 - Add a method that randomly removes up to n chars but has to be less than the length - 1(colapses) \n",
        "\n",
        "6 - On all removal options add option to replace the removal with a specified character. The default is an underscore '_'"
      ],
      "metadata": {
        "id": "VEhZimekBtas"
      }
    },
    {
      "cell_type": "code",
      "source": [
        "#1 import necessary libraries, variables, and create class\n",
        "import random\n",
        "VOWELS = [i.lower() for i in 'AEIOUY']\n",
        "class Words:\n",
        "    #2 define init\n",
        "    def __init__(self,word, removal_char = '_'):\n",
        "        self.word = word\n",
        "        self.removal_char = removal_char\n",
        "        self.current_state = self.random_remove()\n",
        "    #define methods\n",
        "    def remove_vowels(self):\n",
        "        return ''.join([self.removal_char if x in VOWELS else x for x in self.word])\n",
        "\n",
        "    def remove_consonants(self):\n",
        "        return ''.join([self.removal_char if not x in VOWELS else x for x in self.word])\n",
        "    \n",
        "    def strip_fixed(self,n=2):\n",
        "        return ''.join([self.removal_char if x % n == 0 else self.word[x] for x in range(len(self.word))])\n",
        "\n",
        "    def _str_(self):\n",
        "        return(f'''The word is {self.word}.\\n\n",
        "        It has {len(self.word)} letters.\\nVowel count = {self.count_vowels()}\\n\n",
        "        Constanants count = {self.count_constanants()}''')\n",
        "\n",
        "    def random_remove(self):\n",
        "        options = list(range(len(self.word)))\n",
        "        n = len(self.word)-1\n",
        "        items = []\n",
        "        for i in range(n,0,-1):\n",
        "            x = random.choice(options)\n",
        "            # print(f'You randomly choose {x}')\n",
        "            items.append(x)\n",
        "            # remove item from the list\n",
        "        items = set(items)\n",
        "        return ''.join([self.removal_char if i in items else char  for i,char in enumerate(self.word)])\n",
        " \n",
        "word = Words('aardvark')\n",
        "print(word)\n",
        "print(f'Remove vowels = {word.remove_vowels()}')\n",
        "print(f'Remove consonants = {word.remove_consonants()}')\n",
        "print(f'Remove fixed = {word.strip_fixed(4)}')\n",
        "# print(word.random_remove())\n",
        "# print(f'The current state is {word.current_state}')\n"
      ],
      "metadata": {
        "id": "YBq082jZBpCe"
      },
      "execution_count": null,
      "outputs": []
    },
    {
      "cell_type": "markdown",
      "source": [
        "<h2> Working with Pandas and Matplotlib </h2>"
      ],
      "metadata": {
        "id": "BS37NeloCVns"
      }
    },
    {
      "cell_type": "code",
      "source": [
        "import pandas as pd\n",
        "import matplotlib.pyplot as plt"
      ],
      "metadata": {
        "id": "Um8hBzziCbvH"
      },
      "execution_count": null,
      "outputs": []
    },
    {
      "cell_type": "markdown",
      "source": [
        "## MovieLens 1M Dataset"
      ],
      "metadata": {
        "id": "lvAyWRuQD08z"
      }
    },
    {
      "cell_type": "markdown",
      "source": [
        "working with 3 dat files - generic data types, in this case holding plain text, read in using pd.read_table(), assign labels with a look \n"
      ],
      "metadata": {
        "id": "vnjtiSvxD4YL"
      }
    },
    {
      "cell_type": "code",
      "source": [
        "# Make display smaller\n",
        "pd.options.display.max_rows = 10\n",
        "\n",
        "unames = ['user_id', 'gender', 'age', 'occupation', 'zip']\n",
        "users = pd.read_table('users.dat', sep='::',\n",
        "                      header=None, names=unames)\n",
        "\n",
        "rnames = ['user_id', 'movie_id', 'rating', 'timestamp']\n",
        "ratings = pd.read_table('ratings.dat', sep='::',\n",
        "                        header=None, names=rnames)\n",
        "\n",
        "mnames = ['movie_id', 'title', 'genres']\n",
        "movies = pd.read_table('movies.dat', sep='::',\n",
        "                       header=None, names=mnames)"
      ],
      "metadata": {
        "id": "k_OuAEHOD6yZ"
      },
      "execution_count": null,
      "outputs": []
    },
    {
      "cell_type": "markdown",
      "source": [
        "View the tables"
      ],
      "metadata": {
        "id": "pIPmJZCZFCx4"
      }
    },
    {
      "cell_type": "code",
      "source": [
        ""
      ],
      "metadata": {
        "id": "cMtLNgCuE3di"
      },
      "execution_count": null,
      "outputs": []
    },
    {
      "cell_type": "markdown",
      "source": [
        "It will be a good idea to merge for ease of access here...merges automatically on common columns..."
      ],
      "metadata": {
        "id": "dEeHyH6kFH3x"
      }
    },
    {
      "cell_type": "code",
      "source": [
        ""
      ],
      "metadata": {
        "id": "QfUzbK0wFL3y"
      },
      "execution_count": null,
      "outputs": []
    },
    {
      "cell_type": "markdown",
      "source": [
        "Now for filtering, I want to group by movie title and find only the 'active' titles. Active means that there are over 250 ratings at least in my dataset for the movie. How should I do this?"
      ],
      "metadata": {
        "id": "8s3CAL-PH8T2"
      }
    },
    {
      "cell_type": "code",
      "source": [
        ""
      ],
      "metadata": {
        "id": "QdWRtx39IOcF"
      },
      "execution_count": null,
      "outputs": []
    },
    {
      "cell_type": "markdown",
      "source": [
        "Introducing a nifty pandas shortcut to frame creation: the pivot table! Exact same creation mechanism as for dataframes (data, index, columns) but now we can specify an aggfunc parameter at the end. Defaults to 'mean'. Avoids the need for a lambda or iterable and recreates a new frame in place! "
      ],
      "metadata": {
        "id": "FWH28MLlKh4s"
      }
    },
    {
      "cell_type": "code",
      "source": [
        "mean_ratings = data.pivot_table('rating', index='title', #data, index, columns, aggfunc\n",
        "                                columns='gender', aggfunc='mean') #aggfunc = 'mean' default\n"
      ],
      "metadata": {
        "id": "MasCkersKpb5"
      },
      "execution_count": null,
      "outputs": []
    },
    {
      "cell_type": "markdown",
      "source": [
        "Now I want to filter mean ratings on only active ratings:\n"
      ],
      "metadata": {
        "id": "EGZddSDyMu-5"
      }
    },
    {
      "cell_type": "code",
      "source": [
        ""
      ],
      "metadata": {
        "id": "hai6s4PBM491"
      },
      "execution_count": null,
      "outputs": []
    },
    {
      "cell_type": "code",
      "source": [
        ""
      ],
      "metadata": {
        "id": "-BcmJyxbNQdG"
      },
      "execution_count": null,
      "outputs": []
    },
    {
      "cell_type": "markdown",
      "source": [
        "I want to see the top female ratings to get an insight into the movies that females prefer so:"
      ],
      "metadata": {
        "id": "Kv3tJbYsNbRP"
      }
    },
    {
      "cell_type": "code",
      "source": [
        ""
      ],
      "metadata": {
        "id": "-kHKkFwfNh6f"
      },
      "execution_count": null,
      "outputs": []
    },
    {
      "cell_type": "markdown",
      "source": [
        "I'm also interested in the movie ratings for which gender opinions differ the most so I'll examine this by creating a difference column subtracting the rating results between male and female reviewers and find the top results"
      ],
      "metadata": {
        "id": "NGPSiFJ5Nu-q"
      }
    },
    {
      "cell_type": "code",
      "source": [
        ""
      ],
      "metadata": {
        "id": "mu4WR2ouN7qC"
      },
      "execution_count": null,
      "outputs": []
    },
    {
      "cell_type": "code",
      "source": [
        ""
      ],
      "metadata": {
        "id": "lzeA8fhePILD"
      },
      "execution_count": null,
      "outputs": []
    },
    {
      "cell_type": "code",
      "source": [
        ""
      ],
      "metadata": {
        "id": "g8nYoHxaPHjH"
      },
      "execution_count": null,
      "outputs": []
    },
    {
      "cell_type": "markdown",
      "source": [
        "<h2> Exercise: </h2>\n",
        "1) Add on a rating stdev by title column. <br> \n",
        "2) Filter the rating standard deviations by active titles only. <br> \n",
        "3) Sort the series by value in descending order.<br> \n",
        "4) Plot the first 10 stdevs in your series in matplotlib "
      ],
      "metadata": {
        "id": "ljXi30SjQEjf"
      }
    },
    {
      "cell_type": "markdown",
      "source": [
        "<h2> Back to Y-Finance Exercise </h2>"
      ],
      "metadata": {
        "id": "VCEURNffGr9t"
      }
    },
    {
      "cell_type": "markdown",
      "source": [
        "Use the previously used yahoo finance pickle files to create two new dataframes. <br>\n",
        "1) Plot the price of Apple in the month of January and compare to a graph of the volume of Apple in January. <br> \n",
        "2) Plot the price of IBM in April and the price of Miscrosoft in April on one graph and compare. <br> \n",
        "3) Plot all prices over the year of 2010 in one graph. This may require some experimentation on your end to see what fits, what doesn't. <br>"
      ],
      "metadata": {
        "id": "B6DJAaP9GvqC"
      }
    },
    {
      "cell_type": "markdown",
      "source": [
        "Solution:"
      ],
      "metadata": {
        "id": "oWAvkm2tH1I7"
      }
    },
    {
      "cell_type": "code",
      "source": [
        ""
      ],
      "metadata": {
        "id": "TPzGXYhiGwBW"
      },
      "execution_count": null,
      "outputs": []
    },
    {
      "cell_type": "markdown",
      "source": [
        "<h3> Problem </h3>\n",
        "\n",
        "Using Yahoo Finance; download Bitcoin, Ethereum USD, and Tesla stocks for all of 2021. \n",
        "\n",
        "1) Clean the data\n",
        "\n",
        "2) Organize the stocks by date then symbol.\n",
        "\n",
        "3) Round all of the digits to 2 after the decimal\n",
        "\n",
        "4) Cal the highest stock price for the year for each stock.\n",
        "\n",
        "5) Then calc the lowest price \n",
        "\n",
        "6) Calc stock growth for the year. Did it go up or down? Plot the results for each stock in matplotlib using a graph and style of your choice. "
      ],
      "metadata": {
        "id": "BtPAKBcAQzCc"
      }
    },
    {
      "cell_type": "code",
      "source": [
        ""
      ],
      "metadata": {
        "id": "kHwwSmSiTc2S"
      },
      "execution_count": null,
      "outputs": []
    }
  ],
  "metadata": {
    "kernelspec": {
      "display_name": "Python 3",
      "language": "python",
      "name": "python3"
    },
    "language_info": {
      "codemirror_mode": {
        "name": "ipython",
        "version": 3
      },
      "file_extension": ".py",
      "mimetype": "text/x-python",
      "name": "python",
      "nbconvert_exporter": "python",
      "pygments_lexer": "ipython3",
      "version": "3.7.4"
    },
    "colab": {
      "name": "CI Data Science-Lesson 15_without answers.ipynb",
      "provenance": [],
      "collapsed_sections": []
    }
  },
  "nbformat": 4,
  "nbformat_minor": 0
}